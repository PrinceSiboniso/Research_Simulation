{
 "cells": [
  {
   "cell_type": "code",
   "execution_count": null,
   "metadata": {
    "id": "_l8f5b3nb0__"
   },
   "outputs": [],
   "source": [
    "import pandas as pd\n",
    "\n",
    "# Load the dataset\n",
    "df = pd.read_csv('sent_train.csv')\n",
    "print(df.head())"
   ]
  },
  {
   "cell_type": "code",
   "execution_count": null,
   "metadata": {
    "id": "4Ja3Mtxdcj9-"
   },
   "outputs": [],
   "source": [
    "import re\n",
    "import nltk\n",
    "from nltk.corpus import stopwords\n",
    "from nltk.tokenize import word_tokenize\n",
    "from nltk.stem import WordNetLemmatizer\n",
    "\n",
    "nltk.download('stopwords')\n",
    "nltk.download('punkt')\n",
    "nltk.download('wordnet')\n",
    "\n",
    "# Function to remove URLs\n",
    "def remove_urls(text):\n",
    "    url_pattern = r'http[s]?://\\S+'\n",
    "    return re.sub(url_pattern, '', text)\n",
    "\n",
    "# Apply the remove_urls function\n",
    "df['text'] = df['text'].apply(remove_urls)\n",
    "\n",
    "# Check for missing values\n",
    "print(df.isnull().sum())"
   ]
  },
  {
   "cell_type": "code",
   "execution_count": null,
   "metadata": {
    "id": "PURqSxGXcoD0"
   },
   "outputs": [],
   "source": [
    "# Tokenization and cleaning\n",
    "stop_words = set(stopwords.words('english'))\n",
    "lemmatizer = WordNetLemmatizer()\n",
    "\n",
    "def preprocess_text(text):\n",
    "    tokens = word_tokenize(text)\n",
    "    tokens = [lemmatizer.lemmatize(word) for word in tokens if word.lower() not in stop_words]\n",
    "    return tokens\n",
    "\n",
    "df['tokens'] = df['text'].apply(preprocess_text)\n",
    "print(df[['text', 'tokens']].head())"
   ]
  },
  {
   "cell_type": "code",
   "execution_count": null,
   "metadata": {
    "id": "TntZS0SXcsfm"
   },
   "outputs": [],
   "source": [
    "from imblearn.over_sampling import RandomOverSampler\n",
    "from sklearn.model_selection import train_test_split\n",
    "\n",
    "# Assuming 'label' is your target variable\n",
    "X = df['tokens']\n",
    "Y = df['label']\n",
    "\n",
    "# Convert tokens back to string for model input\n",
    "X = X.apply(lambda tokens: ' '.join(tokens))\n",
    "\n",
    "# Train-test split (70% training, 30% testing)\n",
    "X_train, X_test, Y_train, Y_test = train_test_split(X, Y, test_size=0.3, random_state=42)\n",
    "\n",
    "# Handle class imbalance\n",
    "ros = RandomOverSampler(random_state=42)\n",
    "X_resampled, Y_resampled = ros.fit_resample(X_train.values.reshape(-1, 1), Y_train)"
   ]
  },
  {
   "cell_type": "code",
   "execution_count": null,
   "metadata": {
    "id": "Diqj3cwEcvFC"
   },
   "outputs": [],
   "source": [
    "from tensorflow.keras.preprocessing.text import Tokenizer\n",
    "from tensorflow.keras.preprocessing.sequence import pad_sequences\n",
    "\n",
    "MAX_NB_WORDS = 50000\n",
    "MAX_SEQUENCE_LENGTH = 200\n",
    "\n",
    "tokenizer = Tokenizer(num_words=MAX_NB_WORDS)\n",
    "tokenizer.fit_on_texts(X_resampled.flatten())\n",
    "X_train_seq = tokenizer.texts_to_sequences(X_resampled.flatten())\n",
    "X_train_padded = pad_sequences(X_train_seq, maxlen=MAX_SEQUENCE_LENGTH)\n",
    "\n",
    "X_test_seq = tokenizer.texts_to_sequences(X_test)\n",
    "X_test_padded = pad_sequences(X_test_seq, maxlen=MAX_SEQUENCE_LENGTH)"
   ]
  },
  {
   "cell_type": "code",
   "execution_count": null,
   "metadata": {
    "id": "vuQvR6aacvLh"
   },
   "outputs": [],
   "source": [
    "from keras.models import Sequential\n",
    "from keras.layers import Embedding, LSTM, Dense, Dropout\n",
    "\n",
    "def build_lstm_model(max_nb_words, max_sequence_length):\n",
    "    model = Sequential()\n",
    "    model.add(Embedding(input_dim=max_nb_words, output_dim=128))\n",
    "    model.add(LSTM(128, return_sequences=True))\n",
    "    model.add(LSTM(64))\n",
    "    model.add(Dense(32, activation='relu'))\n",
    "    model.add(Dense(1, activation='sigmoid'))\n",
    "\n",
    "    model.compile(loss='binary_crossentropy', optimizer='adam', metrics=['accuracy'])\n",
    "    return model\n",
    "\n",
    "model_lstm = build_lstm_model(MAX_NB_WORDS, MAX_SEQUENCE_LENGTH)\n",
    "model_lstm.summary()"
   ]
  },
  {
   "cell_type": "code",
   "execution_count": null,
   "metadata": {
    "id": "4bVaMU6NcvN5"
   },
   "outputs": [],
   "source": [
    "from keras.layers import Conv1D, MaxPooling1D\n",
    "\n",
    "def build_cnn_lstm_model(max_nb_words, max_sequence_length):\n",
    "    model = Sequential()\n",
    "    model.add(Embedding(input_dim=max_nb_words, output_dim=128))\n",
    "    model.add(Conv1D(64, kernel_size=3, padding='same', activation='relu'))\n",
    "    model.add(MaxPooling1D(pool_size=2))\n",
    "    model.add(LSTM(64))\n",
    "    model.add(Dense(32, activation='relu'))\n",
    "    model.add(Dense(1, activation='sigmoid'))\n",
    "\n",
    "    model.compile(loss='binary_crossentropy', optimizer='adam', metrics=['accuracy'])\n",
    "    return model\n",
    "\n",
    "model_cnn_lstm = build_cnn_lstm_model(MAX_NB_WORDS, MAX_SEQUENCE_LENGTH)\n",
    "model_cnn_lstm.summary()"
   ]
  },
  {
   "cell_type": "code",
   "execution_count": null,
   "metadata": {
    "id": "pfyZ1iEHcvQS"
   },
   "outputs": [],
   "source": [
    "from keras.layers import GRU\n",
    "\n",
    "def build_gru_lstm_model(max_nb_words, max_sequence_length):\n",
    "    model = Sequential()\n",
    "    model.add(Embedding(input_dim=max_nb_words, output_dim=128))\n",
    "    model.add(GRU(64, return_sequences=True))\n",
    "    model.add(GRU(32))\n",
    "    model.add(Dense(32, activation='relu'))\n",
    "    model.add(Dense(1, activation='sigmoid'))\n",
    "\n",
    "    model.compile(loss='binary_crossentropy', optimizer='adam', metrics=['accuracy'])\n",
    "    return model\n",
    "\n",
    "model_gru_lstm = build_gru_lstm_model(MAX_NB_WORDS, MAX_SEQUENCE_LENGTH)\n",
    "model_gru_lstm.summary()\n"
   ]
  },
  {
   "cell_type": "code",
   "execution_count": null,
   "metadata": {
    "id": "mnb2vaLNcvSj"
   },
   "outputs": [],
   "source": [
    "import tensorflow as tf\n",
    "from tensorflow.keras.layers import MultiHeadAttention, LayerNormalization, Dense, Dropout, Embedding, GlobalAveragePooling1D\n",
    "\n",
    "def transformer_block(inputs, head_size, num_heads, ff_dim, dropout=0):\n",
    "    x = MultiHeadAttention(key_dim=head_size, num_heads=num_heads)(inputs, inputs)\n",
    "    x = Dropout(dropout)(x)\n",
    "    x = LayerNormalization(epsilon=1e-6)(x)\n",
    "    res = x + inputs  # Residual connection\n",
    "    x = Dense(ff_dim, activation='relu')(res)\n",
    "    x = Dropout(dropout)(x)\n",
    "    x = LayerNormalization(epsilon=1e-6)(x)\n",
    "    return x\n",
    "\n",
    "def build_transformer_model(max_nb_words, max_sequence_length):\n",
    "    input_layer = tf.keras.layers.Input(shape=(max_sequence_length,))\n",
    "    x = Embedding(input_dim=max_nb_words, output_dim=128)(input_layer)\n",
    "    x = transformer_block(x, head_size=128, num_heads=8, ff_dim=128)\n",
    "    x = GlobalAveragePooling1D()(x)\n",
    "    x = Dense(32, activation='relu')(x)\n",
    "    x = Dense(1, activation='sigmoid')(x)  # Output layer for binary classification\n",
    "\n",
    "    model = tf.keras.models.Model(inputs=input_layer, outputs=x)\n",
    "    model.compile(loss='binary_crossentropy', optimizer='adam', metrics=['accuracy'])\n",
    "    return model\n",
    "\n",
    "model_transformer = build_transformer_model(MAX_NB_WORDS, MAX_SEQUENCE_LENGTH)\n",
    "model_transformer.summary()"
   ]
  },
  {
   "cell_type": "code",
   "execution_count": null,
   "metadata": {
    "colab": {
     "base_uri": "https://localhost:8080/"
    },
    "id": "Y2NDj0EXcvUt",
    "outputId": "662251b6-5f63-4fa0-8132-e2b9e5b0ba81"
   },
   "outputs": [
    {
     "name": "stdout",
     "output_type": "stream",
     "text": [
      "Shape of X_train_padded: (6680, 200)\n",
      "Shape of Y_train: (6680,)\n",
      "Epoch 1/10\n",
      "\u001b[1m209/209\u001b[0m \u001b[32m━━━━━━━━━━━━━━━━━━━━\u001b[0m\u001b[37m\u001b[0m \u001b[1m129s\u001b[0m 577ms/step - accuracy: 0.2036 - loss: -11.0709 - val_accuracy: 0.2029 - val_loss: -63.3043\n",
      "Epoch 2/10\n",
      "\u001b[1m209/209\u001b[0m \u001b[32m━━━━━━━━━━━━━━━━━━━━\u001b[0m\u001b[37m\u001b[0m \u001b[1m139s\u001b[0m 569ms/step - accuracy: 0.2066 - loss: -94.6815 - val_accuracy: 0.2029 - val_loss: -220.0691\n",
      "Epoch 3/10\n",
      "\u001b[1m209/209\u001b[0m \u001b[32m━━━━━━━━━━━━━━━━━━━━\u001b[0m\u001b[37m\u001b[0m \u001b[1m151s\u001b[0m 614ms/step - accuracy: 0.2038 - loss: -275.4050 - val_accuracy: 0.2029 - val_loss: -474.6429\n",
      "Epoch 4/10\n",
      "\u001b[1m209/209\u001b[0m \u001b[32m━━━━━━━━━━━━━━━━━━━━\u001b[0m\u001b[37m\u001b[0m \u001b[1m129s\u001b[0m 617ms/step - accuracy: 0.2049 - loss: -563.5254 - val_accuracy: 0.2029 - val_loss: -818.9836\n",
      "Epoch 5/10\n",
      "\u001b[1m209/209\u001b[0m \u001b[32m━━━━━━━━━━━━━━━━━━━━\u001b[0m\u001b[37m\u001b[0m \u001b[1m118s\u001b[0m 567ms/step - accuracy: 0.2067 - loss: -938.6503 - val_accuracy: 0.2029 - val_loss: -1247.2324\n",
      "Epoch 6/10\n",
      "\u001b[1m209/209\u001b[0m \u001b[32m━━━━━━━━━━━━━━━━━━━━\u001b[0m\u001b[37m\u001b[0m \u001b[1m139s\u001b[0m 555ms/step - accuracy: 0.1965 - loss: -1410.7908 - val_accuracy: 0.2029 - val_loss: -1758.0828\n",
      "Epoch 7/10\n",
      "\u001b[1m209/209\u001b[0m \u001b[32m━━━━━━━━━━━━━━━━━━━━\u001b[0m\u001b[37m\u001b[0m \u001b[1m146s\u001b[0m 576ms/step - accuracy: 0.2030 - loss: -1916.5028 - val_accuracy: 0.2029 - val_loss: -2340.8245\n",
      "Epoch 8/10\n",
      "\u001b[1m209/209\u001b[0m \u001b[32m━━━━━━━━━━━━━━━━━━━━\u001b[0m\u001b[37m\u001b[0m \u001b[1m146s\u001b[0m 592ms/step - accuracy: 0.2152 - loss: -2516.5901 - val_accuracy: 0.2029 - val_loss: -2991.7332\n",
      "Epoch 9/10\n",
      "\u001b[1m209/209\u001b[0m \u001b[32m━━━━━━━━━━━━━━━━━━━━\u001b[0m\u001b[37m\u001b[0m \u001b[1m129s\u001b[0m 619ms/step - accuracy: 0.2013 - loss: -3189.7131 - val_accuracy: 0.2029 - val_loss: -3707.4648\n",
      "Epoch 10/10\n",
      "\u001b[1m209/209\u001b[0m \u001b[32m━━━━━━━━━━━━━━━━━━━━\u001b[0m\u001b[37m\u001b[0m \u001b[1m134s\u001b[0m 581ms/step - accuracy: 0.2031 - loss: -3943.0439 - val_accuracy: 0.2029 - val_loss: -4483.8428\n",
      "Epoch 1/10\n",
      "\u001b[1m209/209\u001b[0m \u001b[32m━━━━━━━━━━━━━━━━━━━━\u001b[0m\u001b[37m\u001b[0m \u001b[1m37s\u001b[0m 158ms/step - accuracy: 0.2015 - loss: -11.7243 - val_accuracy: 0.2029 - val_loss: -64.5543\n",
      "Epoch 2/10\n",
      "\u001b[1m209/209\u001b[0m \u001b[32m━━━━━━━━━━━━━━━━━━━━\u001b[0m\u001b[37m\u001b[0m \u001b[1m34s\u001b[0m 163ms/step - accuracy: 0.2050 - loss: -95.1912 - val_accuracy: 0.2029 - val_loss: -207.5756\n",
      "Epoch 3/10\n",
      "\u001b[1m209/209\u001b[0m \u001b[32m━━━━━━━━━━━━━━━━━━━━\u001b[0m\u001b[37m\u001b[0m \u001b[1m34s\u001b[0m 162ms/step - accuracy: 0.2033 - loss: -280.3517 - val_accuracy: 0.2029 - val_loss: -431.3995\n",
      "Epoch 4/10\n",
      "\u001b[1m209/209\u001b[0m \u001b[32m━━━━━━━━━━━━━━━━━━━━\u001b[0m\u001b[37m\u001b[0m \u001b[1m40s\u001b[0m 159ms/step - accuracy: 0.1969 - loss: -606.4546 - val_accuracy: 0.2029 - val_loss: -754.5756\n",
      "Epoch 5/10\n",
      "\u001b[1m209/209\u001b[0m \u001b[32m━━━━━━━━━━━━━━━━━━━━\u001b[0m\u001b[37m\u001b[0m \u001b[1m42s\u001b[0m 163ms/step - accuracy: 0.2030 - loss: -1057.2107 - val_accuracy: 0.2029 - val_loss: -1135.5115\n",
      "Epoch 6/10\n",
      "\u001b[1m209/209\u001b[0m \u001b[32m━━━━━━━━━━━━━━━━━━━━\u001b[0m\u001b[37m\u001b[0m \u001b[1m41s\u001b[0m 164ms/step - accuracy: 0.2016 - loss: -1576.1708 - val_accuracy: 0.2029 - val_loss: -1548.0323\n",
      "Epoch 7/10\n",
      "\u001b[1m209/209\u001b[0m \u001b[32m━━━━━━━━━━━━━━━━━━━━\u001b[0m\u001b[37m\u001b[0m \u001b[1m34s\u001b[0m 164ms/step - accuracy: 0.2009 - loss: -2222.2742 - val_accuracy: 0.2029 - val_loss: -2122.2944\n",
      "Epoch 8/10\n",
      "\u001b[1m209/209\u001b[0m \u001b[32m━━━━━━━━━━━━━━━━━━━━\u001b[0m\u001b[37m\u001b[0m \u001b[1m43s\u001b[0m 175ms/step - accuracy: 0.2017 - loss: -2951.9851 - val_accuracy: 0.2029 - val_loss: -2714.3193\n",
      "Epoch 9/10\n",
      "\u001b[1m209/209\u001b[0m \u001b[32m━━━━━━━━━━━━━━━━━━━━\u001b[0m\u001b[37m\u001b[0m \u001b[1m32s\u001b[0m 155ms/step - accuracy: 0.1953 - loss: -3737.8965 - val_accuracy: 0.2029 - val_loss: -3387.1785\n",
      "Epoch 10/10\n",
      "\u001b[1m209/209\u001b[0m \u001b[32m━━━━━━━━━━━━━━━━━━━━\u001b[0m\u001b[37m\u001b[0m \u001b[1m41s\u001b[0m 154ms/step - accuracy: 0.1959 - loss: -4665.4497 - val_accuracy: 0.2029 - val_loss: -4014.2520\n",
      "Epoch 1/10\n",
      "\u001b[1m209/209\u001b[0m \u001b[32m━━━━━━━━━━━━━━━━━━━━\u001b[0m\u001b[37m\u001b[0m \u001b[1m75s\u001b[0m 333ms/step - accuracy: 0.2031 - loss: -6.2518 - val_accuracy: 0.2029 - val_loss: -33.1712\n",
      "Epoch 2/10\n",
      "\u001b[1m209/209\u001b[0m \u001b[32m━━━━━━━━━━━━━━━━━━━━\u001b[0m\u001b[37m\u001b[0m \u001b[1m67s\u001b[0m 319ms/step - accuracy: 0.1998 - loss: -49.6720 - val_accuracy: 0.2029 - val_loss: -107.4596\n",
      "Epoch 3/10\n",
      "\u001b[1m209/209\u001b[0m \u001b[32m━━━━━━━━━━━━━━━━━━━━\u001b[0m\u001b[37m\u001b[0m \u001b[1m83s\u001b[0m 324ms/step - accuracy: 0.2062 - loss: -138.2918 - val_accuracy: 0.2029 - val_loss: -226.9014\n",
      "Epoch 4/10\n",
      "\u001b[1m209/209\u001b[0m \u001b[32m━━━━━━━━━━━━━━━━━━━━\u001b[0m\u001b[37m\u001b[0m \u001b[1m86s\u001b[0m 342ms/step - accuracy: 0.2052 - loss: -276.2395 - val_accuracy: 0.2029 - val_loss: -388.5233\n",
      "Epoch 5/10\n",
      "\u001b[1m209/209\u001b[0m \u001b[32m━━━━━━━━━━━━━━━━━━━━\u001b[0m\u001b[37m\u001b[0m \u001b[1m85s\u001b[0m 355ms/step - accuracy: 0.2082 - loss: -433.3149 - val_accuracy: 0.2029 - val_loss: -590.2643\n",
      "Epoch 6/10\n",
      "\u001b[1m209/209\u001b[0m \u001b[32m━━━━━━━━━━━━━━━━━━━━\u001b[0m\u001b[37m\u001b[0m \u001b[1m75s\u001b[0m 321ms/step - accuracy: 0.1967 - loss: -682.1494 - val_accuracy: 0.2029 - val_loss: -829.0529\n",
      "Epoch 7/10\n",
      "\u001b[1m209/209\u001b[0m \u001b[32m━━━━━━━━━━━━━━━━━━━━\u001b[0m\u001b[37m\u001b[0m \u001b[1m85s\u001b[0m 338ms/step - accuracy: 0.1984 - loss: -930.6915 - val_accuracy: 0.2029 - val_loss: -1104.5728\n",
      "Epoch 8/10\n",
      "\u001b[1m209/209\u001b[0m \u001b[32m━━━━━━━━━━━━━━━━━━━━\u001b[0m\u001b[37m\u001b[0m \u001b[1m70s\u001b[0m 333ms/step - accuracy: 0.1974 - loss: -1218.4445 - val_accuracy: 0.2029 - val_loss: -1411.4703\n",
      "Epoch 9/10\n",
      "\u001b[1m209/209\u001b[0m \u001b[32m━━━━━━━━━━━━━━━━━━━━\u001b[0m\u001b[37m\u001b[0m \u001b[1m70s\u001b[0m 334ms/step - accuracy: 0.1905 - loss: -1562.7994 - val_accuracy: 0.2029 - val_loss: -1751.4192\n",
      "Epoch 10/10\n",
      "\u001b[1m209/209\u001b[0m \u001b[32m━━━━━━━━━━━━━━━━━━━━\u001b[0m\u001b[37m\u001b[0m \u001b[1m81s\u001b[0m 329ms/step - accuracy: 0.2051 - loss: -1898.9927 - val_accuracy: 0.2029 - val_loss: -2117.6118\n",
      "Epoch 1/10\n",
      "\u001b[1m209/209\u001b[0m \u001b[32m━━━━━━━━━━━━━━━━━━━━\u001b[0m\u001b[37m\u001b[0m \u001b[1m361s\u001b[0m 2s/step - accuracy: 0.2099 - loss: -27.6343 - val_accuracy: 0.2029 - val_loss: -204.2740\n",
      "Epoch 2/10\n",
      "\u001b[1m209/209\u001b[0m \u001b[32m━━━━━━━━━━━━━━━━━━━━\u001b[0m\u001b[37m\u001b[0m \u001b[1m0s\u001b[0m 1s/step - accuracy: 0.2055 - loss: -380.7901"
     ]
    }
   ],
   "source": [
    "# Check the shapes of X_train_padded and Y_train\n",
    "print(\"Shape of X_train_padded:\", X_train_padded.shape)\n",
    "print(\"Shape of Y_train:\", Y_train.shape)\n",
    "\n",
    "# Instead of assertion, investigate the issue\n",
    "if X_train_padded.shape[0] != Y_train.shape[0]:\n",
    "    print(f\"WARNING: Input and target data have different number of samples.\")\n",
    "    print(f\"X_train_padded samples: {X_train_padded.shape[0]}\")\n",
    "    print(f\"Y_train samples: {Y_train.shape[0]}\")\n",
    "    # Add code here to investigate and fix the mismatch.\n",
    "    # This may involve revisiting data loading/preprocessing steps.\n",
    "    # For example, check if data splitting was done correctly.\n",
    "\n",
    "    # Assuming X_train_padded contains duplicated data,\n",
    "    # take only the first half:\n",
    "    X_train_padded = X_train_padded[:Y_train.shape[0]]\n",
    "    print(\"Shape of X_train_padded after truncation:\", X_train_padded.shape)\n",
    "\n",
    "# Define the number of epochs and batch size\n",
    "epochs = 10  # You can adjust this value as needed\n",
    "batch_size = 32  # You can adjust this value as needed\n",
    "\n",
    "# Train LSTM model\n",
    "history_lstm = model_lstm.fit(X_train_padded, Y_train, validation_data=(X_test_padded, Y_test), epochs=epochs, batch_size=batch_size)\n",
    "\n",
    "# Train CNN-LSTM model\n",
    "history_cnn_lstm = model_cnn_lstm.fit(X_train_padded, Y_train, validation_data=(X_test_padded, Y_test), epochs=epochs, batch_size=batch_size)\n",
    "\n",
    "# Train GRU-LSTM model\n",
    "history_gru_lstm = model_gru_lstm.fit(X_train_padded, Y_train, validation_data=(X_test_padded, Y_test), epochs=epochs, batch_size=batch_size)\n",
    "\n",
    "# Train Transformer model\n",
    "history_transformer = model_transformer.fit(X_train_padded, Y_train, validation_data=(X_test_padded, Y_test), epochs=epochs, batch_size=batch_size)"
   ]
  },
  {
   "cell_type": "code",
   "execution_count": null,
   "metadata": {
    "id": "_wg9nCZjAcn3"
   },
   "outputs": [],
   "source": [
    "# Check the shapes of X_train_padded and Y_train\n",
    "print(\"Shape of X_train_padded:\", X_train_padded.shape)\n",
    "print(\"Shape of Y_train:\", Y_train.shape)\n",
    "\n",
    "# Instead of assertion, investigate the issue\n",
    "if X_train_padded.shape[0] != Y_train.shape[0]:\n",
    "    print(f\"WARNING: Input and target data have different number of samples.\")\n",
    "    print(f\"X_train_padded samples: {X_train_padded.shape[0]}\")\n",
    "    print(f\"Y_train samples: {Y_train.shape[0]}\")\n",
    "    # Add code here to investigate and fix the mismatch.\n",
    "    # This may involve revisiting data loading/preprocessing steps.\n",
    "    # For example, check if data splitting was done correctly.\n",
    "\n",
    "    # Assuming there was an error in data splitting and X_train_padded contains\n",
    "    # duplicate data, we can truncate X_train_padded to match Y_train's size:\n",
    "    X_train_padded = X_train_padded[:Y_train.shape[0]]\n"
   ]
  },
  {
   "cell_type": "code",
   "execution_count": null,
   "metadata": {
    "id": "J6TUCSnCBQU1"
   },
   "outputs": [],
   "source": [
    "# # Check the shapes of X_train_padded and Y_train\n",
    "# print(\"Shape of X_train_padded:\", X_train_padded.shape)\n",
    "# print(\"Shape of Y_train:\", Y_train.shape)\n",
    "\n",
    "# # Instead of assertion, investigate the issue\n",
    "# if X_train_padded.shape[0] != Y_train.shape[0]:\n",
    "#     print(f\"WARNING: Input and target data have different number of samples.\")\n",
    "#     print(f\"X_train_padded samples: {X_train_padded.shape[0]}\")\n",
    "#     print(f\"Y_train samples: {Y_train.shape[0]}\")\n",
    "#     # Add code here to investigate and fix the mismatch.\n",
    "#     # This may involve revisiting data loading/preprocessing steps.\n",
    "#     # For example, check if data splitting was done correctly.\n",
    "\n",
    "#     # Assuming X_train_padded contains duplicated data,\n",
    "#     # take only the first half:\n",
    "#     X_train_padded = X_train_padded[:Y_train.shape[0]]\n",
    "#     print(\"Shape of X_train_padded after truncation:\", X_train_padded.shape)\n",
    "\n",
    "# # Train LSTM model\n",
    "# history_lstm = model_lstm.fit(X_train_padded, Y_train, validation_data=(X_test_padded, Y_test), epochs=epochs, batch_size=batch_size)"
   ]
  },
  {
   "cell_type": "code",
   "execution_count": null,
   "metadata": {
    "id": "UrgRFaE6cvXP"
   },
   "outputs": [],
   "source": [
    "import numpy as np\n",
    "from sklearn.metrics import confusion_matrix, accuracy_score, precision_score, recall_score, f1_score\n",
    "\n",
    "# Function to evaluate the model\n",
    "def evaluate_model(model, X_test, Y_test, model_name):\n",
    "    y_pred = (model.predict(X_test) > 0.5).astype(int)\n",
    "    accuracy = accuracy_score(Y_test, y_pred)\n",
    "    precision = precision_score(Y_test, y_pred, average='weighted')\n",
    "    recall = recall_score(Y_test, y_pred, average='weighted')\n",
    "    f1 = f1_score(Y_test, y_pred, average='weighted')\n",
    "\n",
    "    print(f\"Evaluation metrics for {model_name}:\")\n",
    "    print(f\"Accuracy: {accuracy:.4f}\")\n",
    "    print(f\"Precision: {precision:.4f}\")\n",
    "    print(f\"Recall: {recall:.4f}\")\n",
    "    print(f\"F1-score: {f1:.4f}\")\n",
    "    print(\"\\n\")\n",
    "\n",
    "# Evaluate each model\n",
    "evaluate_model(model_lstm, X_test_padded, Y_test, \"LSTM\")\n",
    "evaluate_model(model_cnn_lstm, X_test_padded, Y_test, \"CNN-LSTM\")\n",
    "evaluate_model(model_gru_lstm, X_test_padded, Y_test, \"GRU-LSTM\")\n",
    "evaluate_model(model_transformer, X_test_padded, Y_test, \"Transformer\")"
   ]
  },
  {
   "cell_type": "code",
   "execution_count": null,
   "metadata": {
    "id": "2Lp5yGPGcvZm"
   },
   "outputs": [],
   "source": [
    "import numpy as np\n",
    "from sklearn.metrics import confusion_matrix, accuracy_score, precision_score, recall_score, f1_score\n",
    "\n",
    "# Function to evaluate the model\n",
    "def evaluate_model(model, X_test, Y_test, model_name):\n",
    "    y_pred = (model.predict(X_test) > 0.5).astype(int)\n",
    "    accuracy = accuracy_score(Y_test, y_pred)\n",
    "    precision = precision_score(Y_test, y_pred, average='weighted')\n",
    "    recall = recall_score(Y_test, y_pred, average='weighted')\n",
    "    f1 = f1_score(Y_test, y_pred, average='weighted')\n",
    "\n",
    "    print(f\"Evaluation metrics for {model_name}:\")\n",
    "    print(f\"Accuracy: {accuracy:.4f}\")\n",
    "    print(f\"Precision: {precision:.4f}\")\n",
    "    print(f\"Recall: {recall:.4f}\")\n",
    "    print(f\"F1-score: {f1:.4f}\")\n",
    "    print(\"\\n\")\n",
    "\n",
    "# Evaluate each model\n",
    "evaluate_model(model_lstm, X_test_padded, Y_test, \"LSTM\")\n",
    "evaluate_model(model_cnn_lstm, X_test_padded, Y_test, \"CNN-LSTM\")\n",
    "evaluate_model(model_gru_lstm, X_test_padded, Y_test, \"GRU-LSTM\")\n",
    "evaluate_model(model_transformer, X_test_padded, Y_test, \"Transformer\")"
   ]
  },
  {
   "cell_type": "code",
   "execution_count": null,
   "metadata": {
    "id": "TbrAo4MXcvbw"
   },
   "outputs": [],
   "source": [
    "def plot_training_history(history, model_name):\n",
    "    # Plot training & validation accuracy values\n",
    "    plt.figure(figsize=(12, 4))\n",
    "\n",
    "    plt.subplot(1, 2, 1)\n",
    "    plt.plot(history.history['accuracy'], label='Train Accuracy')\n",
    "    plt.plot(history.history['val_accuracy'], label='Validation Accuracy')\n",
    "    plt.title(f'{model_name} Accuracy')\n",
    "    plt.ylabel('Accuracy')\n",
    "    plt.xlabel('Epoch')\n",
    "    plt.legend()\n",
    "\n",
    "    # Plot training & validation loss values\n",
    "    plt.subplot(1, 2, 2)\n",
    "    plt.plot(history.history['loss'], label='Train Loss')\n",
    "    plt.plot(history.history['val_loss'], label='Validation Loss')\n",
    "    plt.title(f'{model_name} Loss')\n",
    "    plt.ylabel('Loss')\n",
    "    plt.xlabel('Epoch')\n",
    "    plt.legend()\n",
    "\n",
    "    plt.tight_layout()\n",
    "    plt.show()\n",
    "\n",
    "# Plot training history for each model\n",
    "plot_training_history(history_lstm, \"LSTM\")\n",
    "plot_training_history(history_cnn_lstm, \"CNN-LSTM\")\n",
    "plot_training_history(history_gru_lstm, \"GRU-LSTM\")\n",
    "plot_training_history(history_transformer, \"Transformer\")"
   ]
  },
  {
   "cell_type": "code",
   "execution_count": null,
   "metadata": {
    "id": "iBs_LJq-cvd-"
   },
   "outputs": [],
   "source": [
    "# Save the models\n",
    "model_lstm.save('model_lstm.h5')\n",
    "model_cnn_lstm.save('model_cnn_lstm.h5')\n",
    "model_gru_lstm.save('model_gru_lstm.h5')\n",
    "model_transformer.save('model_transformer.h5')\n",
    "\n",
    "print(\"Models saved successfully!\")"
   ]
  },
  {
   "cell_type": "code",
   "execution_count": null,
   "metadata": {
    "id": "uBJJ2o1lcvgG"
   },
   "outputs": [],
   "source": [
    "from tensorflow.keras.models import load_model\n",
    "\n",
    "# Load the models\n",
    "loaded_model_lstm = load_model('model_lstm.h5')\n",
    "loaded_model_cnn_lstm = load_model('model_cnn_lstm.h5')\n",
    "loaded_model_gru_lstm = load_model('model_gru_lstm.h5')\n",
    "loaded_model_transformer = load_model('model_transformer.h5')\n",
    "\n",
    "print(\"Models loaded successfully!\")"
   ]
  },
  {
   "cell_type": "code",
   "execution_count": null,
   "metadata": {
    "id": "jckZn72ucviL"
   },
   "outputs": [],
   "source": [
    "from kerastuner import HyperModel, RandomSearch\n",
    "\n",
    "class LSTMHyperModel(HyperModel):\n",
    "    def build(self, hp):\n",
    "        model = Sequential()\n",
    "        model.add(Embedding(input_dim=MAX_NB_WORDS, output_dim=hp.Int('embedding_dim', 64, 256, step=64)))\n",
    "        model.add(LSTM(hp.Int('lstm_units', 32, 128, step=32), return_sequences=True))\n",
    "        model.add(LSTM(hp.Int('lstm_units_2', 32, 128, step=32)))\n",
    "        model.add(Dense(32, activation='relu'))\n",
    "        model.add(Dense(1, activation='sigmoid'))\n",
    "\n",
    "        model.compile(loss='binary_crossentropy', optimizer='adam', metrics=['accuracy'])\n",
    "        return model\n",
    "\n",
    "# Define the hypermodel\n",
    "hypermodel = LSTMHyperModel()\n",
    "\n",
    "# Search for the best hyperparameters\n",
    "tuner = RandomSearch(\n",
    "    hypermodel,\n",
    "    objective='val_accuracy',\n",
    "    max_trials=5,\n",
    "    executions_per_trial=1,\n",
    "    directory='my_dir',\n",
    "    project_name='lstm_tuning'\n",
    ")\n",
    "\n",
    "# Start the hyperparameter search\n",
    "tuner.search(X_train_padded, Y_train, epochs=10, validation_data=(X_test_padded, Y_test), batch_size=64)\n",
    "\n",
    "# Retrieve the best model\n",
    "best_model = tuner.get_best_models(num_models=1)[0]\n",
    "\n",
    "# Print the summary of the best model\n",
    "best_model.summary()\n",
    "\n",
    "# Evaluate the best model\n",
    "evaluate_model(best_model, X_test_padded, Y_test, \"Best LSTM Hyperparameter Model\")"
   ]
  },
  {
   "cell_type": "code",
   "execution_count": null,
   "metadata": {
    "id": "MblQ-6l6cvlA"
   },
   "outputs": [],
   "source": []
  }
 ],
 "metadata": {
  "accelerator": "GPU",
  "colab": {
   "gpuType": "T4",
   "provenance": []
  },
  "kernelspec": {
   "display_name": "Python 3 (ipykernel)",
   "language": "python",
   "name": "python3"
  },
  "language_info": {
   "codemirror_mode": {
    "name": "ipython",
    "version": 3
   },
   "file_extension": ".py",
   "mimetype": "text/x-python",
   "name": "python",
   "nbconvert_exporter": "python",
   "pygments_lexer": "ipython3",
   "version": "3.12.3"
  }
 },
 "nbformat": 4,
 "nbformat_minor": 1
}
