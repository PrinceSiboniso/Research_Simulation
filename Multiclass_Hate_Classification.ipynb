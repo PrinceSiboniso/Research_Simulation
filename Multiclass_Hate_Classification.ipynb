{
 "cells": [
  {
   "cell_type": "code",
   "execution_count": null,
   "metadata": {
    "id": "LLsV8t_1TjxF"
   },
   "outputs": [],
   "source": [
    "import numpy as np \n",
    "import pandas as pd\n",
    "import matplotlib.pyplot as plt\n",
    "import seaborn as sns\n",
    "import model_evaluation_utils as meu"
   ]
  },
  {
   "cell_type": "code",
   "execution_count": null,
   "metadata": {
    "id": "v2Bl6UQsT7va"
   },
   "outputs": [],
   "source": [
    "from keras.preprocessing.text import Tokenizer\n",
    "from keras.preprocessing.sequence import pad_sequences\n",
    "from keras.models import Sequential"
   ]
  },
  {
   "cell_type": "code",
   "execution_count": null,
   "metadata": {
    "id": "oZZeKrnBT-DQ"
   },
   "outputs": [],
   "source": [
    "from keras.layers import Dense, Embedding, LSTM, SpatialDropout1D\n",
    "from sklearn.model_selection import train_test_split\n",
    "from keras.utils.np_utils import to_categorical"
   ]
  },
  {
   "cell_type": "code",
   "execution_count": null,
   "metadata": {
    "id": "_Qg2STGcUBM6"
   },
   "outputs": [],
   "source": [
    "from keras.callbacks import EarlyStopping\n",
    "from keras.layers import Dropout\n",
    "import re\n",
    "from nltk.corpus import stopwords\n"
   ]
  },
  {
   "cell_type": "code",
   "execution_count": null,
   "metadata": {
    "colab": {
     "base_uri": "https://localhost:8080/"
    },
    "id": "w-ENVFufUYP_",
    "outputId": "362f1b69-bed3-4acd-ffd7-594bd7b73255"
   },
   "outputs": [
    {
     "name": "stdout",
     "output_type": "stream",
     "text": [
      "[nltk_data] Downloading package stopwords to /root/nltk_data...\n",
      "[nltk_data]   Unzipping corpora/stopwords.zip.\n"
     ]
    }
   ],
   "source": [
    "import nltk\n",
    "nltk.download('stopwords')\n",
    "from nltk import word_tokenize\n",
    "STOPWORDSS = set(stopwords.words('english'))\n",
    "from bs4 import BeautifulSoup\n",
    "import plotly.graph_objs as go\n"
   ]
  },
  {
   "cell_type": "code",
   "execution_count": null,
   "metadata": {
    "colab": {
     "base_uri": "https://localhost:8080/",
     "height": 17
    },
    "id": "luPhpsfJUcQZ",
    "outputId": "8fff909c-774f-4674-a0aa-4ba5fb294ae4"
   },
   "outputs": [
    {
     "data": {
      "text/html": [
       "        <script type=\"text/javascript\">\n",
       "        window.PlotlyConfig = {MathJaxConfig: 'local'};\n",
       "        if (window.MathJax) {MathJax.Hub.Config({SVG: {font: \"STIX-Web\"}});}\n",
       "        if (typeof require !== 'undefined') {\n",
       "        require.undef(\"plotly\");\n",
       "        requirejs.config({\n",
       "            paths: {\n",
       "                'plotly': ['https://cdn.plot.ly/plotly-latest.min']\n",
       "            }\n",
       "        });\n",
       "        require(['plotly'], function(Plotly) {\n",
       "            window._Plotly = Plotly;\n",
       "        });\n",
       "        }\n",
       "        </script>\n",
       "        "
      ]
     },
     "metadata": {
      "tags": []
     },
     "output_type": "display_data"
    }
   ],
   "source": [
    "import cufflinks\n",
    "from IPython.core.interactiveshell import InteractiveShell\n",
    "import plotly.figure_factory as ff\n",
    "InteractiveShell.ast_node_interactivity = 'all'\n",
    "from plotly.offline import iplot\n",
    "cufflinks.go_offline()\n",
    "cufflinks.set_config_file(world_readable=True, theme='pearl')"
   ]
  },
  {
   "cell_type": "code",
   "execution_count": null,
   "metadata": {
    "colab": {
     "base_uri": "https://localhost:8080/"
    },
    "id": "SSEJxLvvfnDi",
    "outputId": "b6d10796-a24e-48d8-86be-edf5ba16be3f"
   },
   "outputs": [
    {
     "name": "stdout",
     "output_type": "stream",
     "text": [
      "Mounted at /content/drive\n"
     ]
    }
   ],
   "source": [
    "from google.colab import drive\n",
    "drive.mount('/content/drive')"
   ]
  },
  {
   "cell_type": "code",
   "execution_count": null,
   "metadata": {
    "id": "Qi9cKNvmHT0-"
   },
   "outputs": [],
   "source": [
    "df=pd.read_excel(r'/content/drive/MyDrive/hatedetectionwithnetworkanalysis/NCCS_Dataset_english.xlsx')\n",
    "df['Text'].isnull().sum()\n",
    "df=df.dropna() # deleting the empty not available columns \n",
    "print(df.dropna().index)\n",
    "df.isnull().sum()\n",
    "print(df.head())\n",
    "\n",
    "#df=df[~df[\"Text\"].str.contains(r'[0-9]', na=False)]\n",
    "len(df)"
   ]
  },
  {
   "cell_type": "code",
   "execution_count": null,
   "metadata": {
    "colab": {
     "base_uri": "https://localhost:8080/"
    },
    "id": "y2N-Ucw2woCw",
    "outputId": "95fbac2e-e771-4047-90cc-017bc958880e"
   },
   "outputs": [
    {
     "data": {
      "text/plain": [
       "0        !!!!! RT @mleew17: boy dats cold...tyga dwn ba...\n",
       "1        !!!!!!! RT @UrKindOfBrand Dawg!!!! RT @80sbaby...\n",
       "2        !!!!!!!!! RT @C_G_Anderson: @viva_based she lo...\n",
       "3        !!!!!!!!!!!!! RT @ShenikaRoberts: The shit you...\n",
       "4        !!!!!!!!!!!!!!!!!!\"@T_Madison_x: The shit just...\n",
       "                               ...                        \n",
       "27437    John, This guy has been trying to get in touch...\n",
       "27438    October 2001 Vol. 53 [IMAGE] [IMAGE] [IMAGE] [...\n",
       "27439    The report named: NG - PROPT P/L published as ...\n",
       "27440    Here is the EOL information Dutch -----Origina...\n",
       "27441    The report named: NG - Price P/L published as ...\n",
       "Name: Text, Length: 27421, dtype: object"
      ]
     },
     "execution_count": 10,
     "metadata": {
      "tags": []
     },
     "output_type": "execute_result"
    }
   ],
   "source": [
    "df.Text"
   ]
  },
  {
   "cell_type": "code",
   "execution_count": null,
   "metadata": {
    "id": "z2nQSta2UWmq"
   },
   "outputs": [],
   "source": [
    "# Import packages\n",
    "import matplotlib.pyplot as plt\n",
    "%matplotlib inline\n",
    "# Define a function to plot word cloud\n",
    "def plot_cloud(wordcloud):\n",
    "    # Set figure size\n",
    "    plt.figure(figsize=(40, 30))\n",
    "    # Display image\n",
    "    plt.imshow(wordcloud) \n",
    "    # No axis details\n",
    "    plt.axis(\"off\");"
   ]
  },
  {
   "cell_type": "code",
   "execution_count": null,
   "metadata": {
    "id": "l7BmBlVkUWzP"
   },
   "outputs": [],
   "source": [
    "# Import package\n",
    "from wordcloud import WordCloud\n",
    "# Generate word cloud\n",
    "wordcloud = WordCloud(width = 3000, height = 2000, random_state=1, background_color='white').generate(' '.join(df.Text.astype(\"str\")))\n",
    "# Plot\n",
    "plot_cloud(wordcloud)\n"
   ]
  },
  {
   "cell_type": "code",
   "execution_count": null,
   "metadata": {
    "colab": {
     "background_save": true,
     "base_uri": "https://localhost:8080/",
     "height": 405
    },
    "id": "N7Wc5BHWHiph",
    "outputId": "29445593-3f70-40db-8fa5-73225701f213"
   },
   "outputs": [
    {
     "name": "stderr",
     "output_type": "stream",
     "text": [
      "No handles with labels found to put in legend.\n"
     ]
    },
    {
     "data": {
      "image/png": "[encoded data removed]",
      "text/plain": [
       "<Figure size 432x288 with 1 Axes>"
      ]
     },
     "metadata": {},
     "output_type": "display_data"
    }
   ],
   "source": [
    "fig, ax = plt.subplots() \n",
    "# count the occurrence of each class \n",
    "data = df['Label'].value_counts() \n",
    "# get x and y data \n",
    "points = data.index \n",
    "frequency = data.values \n",
    "# create bar chart \n",
    "ax.bar(points, frequency) \n",
    "# set title and labels \n",
    "ax.set_title('Class Frequency') \n",
    "ax.set_xlabel('Classes') \n",
    "ax.set_ylabel('Frequency')\n",
    "ax.legend()\n",
    "\n",
    "df['Label'].value_counts().plot.bar(color=['purple', 'blue', 'green', 'red', 'orange', 'magenta'])\n",
    "\n",
    "plt.savefig(\"barchart_class.png\", dpi=700, bbox_inches=\"tight\")\n"
   ]
  },
  {
   "cell_type": "code",
   "execution_count": null,
   "metadata": {
    "id": "OuEvARoVXQwV"
   },
   "outputs": [],
   "source": [
    "from sklearn.utils import shuffle\n",
    "df = shuffle(df)\n",
    "df = shuffle(df)\n",
    "df = shuffle(df)\n",
    "df = shuffle(df)"
   ]
  },
  {
   "cell_type": "code",
   "execution_count": null,
   "metadata": {
    "colab": {
     "base_uri": "https://localhost:8080/"
    },
    "id": "EMw4od0mXTvp",
    "outputId": "4d32a824-50fe-4900-99d8-19663165dc98"
   },
   "outputs": [
    {
     "data": {
      "text/plain": [
       "2795     @JayyRosayy you ain't got no hoes lil jess you...\n",
       "2456     @Farrahisawhore @PersianFarrah nice account fa...\n",
       "14141    After #BringBackOurGirls here is #BringBackOur...\n",
       "8028         @ChubsSays @comattwow ...who is arguing that?\n",
       "25832    no real bias today positive numbers sell negat...\n",
       "Name: Text, dtype: object"
      ]
     },
     "execution_count": 17,
     "metadata": {
      "tags": []
     },
     "output_type": "execute_result"
    }
   ],
   "source": [
    "df['Text'].head()"
   ]
  },
  {
   "cell_type": "code",
   "execution_count": null,
   "metadata": {
    "colab": {
     "base_uri": "https://localhost:8080/"
    },
    "id": "R7lGFcxZZhR2",
    "outputId": "d63528bd-58bc-4bd0-fc4c-758b03e953f6"
   },
   "outputs": [
    {
     "data": {
      "text/plain": [
       "Anti-State       5591\n",
       "Anti-Religion    5565\n",
       "Normal           4979\n",
       "Offensive        4476\n",
       "sexism           3972\n",
       "Racism           2838\n",
       "Name: Label, dtype: int64"
      ]
     },
     "execution_count": 18,
     "metadata": {
      "tags": []
     },
     "output_type": "execute_result"
    }
   ],
   "source": [
    "df.Label.value_counts()"
   ]
  },
  {
   "cell_type": "code",
   "execution_count": null,
   "metadata": {
    "colab": {
     "base_uri": "https://localhost:8080/",
     "height": 542
    },
    "id": "S9SraT88Zmf7",
    "outputId": "e70e5f5a-6046-40be-b4b4-250177a6bd66"
   },
   "outputs": [
    {
     "data": {
      "application/vnd.plotly.v1+json": {
       "config": {
        "linkText": "Export to plot.ly",
        "plotlyServerURL": "https://plot.ly",
        "showLink": true
       },
       "data": [
        {
         "marker": {
          "color": "rgba(255, 153, 51, 0.6)",
          "line": {
           "color": "rgba(255, 153, 51, 1.0)",
           "width": 1
          }
         },
         "name": "Label",
         "orientation": "v",
         "text": "",
         "type": "bar",
         "x": [
          "Anti-State",
          "Anti-Religion",
          "Normal",
          "Offensive",
          "sexism",
          "Racism"
         ],
         "y": [
          5591,
          5565,
          4979,
          4476,
          3972,
          2838
         ]
        }
       ],
       "layout": {
        "legend": {
         "bgcolor": "#F5F6F9",
         "font": {
          "color": "#4D5663"
         }
        },
        "paper_bgcolor": "#F5F6F9",
        "plot_bgcolor": "#F5F6F9",
        "template": {
         "data": {
          "bar": [
           {
            "error_x": {
             "color": "#2a3f5f"
            },
            "error_y": {
             "color": "#2a3f5f"
            },
            "marker": {
             "line": {
              "color": "#E5ECF6",
              "width": 0.5
             }
            },
            "type": "bar"
           }
          ],
          "barpolar": [
           {
            "marker": {
             "line": {
              "color": "#E5ECF6",
              "width": 0.5
             }
            },
            "type": "barpolar"
           }
          ],
          "carpet": [
           {
            "aaxis": {
             "endlinecolor": "#2a3f5f",
             "gridcolor": "white",
             "linecolor": "white",
             "minorgridcolor": "white",
             "startlinecolor": "#2a3f5f"
            },
            "baxis": {
             "endlinecolor": "#2a3f5f",
             "gridcolor": "white",
             "linecolor": "white",
             "minorgridcolor": "white",
             "startlinecolor": "#2a3f5f"
            },
            "type": "carpet"
           }
          ],
          "choropleth": [
           {
            "colorbar": {
             "outlinewidth": 0,
             "ticks": ""
            },
            "type": "choropleth"
           }
          ],
          "contour": [
           {
            "colorbar": {
             "outlinewidth": 0,
             "ticks": ""
            },
            "colorscale": [
             [
              0,
              "#0d0887"
             ],
             [
              0.1111111111111111,
              "#46039f"
             ],
             [
              0.2222222222222222,
              "#7201a8"
             ],
             [
              0.3333333333333333,
              "#9c179e"
             ],
             [
              0.4444444444444444,
              "#bd3786"
             ],
             [
              0.5555555555555556,
              "#d8576b"
             ],
             [
              0.6666666666666666,
              "#ed7953"
             ],
             [
              0.7777777777777778,
              "#fb9f3a"
             ],
             [
              0.8888888888888888,
              "#fdca26"
             ],
             [
              1,
              "#f0f921"
             ]
            ],
            "type": "contour"
           }
          ],
          "contourcarpet": [
           {
            "colorbar": {
             "outlinewidth": 0,
             "ticks": ""
            },
            "type": "contourcarpet"
           }
          ],
          "heatmap": [
           {
            "colorbar": {
             "outlinewidth": 0,
             "ticks": ""
            },
            "colorscale": [
             [
              0,
              "#0d0887"
             ],
             [
              0.1111111111111111,
              "#46039f"
             ],
             [
              0.2222222222222222,
              "#7201a8"
             ],
             [
              0.3333333333333333,
              "#9c179e"
             ],
             [
              0.4444444444444444,
              "#bd3786"
             ],
             [
              0.5555555555555556,
              "#d8576b"
             ],
             [
              0.6666666666666666,
              "#ed7953"
             ],
             [
              0.7777777777777778,
              "#fb9f3a"
             ],
             [
              0.8888888888888888,
              "#fdca26"
             ],
             [
              1,
              "#f0f921"
             ]
            ],
            "type": "heatmap"
           }
          ],
          "heatmapgl": [
           {
            "colorbar": {
             "outlinewidth": 0,
             "ticks": ""
            },
            "colorscale": [
             [
              0,
              "#0d0887"
             ],
             [
              0.1111111111111111,
              "#46039f"
             ],
             [
              0.2222222222222222,
              "#7201a8"
             ],
             [
              0.3333333333333333,
              "#9c179e"
             ],
             [
              0.4444444444444444,
              "#bd3786"
             ],
             [
              0.5555555555555556,
              "#d8576b"
             ],
             [
              0.6666666666666666,
              "#ed7953"
             ],
             [
              0.7777777777777778,
              "#fb9f3a"
             ],
             [
              0.8888888888888888,
              "#fdca26"
             ],
             [
              1,
              "#f0f921"
             ]
            ],
            "type": "heatmapgl"
           }
          ],
          "histogram": [
           {
            "marker": {
             "colorbar": {
              "outlinewidth": 0,
              "ticks": ""
             }
            },
            "type": "histogram"
           }
          ],
          "histogram2d": [
           {
            "colorbar": {
             "outlinewidth": 0,
             "ticks": ""
            },
            "colorscale": [
             [
              0,
              "#0d0887"
             ],
             [
              0.1111111111111111,
              "#46039f"
             ],
             [
              0.2222222222222222,
              "#7201a8"
             ],
             [
              0.3333333333333333,
              "#9c179e"
             ],
             [
              0.4444444444444444,
              "#bd3786"
             ],
             [
              0.5555555555555556,
              "#d8576b"
             ],
             [
              0.6666666666666666,
              "#ed7953"
             ],
             [
              0.7777777777777778,
              "#fb9f3a"
             ],
             [
              0.8888888888888888,
              "#fdca26"
             ],
             [
              1,
              "#f0f921"
             ]
            ],
            "type": "histogram2d"
           }
          ],
          "histogram2dcontour": [
           {
            "colorbar": {
             "outlinewidth": 0,
             "ticks": ""
            },
            "colorscale": [
             [
              0,
              "#0d0887"
             ],
             [
              0.1111111111111111,
              "#46039f"
             ],
             [
              0.2222222222222222,
              "#7201a8"
             ],
             [
              0.3333333333333333,
              "#9c179e"
             ],
             [
              0.4444444444444444,
              "#bd3786"
             ],
             [
              0.5555555555555556,
              "#d8576b"
             ],
             [
              0.6666666666666666,
              "#ed7953"
             ],
             [
              0.7777777777777778,
              "#fb9f3a"
             ],
             [
              0.8888888888888888,
              "#fdca26"
             ],
             [
              1,
              "#f0f921"
             ]
            ],
            "type": "histogram2dcontour"
           }
          ],
          "mesh3d": [
           {
            "colorbar": {
             "outlinewidth": 0,
             "ticks": ""
            },
            "type": "mesh3d"
           }
          ],
          "parcoords": [
           {
            "line": {
             "colorbar": {
              "outlinewidth": 0,
              "ticks": ""
             }
            },
            "type": "parcoords"
           }
          ],
          "pie": [
           {
            "automargin": true,
            "type": "pie"
           }
          ],
          "scatter": [
           {
            "marker": {
             "colorbar": {
              "outlinewidth": 0,
              "ticks": ""
             }
            },
            "type": "scatter"
           }
          ],
          "scatter3d": [
           {
            "line": {
             "colorbar": {
              "outlinewidth": 0,
              "ticks": ""
             }
            },
            "marker": {
             "colorbar": {
              "outlinewidth": 0,
              "ticks": ""
             }
            },
            "type": "scatter3d"
           }
          ],
          "scattercarpet": [
           {
            "marker": {
             "colorbar": {
              "outlinewidth": 0,
              "ticks": ""
             }
            },
            "type": "scattercarpet"
           }
          ],
          "scattergeo": [
           {
            "marker": {
             "colorbar": {
              "outlinewidth": 0,
              "ticks": ""
             }
            },
            "type": "scattergeo"
           }
          ],
          "scattergl": [
           {
            "marker": {
             "colorbar": {
              "outlinewidth": 0,
              "ticks": ""
             }
            },
            "type": "scattergl"
           }
          ],
          "scattermapbox": [
           {
            "marker": {
             "colorbar": {
              "outlinewidth": 0,
              "ticks": ""
             }
            },
            "type": "scattermapbox"
           }
          ],
          "scatterpolar": [
           {
            "marker": {
             "colorbar": {
              "outlinewidth": 0,
              "ticks": ""
             }
            },
            "type": "scatterpolar"
           }
          ],
          "scatterpolargl": [
           {
            "marker": {
             "colorbar": {
              "outlinewidth": 0,
              "ticks": ""
             }
            },
            "type": "scatterpolargl"
           }
          ],
          "scatterternary": [
           {
            "marker": {
             "colorbar": {
              "outlinewidth": 0,
              "ticks": ""
             }
            },
            "type": "scatterternary"
           }
          ],
          "surface": [
           {
            "colorbar": {
             "outlinewidth": 0,
             "ticks": ""
            },
            "colorscale": [
             [
              0,
              "#0d0887"
             ],
             [
              0.1111111111111111,
              "#46039f"
             ],
             [
              0.2222222222222222,
              "#7201a8"
             ],
             [
              0.3333333333333333,
              "#9c179e"
             ],
             [
              0.4444444444444444,
              "#bd3786"
             ],
             [
              0.5555555555555556,
              "#d8576b"
             ],
             [
              0.6666666666666666,
              "#ed7953"
             ],
             [
              0.7777777777777778,
              "#fb9f3a"
             ],
             [
              0.8888888888888888,
              "#fdca26"
             ],
             [
              1,
              "#f0f921"
             ]
            ],
            "type": "surface"
           }
          ],
          "table": [
           {
            "cells": {
             "fill": {
              "color": "#EBF0F8"
             },
             "line": {
              "color": "white"
             }
            },
            "header": {
             "fill": {
              "color": "#C8D4E3"
             },
             "line": {
              "color": "white"
             }
            },
            "type": "table"
           }
          ]
         },
         "layout": {
          "annotationdefaults": {
           "arrowcolor": "#2a3f5f",
           "arrowhead": 0,
           "arrowwidth": 1
          },
          "coloraxis": {
           "colorbar": {
            "outlinewidth": 0,
            "ticks": ""
           }
          },
          "colorscale": {
           "diverging": [
            [
             0,
             "#8e0152"
            ],
            [
             0.1,
             "#c51b7d"
            ],
            [
             0.2,
             "#de77ae"
            ],
            [
             0.3,
             "#f1b6da"
            ],
            [
             0.4,
             "#fde0ef"
            ],
            [
             0.5,
             "#f7f7f7"
            ],
            [
             0.6,
             "#e6f5d0"
            ],
            [
             0.7,
             "#b8e186"
            ],
            [
             0.8,
             "#7fbc41"
            ],
            [
             0.9,
             "#4d9221"
            ],
            [
             1,
             "#276419"
            ]
           ],
           "sequential": [
            [
             0,
             "#0d0887"
            ],
            [
             0.1111111111111111,
             "#46039f"
            ],
            [
             0.2222222222222222,
             "#7201a8"
            ],
            [
             0.3333333333333333,
             "#9c179e"
            ],
            [
             0.4444444444444444,
             "#bd3786"
            ],
            [
             0.5555555555555556,
             "#d8576b"
            ],
            [
             0.6666666666666666,
             "#ed7953"
            ],
            [
             0.7777777777777778,
             "#fb9f3a"
            ],
            [
             0.8888888888888888,
             "#fdca26"
            ],
            [
             1,
             "#f0f921"
            ]
           ],
           "sequentialminus": [
            [
             0,
             "#0d0887"
            ],
            [
             0.1111111111111111,
             "#46039f"
            ],
            [
             0.2222222222222222,
             "#7201a8"
            ],
            [
             0.3333333333333333,
             "#9c179e"
            ],
            [
             0.4444444444444444,
             "#bd3786"
            ],
            [
             0.5555555555555556,
             "#d8576b"
            ],
            [
             0.6666666666666666,
             "#ed7953"
            ],
            [
             0.7777777777777778,
             "#fb9f3a"
            ],
            [
             0.8888888888888888,
             "#fdca26"
            ],
            [
             1,
             "#f0f921"
            ]
           ]
          },
          "colorway": [
           "#636efa",
           "#EF553B",
           "#00cc96",
           "#ab63fa",
           "#FFA15A",
           "#19d3f3",
           "#FF6692",
           "#B6E880",
           "#FF97FF",
           "#FECB52"
          ],
          "font": {
           "color": "#2a3f5f"
          },
          "geo": {
           "bgcolor": "white",
           "lakecolor": "white",
           "landcolor": "#E5ECF6",
           "showlakes": true,
           "showland": true,
           "subunitcolor": "white"
          },
          "hoverlabel": {
           "align": "left"
          },
          "hovermode": "closest",
          "mapbox": {
           "style": "light"
          },
          "paper_bgcolor": "white",
          "plot_bgcolor": "#E5ECF6",
          "polar": {
           "angularaxis": {
            "gridcolor": "white",
            "linecolor": "white",
            "ticks": ""
           },
           "bgcolor": "#E5ECF6",
           "radialaxis": {
            "gridcolor": "white",
            "linecolor": "white",
            "ticks": ""
           }
          },
          "scene": {
           "xaxis": {
            "backgroundcolor": "#E5ECF6",
            "gridcolor": "white",
            "gridwidth": 2,
            "linecolor": "white",
            "showbackground": true,
            "ticks": "",
            "zerolinecolor": "white"
           },
           "yaxis": {
            "backgroundcolor": "#E5ECF6",
            "gridcolor": "white",
            "gridwidth": 2,
            "linecolor": "white",
            "showbackground": true,
            "ticks": "",
            "zerolinecolor": "white"
           },
           "zaxis": {
            "backgroundcolor": "#E5ECF6",
            "gridcolor": "white",
            "gridwidth": 2,
            "linecolor": "white",
            "showbackground": true,
            "ticks": "",
            "zerolinecolor": "white"
           }
          },
          "shapedefaults": {
           "line": {
            "color": "#2a3f5f"
           }
          },
          "ternary": {
           "aaxis": {
            "gridcolor": "white",
            "linecolor": "white",
            "ticks": ""
           },
           "baxis": {
            "gridcolor": "white",
            "linecolor": "white",
            "ticks": ""
           },
           "bgcolor": "#E5ECF6",
           "caxis": {
            "gridcolor": "white",
            "linecolor": "white",
            "ticks": ""
           }
          },
          "title": {
           "x": 0.05
          },
          "xaxis": {
           "automargin": true,
           "gridcolor": "white",
           "linecolor": "white",
           "ticks": "",
           "title": {
            "standoff": 15
           },
           "zerolinecolor": "white",
           "zerolinewidth": 2
          },
          "yaxis": {
           "automargin": true,
           "gridcolor": "white",
           "linecolor": "white",
           "ticks": "",
           "title": {
            "standoff": 15
           },
           "zerolinecolor": "white",
           "zerolinewidth": 2
          }
         }
        },
        "title": {
         "font": {
          "color": "#4D5663"
         },
         "text": "Number of tweets in each category"
        },
        "xaxis": {
         "gridcolor": "#E1E5ED",
         "showgrid": true,
         "tickfont": {
          "color": "#4D5663"
         },
         "title": {
          "font": {
           "color": "#4D5663"
          },
          "text": ""
         },
         "zerolinecolor": "#E1E5ED"
        },
        "yaxis": {
         "gridcolor": "#E1E5ED",
         "showgrid": true,
         "tickfont": {
          "color": "#4D5663"
         },
         "title": {
          "font": {
           "color": "#4D5663"
          },
          "text": "Number of tweets"
         },
         "zerolinecolor": "#E1E5ED"
        }
       }
      },
      "text/html": [
       "<div>\n",
       "        \n",
       "        \n",
       "            <div id=\"db52a948-e1b3-44bd-836d-9886a64e0e3d\" class=\"plotly-graph-div\" style=\"height:525px; width:100%;\"></div>\n",
       "            <script type=\"text/javascript\">\n",
       "                require([\"plotly\"], function(Plotly) {\n",
       "                    window.PLOTLYENV=window.PLOTLYENV || {};\n",
       "                    window.PLOTLYENV.BASE_URL='https://plot.ly';\n",
       "                    \n",
       "                if (document.getElementById(\"db52a948-e1b3-44bd-836d-9886a64e0e3d\")) {\n",
       "                    Plotly.newPlot(\n",
       "                        'db52a948-e1b3-44bd-836d-9886a64e0e3d',\n",
       "                        [{\"marker\": {\"color\": \"rgba(255, 153, 51, 0.6)\", \"line\": {\"color\": \"rgba(255, 153, 51, 1.0)\", \"width\": 1}}, \"name\": \"Label\", \"orientation\": \"v\", \"text\": \"\", \"type\": \"bar\", \"x\": [\"Anti-State\", \"Anti-Religion\", \"Normal\", \"Offensive\", \"sexism\", \"Racism\"], \"y\": [5591, 5565, 4979, 4476, 3972, 2838]}],\n",
       "                        {\"legend\": {\"bgcolor\": \"#F5F6F9\", \"font\": {\"color\": \"#4D5663\"}}, \"paper_bgcolor\": \"#F5F6F9\", \"plot_bgcolor\": \"#F5F6F9\", \"template\": {\"data\": {\"bar\": [{\"error_x\": {\"color\": \"#2a3f5f\"}, \"error_y\": {\"color\": \"#2a3f5f\"}, \"marker\": {\"line\": {\"color\": \"#E5ECF6\", \"width\": 0.5}}, \"type\": \"bar\"}], \"barpolar\": [{\"marker\": {\"line\": {\"color\": \"#E5ECF6\", \"width\": 0.5}}, \"type\": \"barpolar\"}], \"carpet\": [{\"aaxis\": {\"endlinecolor\": \"#2a3f5f\", \"gridcolor\": \"white\", \"linecolor\": \"white\", \"minorgridcolor\": \"white\", \"startlinecolor\": \"#2a3f5f\"}, \"baxis\": {\"endlinecolor\": \"#2a3f5f\", \"gridcolor\": \"white\", \"linecolor\": \"white\", \"minorgridcolor\": \"white\", \"startlinecolor\": \"#2a3f5f\"}, \"type\": \"carpet\"}], \"choropleth\": [{\"colorbar\": {\"outlinewidth\": 0, \"ticks\": \"\"}, \"type\": \"choropleth\"}], \"contour\": [{\"colorbar\": {\"outlinewidth\": 0, \"ticks\": \"\"}, \"colorscale\": [[0.0, \"#0d0887\"], [0.1111111111111111, \"#46039f\"], [0.2222222222222222, \"#7201a8\"], [0.3333333333333333, \"#9c179e\"], [0.4444444444444444, \"#bd3786\"], [0.5555555555555556, \"#d8576b\"], [0.6666666666666666, \"#ed7953\"], [0.7777777777777778, \"#fb9f3a\"], [0.8888888888888888, \"#fdca26\"], [1.0, \"#f0f921\"]], \"type\": \"contour\"}], \"contourcarpet\": [{\"colorbar\": {\"outlinewidth\": 0, \"ticks\": \"\"}, \"type\": \"contourcarpet\"}], \"heatmap\": [{\"colorbar\": {\"outlinewidth\": 0, \"ticks\": \"\"}, \"colorscale\": [[0.0, \"#0d0887\"], [0.1111111111111111, \"#46039f\"], [0.2222222222222222, \"#7201a8\"], [0.3333333333333333, \"#9c179e\"], [0.4444444444444444, \"#bd3786\"], [0.5555555555555556, \"#d8576b\"], [0.6666666666666666, \"#ed7953\"], [0.7777777777777778, \"#fb9f3a\"], [0.8888888888888888, \"#fdca26\"], [1.0, \"#f0f921\"]], \"type\": \"heatmap\"}], \"heatmapgl\": [{\"colorbar\": {\"outlinewidth\": 0, \"ticks\": \"\"}, \"colorscale\": [[0.0, \"#0d0887\"], [0.1111111111111111, \"#46039f\"], [0.2222222222222222, \"#7201a8\"], [0.3333333333333333, \"#9c179e\"], [0.4444444444444444, \"#bd3786\"], [0.5555555555555556, \"#d8576b\"], [0.6666666666666666, \"#ed7953\"], [0.7777777777777778, \"#fb9f3a\"], [0.8888888888888888, \"#fdca26\"], [1.0, \"#f0f921\"]], \"type\": \"heatmapgl\"}], \"histogram\": [{\"marker\": {\"colorbar\": {\"outlinewidth\": 0, \"ticks\": \"\"}}, \"type\": \"histogram\"}], \"histogram2d\": [{\"colorbar\": {\"outlinewidth\": 0, \"ticks\": \"\"}, \"colorscale\": [[0.0, \"#0d0887\"], [0.1111111111111111, \"#46039f\"], [0.2222222222222222, \"#7201a8\"], [0.3333333333333333, \"#9c179e\"], [0.4444444444444444, \"#bd3786\"], [0.5555555555555556, \"#d8576b\"], [0.6666666666666666, \"#ed7953\"], [0.7777777777777778, \"#fb9f3a\"], [0.8888888888888888, \"#fdca26\"], [1.0, \"#f0f921\"]], \"type\": \"histogram2d\"}], \"histogram2dcontour\": [{\"colorbar\": {\"outlinewidth\": 0, \"ticks\": \"\"}, \"colorscale\": [[0.0, \"#0d0887\"], [0.1111111111111111, \"#46039f\"], [0.2222222222222222, \"#7201a8\"], [0.3333333333333333, \"#9c179e\"], [0.4444444444444444, \"#bd3786\"], [0.5555555555555556, \"#d8576b\"], [0.6666666666666666, \"#ed7953\"], [0.7777777777777778, \"#fb9f3a\"], [0.8888888888888888, \"#fdca26\"], [1.0, \"#f0f921\"]], \"type\": \"histogram2dcontour\"}], \"mesh3d\": [{\"colorbar\": {\"outlinewidth\": 0, \"ticks\": \"\"}, \"type\": \"mesh3d\"}], \"parcoords\": [{\"line\": {\"colorbar\": {\"outlinewidth\": 0, \"ticks\": \"\"}}, \"type\": \"parcoords\"}], \"pie\": [{\"automargin\": true, \"type\": \"pie\"}], \"scatter\": [{\"marker\": {\"colorbar\": {\"outlinewidth\": 0, \"ticks\": \"\"}}, \"type\": \"scatter\"}], \"scatter3d\": [{\"line\": {\"colorbar\": {\"outlinewidth\": 0, \"ticks\": \"\"}}, \"marker\": {\"colorbar\": {\"outlinewidth\": 0, \"ticks\": \"\"}}, \"type\": \"scatter3d\"}], \"scattercarpet\": [{\"marker\": {\"colorbar\": {\"outlinewidth\": 0, \"ticks\": \"\"}}, \"type\": \"scattercarpet\"}], \"scattergeo\": [{\"marker\": {\"colorbar\": {\"outlinewidth\": 0, \"ticks\": \"\"}}, \"type\": \"scattergeo\"}], \"scattergl\": [{\"marker\": {\"colorbar\": {\"outlinewidth\": 0, \"ticks\": \"\"}}, \"type\": \"scattergl\"}], \"scattermapbox\": [{\"marker\": {\"colorbar\": {\"outlinewidth\": 0, \"ticks\": \"\"}}, \"type\": \"scattermapbox\"}], \"scatterpolar\": [{\"marker\": {\"colorbar\": {\"outlinewidth\": 0, \"ticks\": \"\"}}, \"type\": \"scatterpolar\"}], \"scatterpolargl\": [{\"marker\": {\"colorbar\": {\"outlinewidth\": 0, \"ticks\": \"\"}}, \"type\": \"scatterpolargl\"}], \"scatterternary\": [{\"marker\": {\"colorbar\": {\"outlinewidth\": 0, \"ticks\": \"\"}}, \"type\": \"scatterternary\"}], \"surface\": [{\"colorbar\": {\"outlinewidth\": 0, \"ticks\": \"\"}, \"colorscale\": [[0.0, \"#0d0887\"], [0.1111111111111111, \"#46039f\"], [0.2222222222222222, \"#7201a8\"], [0.3333333333333333, \"#9c179e\"], [0.4444444444444444, \"#bd3786\"], [0.5555555555555556, \"#d8576b\"], [0.6666666666666666, \"#ed7953\"], [0.7777777777777778, \"#fb9f3a\"], [0.8888888888888888, \"#fdca26\"], [1.0, \"#f0f921\"]], \"type\": \"surface\"}], \"table\": [{\"cells\": {\"fill\": {\"color\": \"#EBF0F8\"}, \"line\": {\"color\": \"white\"}}, \"header\": {\"fill\": {\"color\": \"#C8D4E3\"}, \"line\": {\"color\": \"white\"}}, \"type\": \"table\"}]}, \"layout\": {\"annotationdefaults\": {\"arrowcolor\": \"#2a3f5f\", \"arrowhead\": 0, \"arrowwidth\": 1}, \"coloraxis\": {\"colorbar\": {\"outlinewidth\": 0, \"ticks\": \"\"}}, \"colorscale\": {\"diverging\": [[0, \"#8e0152\"], [0.1, \"#c51b7d\"], [0.2, \"#de77ae\"], [0.3, \"#f1b6da\"], [0.4, \"#fde0ef\"], [0.5, \"#f7f7f7\"], [0.6, \"#e6f5d0\"], [0.7, \"#b8e186\"], [0.8, \"#7fbc41\"], [0.9, \"#4d9221\"], [1, \"#276419\"]], \"sequential\": [[0.0, \"#0d0887\"], [0.1111111111111111, \"#46039f\"], [0.2222222222222222, \"#7201a8\"], [0.3333333333333333, \"#9c179e\"], [0.4444444444444444, \"#bd3786\"], [0.5555555555555556, \"#d8576b\"], [0.6666666666666666, \"#ed7953\"], [0.7777777777777778, \"#fb9f3a\"], [0.8888888888888888, \"#fdca26\"], [1.0, \"#f0f921\"]], \"sequentialminus\": [[0.0, \"#0d0887\"], [0.1111111111111111, \"#46039f\"], [0.2222222222222222, \"#7201a8\"], [0.3333333333333333, \"#9c179e\"], [0.4444444444444444, \"#bd3786\"], [0.5555555555555556, \"#d8576b\"], [0.6666666666666666, \"#ed7953\"], [0.7777777777777778, \"#fb9f3a\"], [0.8888888888888888, \"#fdca26\"], [1.0, \"#f0f921\"]]}, \"colorway\": [\"#636efa\", \"#EF553B\", \"#00cc96\", \"#ab63fa\", \"#FFA15A\", \"#19d3f3\", \"#FF6692\", \"#B6E880\", \"#FF97FF\", \"#FECB52\"], \"font\": {\"color\": \"#2a3f5f\"}, \"geo\": {\"bgcolor\": \"white\", \"lakecolor\": \"white\", \"landcolor\": \"#E5ECF6\", \"showlakes\": true, \"showland\": true, \"subunitcolor\": \"white\"}, \"hoverlabel\": {\"align\": \"left\"}, \"hovermode\": \"closest\", \"mapbox\": {\"style\": \"light\"}, \"paper_bgcolor\": \"white\", \"plot_bgcolor\": \"#E5ECF6\", \"polar\": {\"angularaxis\": {\"gridcolor\": \"white\", \"linecolor\": \"white\", \"ticks\": \"\"}, \"bgcolor\": \"#E5ECF6\", \"radialaxis\": {\"gridcolor\": \"white\", \"linecolor\": \"white\", \"ticks\": \"\"}}, \"scene\": {\"xaxis\": {\"backgroundcolor\": \"#E5ECF6\", \"gridcolor\": \"white\", \"gridwidth\": 2, \"linecolor\": \"white\", \"showbackground\": true, \"ticks\": \"\", \"zerolinecolor\": \"white\"}, \"yaxis\": {\"backgroundcolor\": \"#E5ECF6\", \"gridcolor\": \"white\", \"gridwidth\": 2, \"linecolor\": \"white\", \"showbackground\": true, \"ticks\": \"\", \"zerolinecolor\": \"white\"}, \"zaxis\": {\"backgroundcolor\": \"#E5ECF6\", \"gridcolor\": \"white\", \"gridwidth\": 2, \"linecolor\": \"white\", \"showbackground\": true, \"ticks\": \"\", \"zerolinecolor\": \"white\"}}, \"shapedefaults\": {\"line\": {\"color\": \"#2a3f5f\"}}, \"ternary\": {\"aaxis\": {\"gridcolor\": \"white\", \"linecolor\": \"white\", \"ticks\": \"\"}, \"baxis\": {\"gridcolor\": \"white\", \"linecolor\": \"white\", \"ticks\": \"\"}, \"bgcolor\": \"#E5ECF6\", \"caxis\": {\"gridcolor\": \"white\", \"linecolor\": \"white\", \"ticks\": \"\"}}, \"title\": {\"x\": 0.05}, \"xaxis\": {\"automargin\": true, \"gridcolor\": \"white\", \"linecolor\": \"white\", \"ticks\": \"\", \"title\": {\"standoff\": 15}, \"zerolinecolor\": \"white\", \"zerolinewidth\": 2}, \"yaxis\": {\"automargin\": true, \"gridcolor\": \"white\", \"linecolor\": \"white\", \"ticks\": \"\", \"title\": {\"standoff\": 15}, \"zerolinecolor\": \"white\", \"zerolinewidth\": 2}}}, \"title\": {\"font\": {\"color\": \"#4D5663\"}, \"text\": \"Number of tweets in each category\"}, \"xaxis\": {\"gridcolor\": \"#E1E5ED\", \"showgrid\": true, \"tickfont\": {\"color\": \"#4D5663\"}, \"title\": {\"font\": {\"color\": \"#4D5663\"}, \"text\": \"\"}, \"zerolinecolor\": \"#E1E5ED\"}, \"yaxis\": {\"gridcolor\": \"#E1E5ED\", \"showgrid\": true, \"tickfont\": {\"color\": \"#4D5663\"}, \"title\": {\"font\": {\"color\": \"#4D5663\"}, \"text\": \"Number of tweets\"}, \"zerolinecolor\": \"#E1E5ED\"}},\n",
       "                        {\"showLink\": true, \"linkText\": \"Export to plot.ly\", \"plotlyServerURL\": \"https://plot.ly\", \"responsive\": true}\n",
       "                    ).then(function(){\n",
       "                            \n",
       "var gd = document.getElementById('db52a948-e1b3-44bd-836d-9886a64e0e3d');\n",
       "var x = new MutationObserver(function (mutations, observer) {{\n",
       "        var display = window.getComputedStyle(gd).display;\n",
       "        if (!display || display === 'none') {{\n",
       "            console.log([gd, 'removed!']);\n",
       "            Plotly.purge(gd);\n",
       "            observer.disconnect();\n",
       "        }}\n",
       "}});\n",
       "\n",
       "// Listen for the removal of the full notebook cells\n",
       "var notebookContainer = gd.closest('#notebook-container');\n",
       "if (notebookContainer) {{\n",
       "    x.observe(notebookContainer, {childList: true});\n",
       "}}\n",
       "\n",
       "// Listen for the clearing of the current output cell\n",
       "var outputEl = gd.closest('.output');\n",
       "if (outputEl) {{\n",
       "    x.observe(outputEl, {childList: true});\n",
       "}}\n",
       "\n",
       "                        })\n",
       "                };\n",
       "                });\n",
       "            </script>\n",
       "        </div>"
      ]
     },
     "metadata": {
      "tags": []
     },
     "output_type": "display_data"
    }
   ],
   "source": [
    "df.Label.value_counts().sort_values(ascending=False).iplot(kind='bar', yTitle='Number of tweets', \n",
    "                                                                title='Number of tweets in each category')"
   ]
  },
  {
   "cell_type": "code",
   "execution_count": null,
   "metadata": {
    "colab": {
     "base_uri": "https://localhost:8080/"
    },
    "id": "3q6NyYUda-e0",
    "outputId": "db77c91c-98cf-4510-9df2-ae40b249455e"
   },
   "outputs": [
    {
     "data": {
      "text/plain": [
       "2066         Offensive\n",
       "24473           Normal\n",
       "23957           Normal\n",
       "22162    Anti-Religion\n",
       "17279    Anti-Religion\n",
       "Name: Label, dtype: object"
      ]
     },
     "execution_count": 37,
     "metadata": {
      "tags": []
     },
     "output_type": "execute_result"
    }
   ],
   "source": [
    "df.Label.head()"
   ]
  },
  {
   "cell_type": "code",
   "execution_count": null,
   "metadata": {
    "colab": {
     "base_uri": "https://localhost:8080/"
    },
    "id": "XMrFasjRpTyk",
    "outputId": "95cd2e1d-fcfb-41e7-dc41-8daed60cf292"
   },
   "outputs": [
    {
     "name": "stdout",
     "output_type": "stream",
     "text": [
      "Collecting emoji\n",
      "\u001b[?25l  Downloading https://files.pythonhosted.org/packages/24/fa/b3368f41b95a286f8d300e323449ab4e86b85334c2e0b477e94422b8ed0f/emoji-1.2.0-py3-none-any.whl (131kB)\n",
      "\r",
      "\u001b[K     |██▌                             | 10kB 26.2MB/s eta 0:00:01\r",
      "\u001b[K     |█████                           | 20kB 33.0MB/s eta 0:00:01\r",
      "\u001b[K     |███████▌                        | 30kB 22.3MB/s eta 0:00:01\r",
      "\u001b[K     |██████████                      | 40kB 20.1MB/s eta 0:00:01\r",
      "\u001b[K     |████████████▌                   | 51kB 17.2MB/s eta 0:00:01\r",
      "\u001b[K     |███████████████                 | 61kB 14.2MB/s eta 0:00:01\r",
      "\u001b[K     |█████████████████▌              | 71kB 14.4MB/s eta 0:00:01\r",
      "\u001b[K     |████████████████████            | 81kB 13.9MB/s eta 0:00:01\r",
      "\u001b[K     |██████████████████████▌         | 92kB 13.6MB/s eta 0:00:01\r",
      "\u001b[K     |█████████████████████████       | 102kB 13.7MB/s eta 0:00:01\r",
      "\u001b[K     |███████████████████████████▌    | 112kB 13.7MB/s eta 0:00:01\r",
      "\u001b[K     |██████████████████████████████  | 122kB 13.7MB/s eta 0:00:01\r",
      "\u001b[K     |████████████████████████████████| 133kB 13.7MB/s \n",
      "\u001b[?25hInstalling collected packages: emoji\n",
      "Successfully installed emoji-1.2.0\n"
     ]
    }
   ],
   "source": [
    "pip install emoji\n"
   ]
  },
  {
   "cell_type": "code",
   "execution_count": null,
   "metadata": {
    "colab": {
     "base_uri": "https://localhost:8080/"
    },
    "id": "6l6AUgC6pcJr",
    "outputId": "4959811d-f2a0-4ef7-a9ad-ff24ea16f01c"
   },
   "outputs": [
    {
     "name": "stdout",
     "output_type": "stream",
     "text": [
      "[nltk_data] Downloading package wordnet to /root/nltk_data...\n",
      "[nltk_data]   Unzipping corpora/wordnet.zip.\n"
     ]
    },
    {
     "data": {
      "text/plain": [
       "True"
      ]
     },
     "execution_count": 21,
     "metadata": {
      "tags": []
     },
     "output_type": "execute_result"
    }
   ],
   "source": [
    "import nltk\n",
    "nltk.download('wordnet')"
   ]
  },
  {
   "cell_type": "code",
   "execution_count": null,
   "metadata": {
    "colab": {
     "base_uri": "https://localhost:8080/"
    },
    "id": "M7A2CpmKdxpi",
    "outputId": "61edabd3-dff0-464d-9172-f56339c3c594"
   },
   "outputs": [
    {
     "name": "stdout",
     "output_type": "stream",
     "text": [
      "[nltk_data] Downloading package stopwords to /root/nltk_data...\n",
      "[nltk_data]   Package stopwords is already up-to-date!\n"
     ]
    },
    {
     "data": {
      "text/plain": [
       "True"
      ]
     },
     "execution_count": 22,
     "metadata": {
      "tags": []
     },
     "output_type": "execute_result"
    }
   ],
   "source": [
    "#text preprocessing\n",
    "\n",
    "\n",
    "import numpy as np\n",
    "import pandas as pd\n",
    "import re\n",
    "import nltk\n",
    "import spacy\n",
    "import string\n",
    "from nltk.corpus import stopwords\n",
    "import emoji\n",
    "from nltk.stem import WordNetLemmatizer\n",
    "from bs4 import BeautifulSoup\n",
    "\n",
    "# Function to remove the stopwords\n",
    "nltk.download('stopwords')\n",
    "\n",
    "\n",
    "df = df.reset_index(drop=True)\n",
    "# pre-processing code\n",
    "def clean_text(text,replace=''):\n",
    "    lemmatizer = WordNetLemmatizer() \n",
    "    stop_words = set(stopwords.words('english'))\n",
    "    text = emoji.demojize(str(text))\n",
    "    text = text.translate(str.maketrans('', '', string.punctuation))  # remove punctuation characters\n",
    "    text = text.lower()\n",
    "    text = re.sub(r\"\\d+\", \"\", text)\n",
    "    text = re.sub(r\"http\\S+\", \"\", text)  # removes URL from string\n",
    "    text = text.replace('rt', '').replace('pm', '').replace('xd', '').replace('subject', '').replace('phillip', '')\n",
    "    \n",
    "    text = ' '.join(filter(lambda x: lemmatizer.lemmatize(x, pos =\"a\") not in stop_words, text.split()))\n",
    "    text = \" \".join(re.split(\"\\s+\", text, flags=re.UNICODE))\n",
    "    return text\n",
    "\n",
    "# apply pre-processing on sentences\n",
    "df['Text'] = df['Text'].apply(clean_text)\n",
    "df['Text'] = df['Text'].replace('', np.nan)\n",
    "df.dropna(inplace=True)\n",
    "df.reset_index(inplace=True, drop=True)\n"
   ]
  },
  {
   "cell_type": "code",
   "execution_count": null,
   "metadata": {
    "colab": {
     "base_uri": "https://localhost:8080/"
    },
    "id": "PTfCjducxi54",
    "outputId": "8093703f-2d9d-45c0-8929-f3d3b529179c"
   },
   "outputs": [
    {
     "data": {
      "text/plain": [
       "0      jayyrosayy aint got hoes lil jess youre lil guy\n",
       "1     farrahisawhore persianfarrah nice account faggot\n",
       "2    bringbackourgirls bringbackourboys sad extremi...\n",
       "3                          chubssays comattwow arguing\n",
       "4    real bias today positive numbers sell negative...\n",
       "Name: Text, dtype: object"
      ]
     },
     "execution_count": 23,
     "metadata": {
      "tags": []
     },
     "output_type": "execute_result"
    }
   ],
   "source": [
    "df['Text'].head()"
   ]
  },
  {
   "cell_type": "code",
   "execution_count": null,
   "metadata": {
    "colab": {
     "base_uri": "https://localhost:8080/"
    },
    "id": "-cD4f3rnu_In",
    "outputId": "4c46a3db-c4bc-4f80-b9a3-2c8d5e389497"
   },
   "outputs": [
    {
     "name": "stdout",
     "output_type": "stream",
     "text": [
      "[nltk_data] Downloading package punkt to /root/nltk_data...\n",
      "[nltk_data]   Unzipping tokenizers/punkt.zip.\n"
     ]
    },
    {
     "data": {
      "text/plain": [
       "True"
      ]
     },
     "execution_count": 24,
     "metadata": {
      "tags": []
     },
     "output_type": "execute_result"
    }
   ],
   "source": [
    "import nltk\n",
    "nltk.download('punkt')"
   ]
  },
  {
   "cell_type": "code",
   "execution_count": null,
   "metadata": {
    "id": "0cEC9SiancxN"
   },
   "outputs": [],
   "source": [
    "# Import package\n",
    "from wordcloud import WordCloud\n",
    "sentences = ' '.join(df[\"Text\"])\n",
    "tokens = word_tokenize(sentences)\n",
    "vocabulary = set(tokens)\n",
    "frequency_dist = nltk.FreqDist(tokens)\n",
    "\n",
    "wordcloud = WordCloud(width=1000, height=500, background_color='white').generate_from_frequencies(frequency_dist)\n",
    "plt.figure(figsize=(20,10))\n",
    "plt.imshow(wordcloud)\n",
    "plt.axis(\"off\")\n",
    "plt.tight_layout(pad=0)\n",
    "\n",
    "plt.savefig(\"pre-processd_data.png\", dpi=700)\n",
    "plt.show()\n"
   ]
  },
  {
   "cell_type": "code",
   "execution_count": null,
   "metadata": {
    "id": "dNa2CTlUekBB"
   },
   "outputs": [],
   "source": [
    "#LSTM Modeling\n",
    "#Vectorize consumer complaints text, by turning each text into either a sequence of integers or into a vector.\n",
    "#Limit the data set to the top 5,0000 words.\n",
    "#Set the max number of words in each complaint at 250."
   ]
  },
  {
   "cell_type": "code",
   "execution_count": null,
   "metadata": {
    "colab": {
     "base_uri": "https://localhost:8080/"
    },
    "id": "EemLV83ubtWp",
    "outputId": "4420ff30-d634-428b-b363-1a98f6e8258b"
   },
   "outputs": [
    {
     "name": "stdout",
     "output_type": "stream",
     "text": [
      "Found 45962 unique tokens.\n"
     ]
    }
   ],
   "source": [
    "# The maximum number of words to be used. (most frequent)\n",
    "from keras.preprocessing.text import Tokenizer\n",
    "from keras.preprocessing.sequence import pad_sequences\n",
    "from keras.models import Sequential\n",
    "MAX_NB_WORDS = 50000\n",
    "# Max number of words in each TWEET.\n",
    "MAX_SEQUENCE_LENGTH = 170\n",
    "# This is fixed.\n",
    "EMBEDDING_DIM = 170\n",
    "tokenizer = Tokenizer(num_words=MAX_NB_WORDS, filters='!\"#$%&()*+,-./:;<=>?@[\\]^_`{|}~', lower=True)\n",
    "tokenizer.fit_on_texts(df['Text'].values)\n",
    "word_index = tokenizer.word_index\n",
    "print('Found %s unique tokens.' % len(word_index))"
   ]
  },
  {
   "cell_type": "code",
   "execution_count": null,
   "metadata": {
    "colab": {
     "base_uri": "https://localhost:8080/"
    },
    "id": "sv4Z0T1cfUDu",
    "outputId": "6066ca5f-cead-400d-c081-267705cc0871"
   },
   "outputs": [
    {
     "name": "stdout",
     "output_type": "stream",
     "text": [
      "Shape of data tensor: (27406, 170)\n"
     ]
    }
   ],
   "source": [
    "X = tokenizer.texts_to_sequences(df['Text'].values)\n",
    "X = pad_sequences(X, maxlen=MAX_SEQUENCE_LENGTH)\n",
    "print('Shape of data tensor:', X.shape)"
   ]
  },
  {
   "cell_type": "code",
   "execution_count": null,
   "metadata": {
    "colab": {
     "base_uri": "https://localhost:8080/"
    },
    "id": "kzwwTyuLfeDi",
    "outputId": "c20f53b6-4f08-47b1-8583-b91d0f72c740"
   },
   "outputs": [
    {
     "name": "stdout",
     "output_type": "stream",
     "text": [
      "Shape of label tensor: (27406, 6)\n"
     ]
    }
   ],
   "source": [
    "#Converting categorical labels to numbers.\n",
    "#Offensive= '3'\n",
    "#Anti-State= '1'\n",
    "#Anti-Religion= '0'\n",
    "#Normal='2'\n",
    "#Racism= '4'\n",
    "#sexism='5'\n",
    "\n",
    "Y = pd.get_dummies(df['Label']).values\n",
    "print('Shape of label tensor:', Y.shape)"
   ]
  },
  {
   "cell_type": "code",
   "execution_count": null,
   "metadata": {
    "colab": {
     "base_uri": "https://localhost:8080/"
    },
    "id": "dDYs_C1bfoXY",
    "outputId": "4fc4dfeb-626f-4b88-c981-b1cd74609cf3"
   },
   "outputs": [
    {
     "name": "stdout",
     "output_type": "stream",
     "text": [
      "(19184, 170) (19184, 6)\n",
      "(8222, 170) (8222, 6)\n"
     ]
    }
   ],
   "source": [
    "#Train test split\n",
    "\n",
    "X_train, X_test, Y_train, Y_test = train_test_split(X,Y, test_size = 0.30, random_state = 42)\n",
    "print(X_train.shape,Y_train.shape)\n",
    "print(X_test.shape,Y_test.shape)"
   ]
  },
  {
   "cell_type": "code",
   "execution_count": null,
   "metadata": {
    "colab": {
     "base_uri": "https://localhost:8080/"
    },
    "id": "LRlfshrkftxT",
    "outputId": "787a816f-6759-452b-aa8a-ee6ef030006f"
   },
   "outputs": [
    {
     "name": "stdout",
     "output_type": "stream",
     "text": [
      "Epoch 1/200\n",
      "68/68 [==============================] - 12s 141ms/step - loss: 1.5044 - accuracy: 0.3612 - val_loss: 0.3937 - val_accuracy: 0.8760\n",
      "Epoch 2/200\n",
      "68/68 [==============================] - 9s 128ms/step - loss: 0.2621 - accuracy: 0.9171 - val_loss: 0.2594 - val_accuracy: 0.9218\n",
      "Epoch 3/200\n",
      "68/68 [==============================] - 8s 125ms/step - loss: 0.0588 - accuracy: 0.9818 - val_loss: 0.2912 - val_accuracy: 0.9255\n",
      "Epoch 4/200\n",
      "68/68 [==============================] - 9s 128ms/step - loss: 0.0319 - accuracy: 0.9917 - val_loss: 0.3255 - val_accuracy: 0.9260\n",
      "Epoch 5/200\n",
      "68/68 [==============================] - 9s 127ms/step - loss: 0.0109 - accuracy: 0.9979 - val_loss: 0.3450 - val_accuracy: 0.9307\n",
      "Epoch 6/200\n",
      "68/68 [==============================] - 9s 126ms/step - loss: 0.0071 - accuracy: 0.9987 - val_loss: 0.3825 - val_accuracy: 0.9234\n",
      "Epoch 7/200\n",
      "68/68 [==============================] - 8s 124ms/step - loss: 0.0046 - accuracy: 0.9991 - val_loss: 0.4615 - val_accuracy: 0.9234\n",
      "Epoch 8/200\n",
      "68/68 [==============================] - 9s 127ms/step - loss: 0.0059 - accuracy: 0.9989 - val_loss: 0.3568 - val_accuracy: 0.9291\n",
      "Epoch 9/200\n",
      "68/68 [==============================] - 9s 126ms/step - loss: 0.0055 - accuracy: 0.9987 - val_loss: 0.4022 - val_accuracy: 0.9286\n",
      "Epoch 10/200\n",
      "68/68 [==============================] - 9s 126ms/step - loss: 0.0059 - accuracy: 0.9987 - val_loss: 0.4452 - val_accuracy: 0.9265\n",
      "Epoch 11/200\n",
      "68/68 [==============================] - 9s 126ms/step - loss: 0.0059 - accuracy: 0.9986 - val_loss: 0.4013 - val_accuracy: 0.9265\n",
      "Epoch 12/200\n",
      "68/68 [==============================] - 9s 126ms/step - loss: 0.0152 - accuracy: 0.9958 - val_loss: 0.4475 - val_accuracy: 0.9208\n",
      "Epoch 13/200\n",
      "68/68 [==============================] - 9s 127ms/step - loss: 0.0088 - accuracy: 0.9975 - val_loss: 0.3726 - val_accuracy: 0.9323\n",
      "Epoch 14/200\n",
      "68/68 [==============================] - 9s 126ms/step - loss: 0.0054 - accuracy: 0.9988 - val_loss: 0.4237 - val_accuracy: 0.9291\n",
      "Epoch 15/200\n",
      "68/68 [==============================] - 9s 130ms/step - loss: 0.0039 - accuracy: 0.9995 - val_loss: 0.3974 - val_accuracy: 0.9375\n",
      "Epoch 16/200\n",
      "68/68 [==============================] - 8s 125ms/step - loss: 0.0046 - accuracy: 0.9989 - val_loss: 0.4731 - val_accuracy: 0.9203\n",
      "Epoch 17/200\n",
      "68/68 [==============================] - 8s 123ms/step - loss: 0.0059 - accuracy: 0.9985 - val_loss: 0.3838 - val_accuracy: 0.9396\n",
      "Epoch 18/200\n",
      "68/68 [==============================] - 8s 125ms/step - loss: 0.0041 - accuracy: 0.9987 - val_loss: 0.4064 - val_accuracy: 0.9291\n",
      "Epoch 19/200\n",
      "68/68 [==============================] - 9s 127ms/step - loss: 0.0017 - accuracy: 0.9997 - val_loss: 0.3798 - val_accuracy: 0.9364\n",
      "Epoch 20/200\n",
      "68/68 [==============================] - 9s 126ms/step - loss: 0.0011 - accuracy: 0.9998 - val_loss: 0.3835 - val_accuracy: 0.9369\n",
      "Epoch 21/200\n",
      "68/68 [==============================] - 9s 125ms/step - loss: 0.0023 - accuracy: 0.9993 - val_loss: 0.3767 - val_accuracy: 0.9396\n",
      "Epoch 22/200\n",
      "68/68 [==============================] - 9s 126ms/step - loss: 0.0022 - accuracy: 0.9995 - val_loss: 0.3828 - val_accuracy: 0.9401\n",
      "Epoch 23/200\n",
      "68/68 [==============================] - 9s 127ms/step - loss: 0.0016 - accuracy: 0.9995 - val_loss: 0.3951 - val_accuracy: 0.9396\n",
      "Epoch 24/200\n",
      "68/68 [==============================] - 9s 127ms/step - loss: 0.0028 - accuracy: 0.9994 - val_loss: 0.4104 - val_accuracy: 0.9369\n",
      "Epoch 25/200\n",
      "68/68 [==============================] - 9s 125ms/step - loss: 0.0038 - accuracy: 0.9992 - val_loss: 0.4012 - val_accuracy: 0.9411\n",
      "Epoch 26/200\n",
      "68/68 [==============================] - 8s 125ms/step - loss: 0.0016 - accuracy: 0.9997 - val_loss: 0.4117 - val_accuracy: 0.9411\n",
      "Epoch 27/200\n",
      "68/68 [==============================] - 9s 126ms/step - loss: 0.0018 - accuracy: 0.9995 - val_loss: 0.4124 - val_accuracy: 0.9380\n",
      "Epoch 28/200\n",
      "68/68 [==============================] - 8s 124ms/step - loss: 6.1618e-04 - accuracy: 0.9999 - val_loss: 0.4033 - val_accuracy: 0.9427\n",
      "Epoch 29/200\n",
      "68/68 [==============================] - 9s 127ms/step - loss: 7.6416e-04 - accuracy: 0.9998 - val_loss: 0.4211 - val_accuracy: 0.9390\n",
      "Epoch 30/200\n",
      "68/68 [==============================] - 9s 128ms/step - loss: 0.0011 - accuracy: 0.9997 - val_loss: 0.4096 - val_accuracy: 0.9401\n",
      "Epoch 31/200\n",
      "68/68 [==============================] - 9s 127ms/step - loss: 0.0018 - accuracy: 0.9994 - val_loss: 0.4262 - val_accuracy: 0.9401\n",
      "Epoch 32/200\n",
      "68/68 [==============================] - 9s 128ms/step - loss: 8.4366e-04 - accuracy: 0.9997 - val_loss: 0.4148 - val_accuracy: 0.9411\n",
      "Epoch 33/200\n",
      "68/68 [==============================] - 9s 130ms/step - loss: 0.0016 - accuracy: 0.9995 - val_loss: 0.4158 - val_accuracy: 0.9432\n",
      "Epoch 34/200\n",
      "68/68 [==============================] - 9s 128ms/step - loss: 6.4984e-04 - accuracy: 0.9999 - val_loss: 0.4118 - val_accuracy: 0.9442\n",
      "Epoch 35/200\n",
      "68/68 [==============================] - 9s 127ms/step - loss: 7.2582e-04 - accuracy: 0.9998 - val_loss: 0.4170 - val_accuracy: 0.9427\n",
      "Epoch 36/200\n",
      "68/68 [==============================] - 9s 128ms/step - loss: 0.0011 - accuracy: 0.9997 - val_loss: 0.3869 - val_accuracy: 0.9385\n",
      "Epoch 37/200\n",
      "68/68 [==============================] - 9s 127ms/step - loss: 0.0017 - accuracy: 0.9995 - val_loss: 0.3959 - val_accuracy: 0.9448\n",
      "Epoch 38/200\n",
      "68/68 [==============================] - 9s 128ms/step - loss: 0.0013 - accuracy: 0.9995 - val_loss: 0.4047 - val_accuracy: 0.9432\n",
      "Epoch 39/200\n",
      "68/68 [==============================] - 9s 125ms/step - loss: 0.0010 - accuracy: 0.9998 - val_loss: 0.4131 - val_accuracy: 0.9411\n",
      "Epoch 40/200\n",
      "68/68 [==============================] - 9s 126ms/step - loss: 0.0012 - accuracy: 0.9996 - val_loss: 0.4273 - val_accuracy: 0.9427\n",
      "Epoch 41/200\n",
      "68/68 [==============================] - 9s 127ms/step - loss: 9.8096e-04 - accuracy: 0.9997 - val_loss: 0.4237 - val_accuracy: 0.9422\n",
      "Epoch 42/200\n",
      "68/68 [==============================] - 9s 125ms/step - loss: 0.0013 - accuracy: 0.9997 - val_loss: 0.4344 - val_accuracy: 0.9411\n",
      "Epoch 43/200\n",
      "68/68 [==============================] - 9s 127ms/step - loss: 6.0065e-04 - accuracy: 0.9997 - val_loss: 0.4554 - val_accuracy: 0.9390\n",
      "Epoch 44/200\n",
      "68/68 [==============================] - 9s 126ms/step - loss: 0.0017 - accuracy: 0.9994 - val_loss: 0.4693 - val_accuracy: 0.9349\n",
      "Epoch 45/200\n",
      "68/68 [==============================] - 9s 126ms/step - loss: 6.2032e-04 - accuracy: 0.9999 - val_loss: 0.4191 - val_accuracy: 0.9416\n",
      "Epoch 46/200\n",
      "68/68 [==============================] - 9s 127ms/step - loss: 0.0020 - accuracy: 0.9995 - val_loss: 0.4499 - val_accuracy: 0.9323\n",
      "Epoch 47/200\n",
      "68/68 [==============================] - 8s 123ms/step - loss: 0.0050 - accuracy: 0.9986 - val_loss: 0.3859 - val_accuracy: 0.9369\n",
      "Epoch 48/200\n",
      "68/68 [==============================] - 8s 125ms/step - loss: 0.0148 - accuracy: 0.9951 - val_loss: 0.3471 - val_accuracy: 0.9442\n",
      "Epoch 49/200\n",
      "68/68 [==============================] - 9s 125ms/step - loss: 0.0034 - accuracy: 0.9992 - val_loss: 0.3685 - val_accuracy: 0.9338\n",
      "Epoch 50/200\n",
      "68/68 [==============================] - 9s 126ms/step - loss: 0.0048 - accuracy: 0.9986 - val_loss: 0.4716 - val_accuracy: 0.9302\n",
      "Epoch 51/200\n",
      "68/68 [==============================] - 9s 126ms/step - loss: 0.0053 - accuracy: 0.9986 - val_loss: 0.3960 - val_accuracy: 0.9270\n",
      "Epoch 52/200\n",
      "68/68 [==============================] - 8s 125ms/step - loss: 0.0065 - accuracy: 0.9984 - val_loss: 0.3197 - val_accuracy: 0.9416\n",
      "Epoch 53/200\n",
      "68/68 [==============================] - 8s 125ms/step - loss: 0.0034 - accuracy: 0.9990 - val_loss: 0.3319 - val_accuracy: 0.9401\n",
      "Epoch 54/200\n",
      "68/68 [==============================] - 9s 126ms/step - loss: 0.0010 - accuracy: 0.9997 - val_loss: 0.3322 - val_accuracy: 0.9406\n",
      "Epoch 55/200\n",
      "68/68 [==============================] - 9s 126ms/step - loss: 8.9148e-04 - accuracy: 0.9997 - val_loss: 0.3704 - val_accuracy: 0.9411\n",
      "Epoch 56/200\n",
      "68/68 [==============================] - 9s 127ms/step - loss: 0.0014 - accuracy: 0.9996 - val_loss: 0.3616 - val_accuracy: 0.9390\n",
      "Epoch 57/200\n",
      "68/68 [==============================] - 9s 126ms/step - loss: 0.0012 - accuracy: 0.9996 - val_loss: 0.3605 - val_accuracy: 0.9401\n",
      "Epoch 58/200\n",
      "68/68 [==============================] - 8s 124ms/step - loss: 7.0783e-04 - accuracy: 0.9997 - val_loss: 0.3693 - val_accuracy: 0.9406\n",
      "Epoch 59/200\n",
      "68/68 [==============================] - 9s 130ms/step - loss: 0.0010 - accuracy: 0.9996 - val_loss: 0.3525 - val_accuracy: 0.9411\n",
      "Epoch 60/200\n",
      "68/68 [==============================] - 9s 127ms/step - loss: 0.0010 - accuracy: 0.9998 - val_loss: 0.3648 - val_accuracy: 0.9406\n",
      "Epoch 61/200\n",
      "68/68 [==============================] - 9s 126ms/step - loss: 0.0017 - accuracy: 0.9995 - val_loss: 0.3707 - val_accuracy: 0.9401\n",
      "Epoch 62/200\n",
      "68/68 [==============================] - 9s 127ms/step - loss: 0.0010 - accuracy: 0.9997 - val_loss: 0.3755 - val_accuracy: 0.9385\n",
      "Epoch 63/200\n",
      "68/68 [==============================] - 9s 127ms/step - loss: 8.2402e-04 - accuracy: 0.9998 - val_loss: 0.3585 - val_accuracy: 0.9416\n",
      "Epoch 64/200\n",
      "68/68 [==============================] - 8s 125ms/step - loss: 9.6031e-04 - accuracy: 0.9998 - val_loss: 0.3793 - val_accuracy: 0.9396\n",
      "Epoch 65/200\n",
      "68/68 [==============================] - 9s 126ms/step - loss: 0.0011 - accuracy: 0.9996 - val_loss: 0.3810 - val_accuracy: 0.9390\n",
      "Epoch 66/200\n",
      "68/68 [==============================] - 8s 125ms/step - loss: 5.0312e-04 - accuracy: 0.9999 - val_loss: 0.3802 - val_accuracy: 0.9401\n",
      "Epoch 67/200\n",
      "68/68 [==============================] - 9s 126ms/step - loss: 8.2164e-04 - accuracy: 0.9998 - val_loss: 0.3691 - val_accuracy: 0.9406\n",
      "Epoch 68/200\n",
      "68/68 [==============================] - 9s 127ms/step - loss: 0.0017 - accuracy: 0.9995 - val_loss: 0.3723 - val_accuracy: 0.9422\n",
      "Epoch 69/200\n",
      "68/68 [==============================] - 9s 128ms/step - loss: 7.3648e-04 - accuracy: 0.9998 - val_loss: 0.3907 - val_accuracy: 0.9411\n",
      "Epoch 70/200\n",
      "68/68 [==============================] - 9s 127ms/step - loss: 0.0010 - accuracy: 0.9998 - val_loss: 0.3784 - val_accuracy: 0.9411\n",
      "Epoch 71/200\n",
      "68/68 [==============================] - 9s 126ms/step - loss: 5.9027e-04 - accuracy: 0.9998 - val_loss: 0.3815 - val_accuracy: 0.9422\n",
      "Epoch 72/200\n",
      "68/68 [==============================] - 9s 128ms/step - loss: 0.0011 - accuracy: 0.9996 - val_loss: 0.3844 - val_accuracy: 0.9385\n",
      "Epoch 73/200\n",
      "68/68 [==============================] - 9s 127ms/step - loss: 0.0015 - accuracy: 0.9996 - val_loss: 0.3988 - val_accuracy: 0.9401\n",
      "Epoch 74/200\n",
      "68/68 [==============================] - 9s 127ms/step - loss: 7.1155e-04 - accuracy: 0.9997 - val_loss: 0.3946 - val_accuracy: 0.9401\n",
      "Epoch 75/200\n",
      "68/68 [==============================] - 9s 127ms/step - loss: 0.0013 - accuracy: 0.9996 - val_loss: 0.3781 - val_accuracy: 0.9411\n",
      "Epoch 76/200\n",
      "68/68 [==============================] - 9s 128ms/step - loss: 0.0014 - accuracy: 0.9993 - val_loss: 0.3833 - val_accuracy: 0.9401\n",
      "Epoch 77/200\n",
      "68/68 [==============================] - 9s 127ms/step - loss: 0.0014 - accuracy: 0.9995 - val_loss: 0.3871 - val_accuracy: 0.9416\n",
      "Epoch 78/200\n",
      "68/68 [==============================] - 9s 127ms/step - loss: 8.0346e-04 - accuracy: 0.9996 - val_loss: 0.3883 - val_accuracy: 0.9416\n",
      "Epoch 79/200\n",
      "68/68 [==============================] - 9s 126ms/step - loss: 7.2694e-04 - accuracy: 0.9997 - val_loss: 0.3805 - val_accuracy: 0.9427\n",
      "Epoch 80/200\n",
      "68/68 [==============================] - 9s 125ms/step - loss: 0.0014 - accuracy: 0.9995 - val_loss: 0.3800 - val_accuracy: 0.9416\n",
      "Epoch 81/200\n",
      "68/68 [==============================] - 9s 126ms/step - loss: 8.7234e-04 - accuracy: 0.9996 - val_loss: 0.3822 - val_accuracy: 0.9422\n",
      "Epoch 82/200\n",
      "68/68 [==============================] - 9s 127ms/step - loss: 9.3347e-04 - accuracy: 0.9997 - val_loss: 0.3844 - val_accuracy: 0.9416\n",
      "Epoch 83/200\n",
      "68/68 [==============================] - 9s 126ms/step - loss: 8.6176e-04 - accuracy: 0.9998 - val_loss: 0.3822 - val_accuracy: 0.9422\n",
      "Epoch 84/200\n",
      "68/68 [==============================] - 9s 127ms/step - loss: 0.0011 - accuracy: 0.9997 - val_loss: 0.3778 - val_accuracy: 0.9432\n",
      "Epoch 85/200\n",
      "68/68 [==============================] - 9s 126ms/step - loss: 0.0018 - accuracy: 0.9994 - val_loss: 0.3787 - val_accuracy: 0.9442\n",
      "Epoch 86/200\n",
      "68/68 [==============================] - 9s 126ms/step - loss: 7.6416e-04 - accuracy: 0.9997 - val_loss: 0.3842 - val_accuracy: 0.9427\n",
      "Epoch 87/200\n",
      "68/68 [==============================] - 9s 126ms/step - loss: 6.2081e-04 - accuracy: 0.9998 - val_loss: 0.3924 - val_accuracy: 0.9411\n",
      "Epoch 88/200\n",
      "68/68 [==============================] - 9s 126ms/step - loss: 7.7961e-04 - accuracy: 0.9998 - val_loss: 0.3893 - val_accuracy: 0.9422\n",
      "Epoch 89/200\n",
      "68/68 [==============================] - 9s 127ms/step - loss: 0.0018 - accuracy: 0.9994 - val_loss: 0.3883 - val_accuracy: 0.9427\n",
      "Epoch 90/200\n",
      "68/68 [==============================] - 9s 127ms/step - loss: 7.8330e-04 - accuracy: 0.9996 - val_loss: 0.3867 - val_accuracy: 0.9427\n",
      "Epoch 91/200\n",
      "68/68 [==============================] - 9s 126ms/step - loss: 0.0011 - accuracy: 0.9996 - val_loss: 0.3884 - val_accuracy: 0.9427\n",
      "Epoch 92/200\n",
      "68/68 [==============================] - 9s 126ms/step - loss: 0.0012 - accuracy: 0.9996 - val_loss: 0.3842 - val_accuracy: 0.9442\n",
      "Epoch 93/200\n",
      "68/68 [==============================] - 9s 127ms/step - loss: 0.0011 - accuracy: 0.9994 - val_loss: 0.3945 - val_accuracy: 0.9432\n",
      "Epoch 94/200\n",
      "68/68 [==============================] - 9s 127ms/step - loss: 0.0018 - accuracy: 0.9993 - val_loss: 0.3910 - val_accuracy: 0.9427\n",
      "Epoch 95/200\n",
      "68/68 [==============================] - 9s 127ms/step - loss: 0.0012 - accuracy: 0.9996 - val_loss: 0.3981 - val_accuracy: 0.9448\n",
      "Epoch 96/200\n",
      "68/68 [==============================] - 9s 127ms/step - loss: 0.0012 - accuracy: 0.9995 - val_loss: 0.3968 - val_accuracy: 0.9448\n",
      "Epoch 97/200\n",
      "68/68 [==============================] - 9s 126ms/step - loss: 0.0014 - accuracy: 0.9995 - val_loss: 0.3917 - val_accuracy: 0.9437\n",
      "Epoch 98/200\n",
      "68/68 [==============================] - 9s 127ms/step - loss: 0.0014 - accuracy: 0.9997 - val_loss: 0.4035 - val_accuracy: 0.9422\n",
      "Epoch 99/200\n",
      "68/68 [==============================] - 9s 127ms/step - loss: 0.0022 - accuracy: 0.9993 - val_loss: 0.3916 - val_accuracy: 0.9432\n",
      "Epoch 100/200\n",
      "68/68 [==============================] - 9s 128ms/step - loss: 0.0012 - accuracy: 0.9997 - val_loss: 0.3999 - val_accuracy: 0.9437\n",
      "Epoch 101/200\n",
      "68/68 [==============================] - 9s 127ms/step - loss: 7.4357e-04 - accuracy: 0.9997 - val_loss: 0.3958 - val_accuracy: 0.9437\n",
      "Epoch 102/200\n",
      "68/68 [==============================] - 9s 126ms/step - loss: 0.0011 - accuracy: 0.9994 - val_loss: 0.3986 - val_accuracy: 0.9432\n",
      "Epoch 103/200\n",
      "68/68 [==============================] - 9s 131ms/step - loss: 5.7521e-04 - accuracy: 0.9996 - val_loss: 0.3945 - val_accuracy: 0.9442\n",
      "Epoch 104/200\n",
      "68/68 [==============================] - 9s 127ms/step - loss: 7.7255e-04 - accuracy: 0.9997 - val_loss: 0.3968 - val_accuracy: 0.9432\n",
      "Epoch 105/200\n",
      "68/68 [==============================] - 9s 128ms/step - loss: 0.0018 - accuracy: 0.9991 - val_loss: 0.3951 - val_accuracy: 0.9437\n",
      "Epoch 106/200\n",
      "68/68 [==============================] - 9s 127ms/step - loss: 0.0012 - accuracy: 0.9993 - val_loss: 0.3973 - val_accuracy: 0.9437\n",
      "Epoch 107/200\n",
      "68/68 [==============================] - 9s 126ms/step - loss: 0.0012 - accuracy: 0.9995 - val_loss: 0.4014 - val_accuracy: 0.9442\n",
      "Epoch 108/200\n",
      "68/68 [==============================] - 9s 127ms/step - loss: 0.0015 - accuracy: 0.9996 - val_loss: 0.4094 - val_accuracy: 0.9432\n",
      "Epoch 109/200\n",
      "68/68 [==============================] - 9s 125ms/step - loss: 6.7222e-04 - accuracy: 0.9997 - val_loss: 0.4102 - val_accuracy: 0.9448\n",
      "Epoch 110/200\n",
      "68/68 [==============================] - 9s 127ms/step - loss: 6.3289e-04 - accuracy: 0.9997 - val_loss: 0.4092 - val_accuracy: 0.9427\n",
      "Epoch 111/200\n",
      "68/68 [==============================] - 9s 127ms/step - loss: 0.0011 - accuracy: 0.9996 - val_loss: 0.6122 - val_accuracy: 0.9239\n",
      "Epoch 112/200\n",
      "68/68 [==============================] - 9s 126ms/step - loss: 0.0177 - accuracy: 0.9952 - val_loss: 0.3764 - val_accuracy: 0.9364\n",
      "Epoch 113/200\n",
      "68/68 [==============================] - 9s 125ms/step - loss: 0.0113 - accuracy: 0.9973 - val_loss: 0.2703 - val_accuracy: 0.9453\n",
      "Epoch 114/200\n",
      "68/68 [==============================] - 9s 127ms/step - loss: 0.0041 - accuracy: 0.9990 - val_loss: 0.3061 - val_accuracy: 0.9432\n",
      "Epoch 115/200\n",
      "68/68 [==============================] - 9s 126ms/step - loss: 0.0025 - accuracy: 0.9993 - val_loss: 0.3386 - val_accuracy: 0.9401\n",
      "Epoch 116/200\n",
      "68/68 [==============================] - 9s 127ms/step - loss: 0.0011 - accuracy: 0.9996 - val_loss: 0.3379 - val_accuracy: 0.9422\n",
      "Epoch 117/200\n",
      "68/68 [==============================] - 9s 127ms/step - loss: 0.0013 - accuracy: 0.9993 - val_loss: 0.3436 - val_accuracy: 0.9427\n",
      "Epoch 118/200\n",
      "68/68 [==============================] - 9s 127ms/step - loss: 7.3727e-04 - accuracy: 0.9998 - val_loss: 0.3572 - val_accuracy: 0.9437\n",
      "Epoch 119/200\n",
      "68/68 [==============================] - 9s 128ms/step - loss: 9.3492e-04 - accuracy: 0.9997 - val_loss: 0.3636 - val_accuracy: 0.9453\n",
      "Epoch 120/200\n",
      "68/68 [==============================] - 9s 127ms/step - loss: 4.9611e-04 - accuracy: 0.9999 - val_loss: 0.3633 - val_accuracy: 0.9442\n",
      "Epoch 121/200\n",
      "68/68 [==============================] - 9s 126ms/step - loss: 7.4654e-04 - accuracy: 0.9997 - val_loss: 0.3698 - val_accuracy: 0.9432\n",
      "Epoch 122/200\n",
      "68/68 [==============================] - 9s 126ms/step - loss: 0.0010 - accuracy: 0.9997 - val_loss: 0.3682 - val_accuracy: 0.9453\n",
      "Epoch 123/200\n",
      "68/68 [==============================] - 9s 125ms/step - loss: 0.0014 - accuracy: 0.9992 - val_loss: 0.3747 - val_accuracy: 0.9448\n",
      "Epoch 124/200\n",
      "68/68 [==============================] - 9s 128ms/step - loss: 0.0014 - accuracy: 0.9996 - val_loss: 0.3797 - val_accuracy: 0.9458\n",
      "Epoch 125/200\n",
      "68/68 [==============================] - 9s 127ms/step - loss: 8.1512e-04 - accuracy: 0.9998 - val_loss: 0.3796 - val_accuracy: 0.9442\n",
      "Epoch 126/200\n",
      "68/68 [==============================] - 9s 127ms/step - loss: 0.0013 - accuracy: 0.9995 - val_loss: 0.3815 - val_accuracy: 0.9448\n",
      "Epoch 127/200\n",
      "68/68 [==============================] - 9s 127ms/step - loss: 0.0016 - accuracy: 0.9994 - val_loss: 0.3853 - val_accuracy: 0.9458\n",
      "Epoch 128/200\n",
      "68/68 [==============================] - 9s 127ms/step - loss: 0.0015 - accuracy: 0.9995 - val_loss: 0.3898 - val_accuracy: 0.9448\n",
      "Epoch 129/200\n",
      "68/68 [==============================] - 9s 127ms/step - loss: 0.0013 - accuracy: 0.9995 - val_loss: 0.3908 - val_accuracy: 0.9453\n",
      "Epoch 130/200\n",
      "68/68 [==============================] - 9s 127ms/step - loss: 8.1433e-04 - accuracy: 0.9996 - val_loss: 0.3917 - val_accuracy: 0.9463\n",
      "Epoch 131/200\n",
      "68/68 [==============================] - 9s 127ms/step - loss: 6.9111e-04 - accuracy: 0.9996 - val_loss: 0.3991 - val_accuracy: 0.9442\n",
      "Epoch 132/200\n",
      "68/68 [==============================] - 9s 127ms/step - loss: 5.5114e-04 - accuracy: 0.9998 - val_loss: 0.3937 - val_accuracy: 0.9437\n",
      "Epoch 133/200\n",
      "68/68 [==============================] - 9s 127ms/step - loss: 7.5576e-04 - accuracy: 0.9999 - val_loss: 0.3913 - val_accuracy: 0.9453\n",
      "Epoch 134/200\n",
      "68/68 [==============================] - 9s 127ms/step - loss: 8.0393e-04 - accuracy: 0.9996 - val_loss: 0.3980 - val_accuracy: 0.9437\n",
      "Epoch 135/200\n",
      "68/68 [==============================] - 9s 129ms/step - loss: 0.0011 - accuracy: 0.9996 - val_loss: 0.3961 - val_accuracy: 0.9458\n",
      "Epoch 136/200\n",
      "68/68 [==============================] - 8s 125ms/step - loss: 0.0011 - accuracy: 0.9996 - val_loss: 0.4023 - val_accuracy: 0.9448\n",
      "Epoch 137/200\n",
      "68/68 [==============================] - 9s 128ms/step - loss: 0.0013 - accuracy: 0.9996 - val_loss: 0.4055 - val_accuracy: 0.9463\n",
      "Epoch 138/200\n",
      "68/68 [==============================] - 9s 126ms/step - loss: 0.0013 - accuracy: 0.9996 - val_loss: 0.4027 - val_accuracy: 0.9453\n",
      "Epoch 139/200\n",
      "68/68 [==============================] - 9s 127ms/step - loss: 8.9772e-04 - accuracy: 0.9998 - val_loss: 0.4050 - val_accuracy: 0.9437\n",
      "Epoch 140/200\n",
      "68/68 [==============================] - 9s 127ms/step - loss: 0.0014 - accuracy: 0.9995 - val_loss: 0.4066 - val_accuracy: 0.9437\n",
      "Epoch 141/200\n",
      "68/68 [==============================] - 9s 129ms/step - loss: 5.9560e-04 - accuracy: 0.9998 - val_loss: 0.4064 - val_accuracy: 0.9442\n",
      "Epoch 142/200\n",
      "68/68 [==============================] - 9s 127ms/step - loss: 0.0010 - accuracy: 0.9997 - val_loss: 0.3965 - val_accuracy: 0.9463\n",
      "Epoch 143/200\n",
      "68/68 [==============================] - 9s 128ms/step - loss: 0.0011 - accuracy: 0.9996 - val_loss: 0.4057 - val_accuracy: 0.9442\n",
      "Epoch 144/200\n",
      "68/68 [==============================] - 9s 129ms/step - loss: 9.7959e-04 - accuracy: 0.9995 - val_loss: 0.4107 - val_accuracy: 0.9442\n",
      "Epoch 145/200\n",
      "68/68 [==============================] - 9s 126ms/step - loss: 8.9202e-04 - accuracy: 0.9998 - val_loss: 0.4121 - val_accuracy: 0.9458\n",
      "Epoch 146/200\n",
      "68/68 [==============================] - 9s 128ms/step - loss: 0.0022 - accuracy: 0.9992 - val_loss: 0.4161 - val_accuracy: 0.9442\n",
      "Epoch 147/200\n",
      "68/68 [==============================] - 9s 132ms/step - loss: 0.0011 - accuracy: 0.9997 - val_loss: 0.4200 - val_accuracy: 0.9453\n",
      "Epoch 148/200\n",
      "68/68 [==============================] - 9s 126ms/step - loss: 4.8371e-04 - accuracy: 0.9998 - val_loss: 0.4229 - val_accuracy: 0.9437\n",
      "Epoch 149/200\n",
      "68/68 [==============================] - 9s 127ms/step - loss: 7.8114e-04 - accuracy: 0.9998 - val_loss: 0.4208 - val_accuracy: 0.9442\n",
      "Epoch 150/200\n",
      "68/68 [==============================] - 9s 127ms/step - loss: 7.6885e-04 - accuracy: 0.9996 - val_loss: 0.4210 - val_accuracy: 0.9442\n",
      "Epoch 151/200\n",
      "68/68 [==============================] - 9s 127ms/step - loss: 0.0011 - accuracy: 0.9997 - val_loss: 0.4208 - val_accuracy: 0.9448\n",
      "Epoch 152/200\n",
      "68/68 [==============================] - 9s 127ms/step - loss: 0.0011 - accuracy: 0.9997 - val_loss: 0.4263 - val_accuracy: 0.9448\n",
      "Epoch 153/200\n",
      "68/68 [==============================] - 9s 127ms/step - loss: 7.8325e-04 - accuracy: 0.9998 - val_loss: 0.4255 - val_accuracy: 0.9442\n",
      "Epoch 154/200\n",
      "68/68 [==============================] - 9s 129ms/step - loss: 0.0014 - accuracy: 0.9994 - val_loss: 0.4271 - val_accuracy: 0.9453\n",
      "Epoch 155/200\n",
      "68/68 [==============================] - 9s 126ms/step - loss: 0.0015 - accuracy: 0.9995 - val_loss: 0.4253 - val_accuracy: 0.9442\n",
      "Epoch 156/200\n",
      "68/68 [==============================] - 9s 128ms/step - loss: 5.6129e-04 - accuracy: 0.9997 - val_loss: 0.4258 - val_accuracy: 0.9442\n",
      "Epoch 157/200\n",
      "68/68 [==============================] - 9s 129ms/step - loss: 7.0448e-04 - accuracy: 0.9998 - val_loss: 0.4239 - val_accuracy: 0.9448\n",
      "Epoch 158/200\n",
      "68/68 [==============================] - 9s 127ms/step - loss: 8.5421e-04 - accuracy: 0.9997 - val_loss: 0.4291 - val_accuracy: 0.9437\n",
      "Epoch 159/200\n",
      "68/68 [==============================] - 9s 126ms/step - loss: 7.5330e-04 - accuracy: 0.9998 - val_loss: 0.4256 - val_accuracy: 0.9437\n",
      "Epoch 160/200\n",
      "68/68 [==============================] - 9s 125ms/step - loss: 7.0117e-04 - accuracy: 0.9997 - val_loss: 0.4292 - val_accuracy: 0.9442\n",
      "Epoch 161/200\n",
      "68/68 [==============================] - 9s 128ms/step - loss: 0.0010 - accuracy: 0.9996 - val_loss: 0.4335 - val_accuracy: 0.9448\n",
      "Epoch 162/200\n",
      "68/68 [==============================] - 9s 128ms/step - loss: 0.0010 - accuracy: 0.9995 - val_loss: 0.4351 - val_accuracy: 0.9437\n",
      "Epoch 163/200\n",
      "68/68 [==============================] - 9s 127ms/step - loss: 0.0012 - accuracy: 0.9996 - val_loss: 0.4330 - val_accuracy: 0.9448\n",
      "Epoch 164/200\n",
      "68/68 [==============================] - 9s 128ms/step - loss: 0.0011 - accuracy: 0.9997 - val_loss: 0.4407 - val_accuracy: 0.9448\n",
      "Epoch 165/200\n",
      "68/68 [==============================] - 9s 126ms/step - loss: 9.7735e-04 - accuracy: 0.9997 - val_loss: 0.4312 - val_accuracy: 0.9422\n",
      "Epoch 166/200\n",
      "68/68 [==============================] - 9s 127ms/step - loss: 0.0014 - accuracy: 0.9996 - val_loss: 0.4296 - val_accuracy: 0.9442\n",
      "Epoch 167/200\n",
      "68/68 [==============================] - 9s 127ms/step - loss: 7.7189e-04 - accuracy: 0.9998 - val_loss: 0.4337 - val_accuracy: 0.9437\n",
      "Epoch 168/200\n",
      "68/68 [==============================] - 9s 127ms/step - loss: 0.0011 - accuracy: 0.9995 - val_loss: 0.4361 - val_accuracy: 0.9448\n",
      "Epoch 169/200\n",
      "68/68 [==============================] - 9s 127ms/step - loss: 0.0013 - accuracy: 0.9995 - val_loss: 0.4391 - val_accuracy: 0.9432\n",
      "Epoch 170/200\n",
      "68/68 [==============================] - 9s 126ms/step - loss: 0.0015 - accuracy: 0.9994 - val_loss: 0.4420 - val_accuracy: 0.9442\n",
      "Epoch 171/200\n",
      "68/68 [==============================] - 9s 128ms/step - loss: 6.5801e-04 - accuracy: 0.9998 - val_loss: 0.4422 - val_accuracy: 0.9442\n",
      "Epoch 172/200\n",
      "68/68 [==============================] - 9s 127ms/step - loss: 0.0010 - accuracy: 0.9993 - val_loss: 0.4444 - val_accuracy: 0.9453\n",
      "Epoch 173/200\n",
      "68/68 [==============================] - 9s 128ms/step - loss: 0.0015 - accuracy: 0.9994 - val_loss: 0.4448 - val_accuracy: 0.9437\n",
      "Epoch 174/200\n",
      "68/68 [==============================] - 9s 129ms/step - loss: 0.0011 - accuracy: 0.9996 - val_loss: 0.4457 - val_accuracy: 0.9442\n",
      "Epoch 175/200\n",
      "68/68 [==============================] - 9s 126ms/step - loss: 8.6432e-04 - accuracy: 0.9996 - val_loss: 0.4518 - val_accuracy: 0.9437\n",
      "Epoch 176/200\n",
      "68/68 [==============================] - 9s 129ms/step - loss: 0.0013 - accuracy: 0.9996 - val_loss: 0.4454 - val_accuracy: 0.9437\n",
      "Epoch 177/200\n",
      "68/68 [==============================] - 9s 127ms/step - loss: 5.7604e-04 - accuracy: 0.9998 - val_loss: 0.4537 - val_accuracy: 0.9442\n",
      "Epoch 178/200\n",
      "68/68 [==============================] - 9s 127ms/step - loss: 0.0013 - accuracy: 0.9995 - val_loss: 0.4553 - val_accuracy: 0.9442\n",
      "Epoch 179/200\n",
      "68/68 [==============================] - 9s 128ms/step - loss: 8.4621e-04 - accuracy: 0.9997 - val_loss: 0.4555 - val_accuracy: 0.9448\n",
      "Epoch 180/200\n",
      "68/68 [==============================] - 9s 128ms/step - loss: 9.2380e-04 - accuracy: 0.9996 - val_loss: 0.4552 - val_accuracy: 0.9442\n",
      "Epoch 181/200\n",
      "68/68 [==============================] - 9s 128ms/step - loss: 0.0010 - accuracy: 0.9997 - val_loss: 0.4572 - val_accuracy: 0.9448\n",
      "Epoch 182/200\n",
      "68/68 [==============================] - 9s 127ms/step - loss: 5.2707e-04 - accuracy: 0.9998 - val_loss: 0.4640 - val_accuracy: 0.9442\n",
      "Epoch 183/200\n",
      "68/68 [==============================] - 9s 127ms/step - loss: 7.5989e-04 - accuracy: 0.9997 - val_loss: 0.4619 - val_accuracy: 0.9442\n",
      "Epoch 184/200\n",
      "68/68 [==============================] - 9s 128ms/step - loss: 7.4297e-04 - accuracy: 0.9997 - val_loss: 0.4550 - val_accuracy: 0.9448\n",
      "Epoch 185/200\n",
      "68/68 [==============================] - 9s 127ms/step - loss: 0.0011 - accuracy: 0.9997 - val_loss: 0.4625 - val_accuracy: 0.9437\n",
      "Epoch 186/200\n",
      "68/68 [==============================] - 9s 127ms/step - loss: 0.0011 - accuracy: 0.9997 - val_loss: 0.4666 - val_accuracy: 0.9442\n",
      "Epoch 187/200\n",
      "68/68 [==============================] - 9s 128ms/step - loss: 9.7901e-04 - accuracy: 0.9998 - val_loss: 0.4707 - val_accuracy: 0.9458\n",
      "Epoch 188/200\n",
      "68/68 [==============================] - 9s 128ms/step - loss: 5.0699e-04 - accuracy: 0.9998 - val_loss: 0.4712 - val_accuracy: 0.9442\n",
      "Epoch 189/200\n",
      "68/68 [==============================] - 9s 127ms/step - loss: 7.8575e-04 - accuracy: 0.9997 - val_loss: 0.4755 - val_accuracy: 0.9458\n",
      "Epoch 190/200\n",
      "68/68 [==============================] - 9s 127ms/step - loss: 0.0013 - accuracy: 0.9994 - val_loss: 0.4745 - val_accuracy: 0.9442\n",
      "Epoch 191/200\n",
      "68/68 [==============================] - 9s 131ms/step - loss: 9.0323e-04 - accuracy: 0.9997 - val_loss: 0.4766 - val_accuracy: 0.9448\n",
      "Epoch 192/200\n",
      "68/68 [==============================] - 9s 129ms/step - loss: 5.7995e-04 - accuracy: 0.9997 - val_loss: 0.4766 - val_accuracy: 0.9453\n",
      "Epoch 193/200\n",
      "68/68 [==============================] - 9s 128ms/step - loss: 0.0010 - accuracy: 0.9996 - val_loss: 0.4795 - val_accuracy: 0.9458\n",
      "Epoch 194/200\n",
      "68/68 [==============================] - 9s 127ms/step - loss: 7.5744e-04 - accuracy: 0.9998 - val_loss: 0.4802 - val_accuracy: 0.9448\n",
      "Epoch 195/200\n",
      "68/68 [==============================] - 9s 129ms/step - loss: 9.1279e-04 - accuracy: 0.9995 - val_loss: 0.4760 - val_accuracy: 0.9442\n",
      "Epoch 196/200\n",
      "68/68 [==============================] - 9s 126ms/step - loss: 0.0012 - accuracy: 0.9995 - val_loss: 0.4844 - val_accuracy: 0.9448\n",
      "Epoch 197/200\n",
      "68/68 [==============================] - 9s 126ms/step - loss: 6.8903e-04 - accuracy: 0.9999 - val_loss: 0.4808 - val_accuracy: 0.9453\n",
      "Epoch 198/200\n",
      "68/68 [==============================] - 9s 127ms/step - loss: 0.0011 - accuracy: 0.9994 - val_loss: 0.4786 - val_accuracy: 0.9448\n",
      "Epoch 199/200\n",
      "68/68 [==============================] - 9s 128ms/step - loss: 0.0013 - accuracy: 0.9995 - val_loss: 0.4833 - val_accuracy: 0.9448\n",
      "Epoch 200/200\n",
      "68/68 [==============================] - 9s 127ms/step - loss: 8.9028e-04 - accuracy: 0.9998 - val_loss: 0.4794 - val_accuracy: 0.9458\n"
     ]
    }
   ],
   "source": [
    "from tensorflow.keras import regularizers\n",
    "model = Sequential()\n",
    "model.add(Embedding(MAX_NB_WORDS, EMBEDDING_DIM, input_length=X.shape[1]))\n",
    "model.add(Dense(units=128, activation=\"relu\",kernel_regularizer=regularizers.l2(0.00000001)))\n",
    "model.add(LSTM(128, return_sequences=True))\n",
    "model.add(LSTM(128, return_sequences=False))\n",
    "model.add(Dense(units=64, activation=\"relu\"))#,recurrent_dropout=0.15\n",
    "model.add(Dense(units=28, activation=\"relu\",kernel_regularizer=regularizers.l2(0.00000001)))#, \n",
    "model.add(Dense(6, activation='softmax'))\n",
    "model.compile(loss='categorical_crossentropy', optimizer='adam', metrics=['accuracy'])\n",
    "\n",
    "epochs = 200\n",
    "batch_size = 256\n",
    "\n",
    "history = model.fit(X_train, Y_train, epochs=epochs, batch_size=batch_size,validation_split=0.10)#,callbacks=[EarlyStopping(monitor='val_loss', patience=5, min_delta=0.0001])"
   ]
  },
  {
   "cell_type": "code",
   "execution_count": null,
   "metadata": {
    "colab": {
     "base_uri": "https://localhost:8080/"
    },
    "id": "7lVbeL11isNs",
    "outputId": "c6dca74e-302e-460f-b317-32a6b1d24be0"
   },
   "outputs": [
    {
     "name": "stdout",
     "output_type": "stream",
     "text": [
      "Model: \"sequential_6\"\n",
      "_________________________________________________________________\n",
      "Layer (type)                 Output Shape              Param #   \n",
      "=================================================================\n",
      "embedding_6 (Embedding)      (None, 170, 170)          8500000   \n",
      "_________________________________________________________________\n",
      "dense_24 (Dense)             (None, 170, 128)          21888     \n",
      "_________________________________________________________________\n",
      "lstm_14 (LSTM)               (None, 170, 128)          131584    \n",
      "_________________________________________________________________\n",
      "lstm_15 (LSTM)               (None, 128)               131584    \n",
      "_________________________________________________________________\n",
      "dense_25 (Dense)             (None, 64)                8256      \n",
      "_________________________________________________________________\n",
      "dense_26 (Dense)             (None, 28)                1820      \n",
      "_________________________________________________________________\n",
      "dense_27 (Dense)             (None, 6)                 174       \n",
      "=================================================================\n",
      "Total params: 8,795,306\n",
      "Trainable params: 8,795,306\n",
      "Non-trainable params: 0\n",
      "_________________________________________________________________\n"
     ]
    }
   ],
   "source": [
    "model.summary()"
   ]
  },
  {
   "cell_type": "code",
   "execution_count": null,
   "metadata": {
    "colab": {
     "base_uri": "https://localhost:8080/"
    },
    "id": "hDedFO-ZgDW-",
    "outputId": "8546a1dd-e817-4070-9dff-ee4af71f782f"
   },
   "outputs": [
    {
     "name": "stdout",
     "output_type": "stream",
     "text": [
      "257/257 [==============================] - 2s 9ms/step - loss: 0.5045 - accuracy: 0.9427\n",
      "Test set\n",
      "  Loss: 0.505\n",
      "  Accuracy: 0.943\n"
     ]
    }
   ],
   "source": [
    "accr_model = model.evaluate(X_test,Y_test)\n",
    "#save keras model\n",
    "print('Test set\\n  Loss: {:0.3f}\\n  Accuracy: {:0.3f}'.format(accr_model[0],accr_model[1]))"
   ]
  },
  {
   "cell_type": "code",
   "execution_count": null,
   "metadata": {
    "colab": {
     "base_uri": "https://localhost:8080/",
     "height": 295
    },
    "id": "205WgZqUg9nR",
    "outputId": "ee46a361-fdcf-470d-8e57-39d42fe5e607"
   },
   "outputs": [
    {
     "data": {
      "image/png": "[encoded data removed]",
      "text/plain": [
       "<Figure size 432x288 with 1 Axes>"
      ]
     },
     "metadata": {
      "tags": []
     },
     "output_type": "display_data"
    }
   ],
   "source": [
    "import matplotlib.pyplot as plt\n",
    "plt.title('Stacked LSTM Model Loss ')\n",
    "plt.plot(history.history['loss'], label='train')\n",
    "plt.plot(history.history['val_loss'], label='Validation')\n",
    "plt.legend()\n",
    "plt.ylim(0,1)\n",
    "plt.ylabel('Loss')\n",
    "plt.xlabel('Epoch')\n",
    "plt.savefig('Loss.png', dpi=300, bbox_inches='tight')\n",
    "plt.show();"
   ]
  },
  {
   "cell_type": "code",
   "execution_count": null,
   "metadata": {
    "colab": {
     "base_uri": "https://localhost:8080/",
     "height": 434
    },
    "id": "yHv01iVchAGV",
    "outputId": "228f77ff-fc64-41fa-ec12-d7ac847c30ee"
   },
   "outputs": [
    {
     "data": {
      "image/png": "[encoded data removed]",
      "text/plain": [
       "<Figure size 630x450 with 1 Axes>"
      ]
     },
     "metadata": {
      "tags": []
     },
     "output_type": "display_data"
    }
   ],
   "source": [
    "\n",
    "import matplotlib.pyplot as plt\n",
    "plt.figure(figsize=(7, 5), dpi=90)\n",
    "plt.title('Stacked LSTM Model Accuracy ')\n",
    "plt.plot(history.history['accuracy'], label='train')\n",
    "plt.plot(history.history['val_accuracy'], label='validation')\n",
    "plt.legend()\n",
    "plt.ylim(0,1.1)\n",
    "plt.ylabel('Accuracy')\n",
    "plt.xlabel('Epoch')\n",
    "plt.savefig(\"Accuracy.png\", dpi=300, bbox_inches='tight')\n",
    "plt.show();"
   ]
  },
  {
   "cell_type": "code",
   "execution_count": null,
   "metadata": {
    "colab": {
     "base_uri": "https://localhost:8080/"
    },
    "id": "HYVAa5Y9tUR6",
    "outputId": "c5ae80d5-f437-4ea1-df30-46c1e081cb88"
   },
   "outputs": [
    {
     "name": "stdout",
     "output_type": "stream",
     "text": [
      "Model: \"sequential_7\"\n",
      "_________________________________________________________________\n",
      "Layer (type)                 Output Shape              Param #   \n",
      "=================================================================\n",
      "embedding_7 (Embedding)      (None, 170, 170)          8500000   \n",
      "_________________________________________________________________\n",
      "lstm_16 (LSTM)               (None, 128)               153088    \n",
      "_________________________________________________________________\n",
      "dense_28 (Dense)             (None, 16)                2064      \n",
      "_________________________________________________________________\n",
      "dense_29 (Dense)             (None, 6)                 102       \n",
      "=================================================================\n",
      "Total params: 8,655,254\n",
      "Trainable params: 8,655,254\n",
      "Non-trainable params: 0\n",
      "_________________________________________________________________\n",
      "Epoch 1/50\n",
      "270/270 [==============================] - 28s 97ms/step - loss: 0.9075 - accuracy: 0.6703 - val_loss: 0.1605 - val_accuracy: 0.9495\n",
      "Epoch 2/50\n",
      "270/270 [==============================] - 26s 96ms/step - loss: 0.0573 - accuracy: 0.9859 - val_loss: 0.1654 - val_accuracy: 0.9510\n",
      "Epoch 3/50\n",
      "270/270 [==============================] - 26s 96ms/step - loss: 0.0112 - accuracy: 0.9982 - val_loss: 0.1875 - val_accuracy: 0.9479\n",
      "Epoch 4/50\n",
      "270/270 [==============================] - 26s 96ms/step - loss: 0.0066 - accuracy: 0.9986 - val_loss: 0.1746 - val_accuracy: 0.9479\n"
     ]
    }
   ],
   "source": [
    "#different models for the implementation of the lstms versions\n",
    "# 3 LSTM layers model\n",
    "model_1 = Sequential()\n",
    "model_1.add(Embedding(MAX_NB_WORDS, EMBEDDING_DIM, trainable=True, input_length = X.shape[1])) #input_length=X.shape[1] replace with the input shape, X_train.shape[1] in place of X.shape\n",
    "model_1.add(LSTM(units=128, return_sequences=False))\n",
    "model_1.add(Dense(16))\n",
    "#model_1.add(Dropout(rate=0.25))\n",
    "model_1.add(Dense(6, activation='softmax'))\n",
    "model_1.compile(loss='categorical_crossentropy', optimizer='adam', metrics=['accuracy'])\n",
    "model_1.summary()\n",
    "\n",
    "epochs = 50\n",
    "batch_size = 64\n",
    "\n",
    "history_1 = model_1.fit(X_train, Y_train, epochs=epochs, batch_size=batch_size,validation_split=0.10,\n",
    "                        callbacks=[EarlyStopping(monitor='val_loss', patience=3, min_delta=0.0001)])\n"
   ]
  },
  {
   "cell_type": "code",
   "execution_count": null,
   "metadata": {
    "colab": {
     "base_uri": "https://localhost:8080/"
    },
    "id": "-RSSdn_UgL0w",
    "outputId": "79748546-38b3-4780-e026-74b9fda45d3c"
   },
   "outputs": [
    {
     "name": "stdout",
     "output_type": "stream",
     "text": [
      "257/257 [==============================] - 2s 6ms/step - loss: 0.1910 - accuracy: 0.9417\n",
      "Test set\n",
      "  Loss: 0.191\n",
      "  Accuracy: 0.942\n"
     ]
    }
   ],
   "source": [
    "accr_model_1 = model_1.evaluate(X_test,Y_test)\n",
    "#save keras model\n",
    "print('Test set\\n  Loss: {:0.3f}\\n  Accuracy: {:0.3f}'.format(accr_model_1[0],accr_model_1[1]))"
   ]
  },
  {
   "cell_type": "code",
   "execution_count": null,
   "metadata": {
    "colab": {
     "base_uri": "https://localhost:8080/",
     "height": 295
    },
    "id": "JNTaPQjIinL8",
    "outputId": "f57567ad-bdd6-48b7-8a63-7008feadab19"
   },
   "outputs": [
    {
     "data": {
      "image/png": "[encoded data removed]",
      "text/plain": [
       "<Figure size 432x288 with 1 Axes>"
      ]
     },
     "metadata": {
      "tags": []
     },
     "output_type": "display_data"
    }
   ],
   "source": [
    "import matplotlib.pyplot as plt\n",
    "plt.title('Single Layer LSTM Model Loss ')\n",
    "plt.plot(history_1.history['loss'], label='train')\n",
    "plt.plot(history_1.history['val_loss'], label='Validation')\n",
    "plt.legend()\n",
    "plt.ylim(0,1)\n",
    "plt.ylabel('Loss')\n",
    "plt.xlabel('Epoch')\n",
    "plt.savefig('Loss.png', dpi=300, bbox_inches='tight')\n",
    "plt.show();"
   ]
  },
  {
   "cell_type": "code",
   "execution_count": null,
   "metadata": {
    "colab": {
     "base_uri": "https://localhost:8080/",
     "height": 434
    },
    "id": "zQOUVuJViuu3",
    "outputId": "25a7ec6a-4512-409a-ce31-da99aeeaa1d7"
   },
   "outputs": [
    {
     "data": {
      "image/png": "[encoded data removed]",
      "text/plain": [
       "<Figure size 630x450 with 1 Axes>"
      ]
     },
     "metadata": {
      "tags": []
     },
     "output_type": "display_data"
    }
   ],
   "source": [
    "import matplotlib.pyplot as plt\n",
    "plt.figure(figsize=(7, 5), dpi=90)\n",
    "plt.title('Single layer LSTM Model Accuracy ')\n",
    "plt.plot(history_1.history['accuracy'], label='train')\n",
    "plt.plot(history_1.history['val_accuracy'], label='validation')\n",
    "plt.legend()\n",
    "plt.ylim(0,1.1)\n",
    "plt.ylabel('Accuracy')\n",
    "plt.xlabel('Epoch')\n",
    "plt.savefig(\"Accuracy.png\", dpi=300, bbox_inches='tight')\n",
    "plt.show();"
   ]
  },
  {
   "cell_type": "code",
   "execution_count": null,
   "metadata": {
    "colab": {
     "base_uri": "https://localhost:8080/"
    },
    "id": "fd_heQHrtxFG",
    "outputId": "202efb75-d6df-4321-9447-b1e097c4ab5f"
   },
   "outputs": [
    {
     "name": "stdout",
     "output_type": "stream",
     "text": [
      "WARNING:tensorflow:Layer lstm_20 will not use cuDNN kernel since it doesn't meet the cuDNN kernel criteria. It will use generic GPU kernel as fallback when running on GPU\n",
      "WARNING:tensorflow:Layer lstm_21 will not use cuDNN kernel since it doesn't meet the cuDNN kernel criteria. It will use generic GPU kernel as fallback when running on GPU\n",
      "WARNING:tensorflow:Layer lstm_22 will not use cuDNN kernel since it doesn't meet the cuDNN kernel criteria. It will use generic GPU kernel as fallback when running on GPU\n",
      "Model: \"sequential_9\"\n",
      "_________________________________________________________________\n",
      "Layer (type)                 Output Shape              Param #   \n",
      "=================================================================\n",
      "embedding_9 (Embedding)      (None, 170, 170)          8500000   \n",
      "_________________________________________________________________\n",
      "conv1d_1 (Conv1D)            (None, 170, 32)           16352     \n",
      "_________________________________________________________________\n",
      "max_pooling1d_1 (MaxPooling1 (None, 85, 32)            0         \n",
      "_________________________________________________________________\n",
      "lstm_20 (LSTM)               (None, 85, 64)            24832     \n",
      "_________________________________________________________________\n",
      "dense_34 (Dense)             (None, 85, 16)            1040      \n",
      "_________________________________________________________________\n",
      "activation_3 (Activation)    (None, 85, 16)            0         \n",
      "_________________________________________________________________\n",
      "lstm_21 (LSTM)               (None, 85, 64)            20736     \n",
      "_________________________________________________________________\n",
      "dense_35 (Dense)             (None, 85, 16)            1040      \n",
      "_________________________________________________________________\n",
      "activation_4 (Activation)    (None, 85, 16)            0         \n",
      "_________________________________________________________________\n",
      "lstm_22 (LSTM)               (None, 64)                20736     \n",
      "_________________________________________________________________\n",
      "dense_36 (Dense)             (None, 16)                1040      \n",
      "_________________________________________________________________\n",
      "activation_5 (Activation)    (None, 16)                0         \n",
      "_________________________________________________________________\n",
      "dropout (Dropout)            (None, 16)                0         \n",
      "_________________________________________________________________\n",
      "dense_37 (Dense)             (None, 6)                 102       \n",
      "=================================================================\n",
      "Total params: 8,585,878\n",
      "Trainable params: 8,585,878\n",
      "Non-trainable params: 0\n",
      "_________________________________________________________________\n",
      "Epoch 1/20\n",
      "68/68 [==============================] - 75s 1s/step - loss: 1.7069 - accuracy: 0.2591 - val_loss: 1.3587 - val_accuracy: 0.4158\n",
      "Epoch 2/20\n",
      "68/68 [==============================] - 66s 973ms/step - loss: 1.3032 - accuracy: 0.4478 - val_loss: 0.8280 - val_accuracy: 0.7269\n",
      "Epoch 3/20\n",
      "68/68 [==============================] - 67s 985ms/step - loss: 0.7903 - accuracy: 0.7084 - val_loss: 0.5848 - val_accuracy: 0.8145\n",
      "Epoch 4/20\n",
      "68/68 [==============================] - 67s 988ms/step - loss: 0.4921 - accuracy: 0.8382 - val_loss: 0.4699 - val_accuracy: 0.8567\n",
      "Epoch 5/20\n",
      "68/68 [==============================] - 67s 991ms/step - loss: 0.2908 - accuracy: 0.9156 - val_loss: 0.4680 - val_accuracy: 0.8671\n",
      "Epoch 6/20\n",
      "68/68 [==============================] - 67s 989ms/step - loss: 0.1896 - accuracy: 0.9494 - val_loss: 0.4941 - val_accuracy: 0.8765\n",
      "Epoch 7/20\n",
      "68/68 [==============================] - 65s 963ms/step - loss: 0.1484 - accuracy: 0.9601 - val_loss: 0.5547 - val_accuracy: 0.8760\n",
      "Epoch 8/20\n",
      "68/68 [==============================] - 68s 1s/step - loss: 0.1130 - accuracy: 0.9672 - val_loss: 0.5783 - val_accuracy: 0.8791\n",
      "Epoch 9/20\n",
      "68/68 [==============================] - 68s 999ms/step - loss: 0.0869 - accuracy: 0.9743 - val_loss: 0.6051 - val_accuracy: 0.8854\n",
      "Epoch 10/20\n",
      "68/68 [==============================] - 65s 961ms/step - loss: 0.0924 - accuracy: 0.9752 - val_loss: 0.6436 - val_accuracy: 0.8817\n",
      "Epoch 11/20\n",
      "68/68 [==============================] - 67s 991ms/step - loss: 0.2267 - accuracy: 0.9344 - val_loss: 0.5455 - val_accuracy: 0.8880\n",
      "Epoch 12/20\n",
      "68/68 [==============================] - 66s 970ms/step - loss: 0.1049 - accuracy: 0.9705 - val_loss: 0.5342 - val_accuracy: 0.8963\n",
      "Epoch 13/20\n",
      "68/68 [==============================] - 65s 956ms/step - loss: 0.0734 - accuracy: 0.9791 - val_loss: 0.5798 - val_accuracy: 0.8937\n",
      "Epoch 14/20\n",
      "68/68 [==============================] - 67s 978ms/step - loss: 0.0637 - accuracy: 0.9799 - val_loss: 0.6234 - val_accuracy: 0.8968\n",
      "Epoch 15/20\n",
      "68/68 [==============================] - 66s 972ms/step - loss: 0.0520 - accuracy: 0.9846 - val_loss: 0.6382 - val_accuracy: 0.9026\n",
      "Epoch 16/20\n",
      "68/68 [==============================] - 66s 967ms/step - loss: 0.0501 - accuracy: 0.9854 - val_loss: 0.6715 - val_accuracy: 0.9020\n",
      "Epoch 17/20\n",
      "68/68 [==============================] - 66s 971ms/step - loss: 0.0416 - accuracy: 0.9878 - val_loss: 0.7083 - val_accuracy: 0.8989\n",
      "Epoch 18/20\n",
      "68/68 [==============================] - 67s 986ms/step - loss: 0.0392 - accuracy: 0.9905 - val_loss: 0.7165 - val_accuracy: 0.9020\n",
      "Epoch 19/20\n",
      "68/68 [==============================] - 68s 994ms/step - loss: 0.0396 - accuracy: 0.9911 - val_loss: 0.6489 - val_accuracy: 0.9067\n",
      "Epoch 20/20\n",
      "68/68 [==============================] - 66s 974ms/step - loss: 0.0394 - accuracy: 0.9899 - val_loss: 0.7048 - val_accuracy: 0.9005\n"
     ]
    }
   ],
   "source": [
    "# LSTM with Conv1D layer\n",
    "from keras.layers.convolutional import Conv1D\n",
    "from keras.layers.convolutional import MaxPooling1D \n",
    "from keras.layers import Activation   \n",
    "model_2 = Sequential()\n",
    "model_2.add(Embedding(MAX_NB_WORDS, EMBEDDING_DIM, trainable=True, input_length = X.shape[1]))\n",
    "model_2.add(Conv1D(filters=32, kernel_size=3, padding='same'))\n",
    "model_2.add(MaxPooling1D(pool_size=2))\n",
    "model_2.add(LSTM(units=64, return_sequences=True, dropout=0.2, recurrent_dropout=0.15))\n",
    "model_2.add(Dense(16))\n",
    "model_2.add(Activation('relu'))\n",
    "model_2.add(LSTM(units=64, return_sequences=True, dropout=0.2, recurrent_dropout=0.15))\n",
    "model_2.add(Dense(16))\n",
    "model_2.add(Activation('relu'))\n",
    "model_2.add(LSTM(units=64, return_sequences=False, dropout=0.2, recurrent_dropout=0.15))\n",
    "model_2.add(Dense(16))\n",
    "model_2.add(Activation('relu'))\n",
    "model_2.add(Dropout(rate=0.25))\n",
    "model_2.add(Dense(6, activation='softmax'))\n",
    "from keras.optimizers import SGD\n",
    "opt = SGD(lr=0.1)\n",
    "model_2.compile(loss='categorical_crossentropy', optimizer='adam', metrics=['accuracy'])# optimizer='adam'\n",
    "model_2.summary()\n",
    "\n",
    "\n",
    "epochs = 20\n",
    "batch_size = 256\n",
    "\n",
    "history_2 = model_2.fit(X_train, Y_train, epochs=epochs, batch_size=batch_size,validation_split=0.10)\n",
    "                        #callbacks=[EarlyStopping(monitor='val_loss', patience=3, min_delta=0.0001)])"
   ]
  },
  {
   "cell_type": "code",
   "execution_count": null,
   "metadata": {
    "colab": {
     "base_uri": "https://localhost:8080/"
    },
    "id": "BoRExUy2lXM_",
    "outputId": "758ee831-eb64-489d-e295-90258a656094"
   },
   "outputs": [
    {
     "name": "stdout",
     "output_type": "stream",
     "text": [
      "257/257 [==============================] - 16s 62ms/step - loss: 0.7649 - accuracy: 0.9009\n",
      "Test set\n",
      "  Loss: 0.765\n",
      "  Accuracy: 0.901\n"
     ]
    }
   ],
   "source": [
    "accr_model_2 = model_2.evaluate(X_test,Y_test)\n",
    "#save keras model\n",
    "print('Test set\\n  Loss: {:0.3f}\\n  Accuracy: {:0.3f}'.format(accr_model_2[0],accr_model_2[1]))"
   ]
  },
  {
   "cell_type": "code",
   "execution_count": null,
   "metadata": {
    "colab": {
     "base_uri": "https://localhost:8080/",
     "height": 295
    },
    "id": "xLp_wR9UjTy8",
    "outputId": "00cbfc0b-e3d1-4b08-e6f8-20d15d91cf11"
   },
   "outputs": [
    {
     "data": {
      "image/png": "[encoded data removed]",
      "text/plain": [
       "<Figure size 432x288 with 1 Axes>"
      ]
     },
     "metadata": {
      "tags": []
     },
     "output_type": "display_data"
    }
   ],
   "source": [
    "import matplotlib.pyplot as plt\n",
    "plt.title('CNN+LSTM Model Loss ')\n",
    "plt.plot(history_2.history['loss'], label='train')\n",
    "plt.plot(history_2.history['val_loss'], label='Validation')\n",
    "plt.legend()\n",
    "plt.ylim(0,1)\n",
    "plt.ylabel('Loss')\n",
    "plt.xlabel('Epoch')\n",
    "plt.savefig('Loss.png', dpi=300, bbox_inches='tight')\n",
    "plt.show();"
   ]
  },
  {
   "cell_type": "code",
   "execution_count": null,
   "metadata": {
    "colab": {
     "base_uri": "https://localhost:8080/",
     "height": 434
    },
    "id": "d5Wtoj_CjXdP",
    "outputId": "8474d350-f01a-4eaa-8cf6-122bc7d19357"
   },
   "outputs": [
    {
     "data": {
      "image/png": "[encoded data removed]",
      "text/plain": [
       "<Figure size 630x450 with 1 Axes>"
      ]
     },
     "metadata": {
      "tags": []
     },
     "output_type": "display_data"
    }
   ],
   "source": [
    "import matplotlib.pyplot as plt\n",
    "plt.figure(figsize=(7, 5), dpi=90)\n",
    "plt.title('CNN+LSTM Model Accuracy ')\n",
    "plt.plot(history_2.history['accuracy'], label='train')\n",
    "plt.plot(history_2.history['val_accuracy'], label='validation')\n",
    "plt.legend()\n",
    "plt.ylim(0,1.1)\n",
    "plt.ylabel('Accuracy')\n",
    "plt.xlabel('Epoch')\n",
    "plt.savefig(\"Accuracy.png\", dpi=300, bbox_inches='tight')\n",
    "plt.show();"
   ]
  },
  {
   "cell_type": "code",
   "execution_count": null,
   "metadata": {
    "colab": {
     "base_uri": "https://localhost:8080/"
    },
    "id": "OUZUPPP6ywXa",
    "outputId": "423293f1-2055-485c-bab8-beb422e87d0c"
   },
   "outputs": [
    {
     "name": "stdout",
     "output_type": "stream",
     "text": [
      "Model: \"sequential_10\"\n",
      "_________________________________________________________________\n",
      "Layer (type)                 Output Shape              Param #   \n",
      "=================================================================\n",
      "embedding_10 (Embedding)     (None, 170, 170)          8500000   \n",
      "_________________________________________________________________\n",
      "dropout_1 (Dropout)          (None, 170, 170)          0         \n",
      "_________________________________________________________________\n",
      "LSTM (LSTM)                  (None, 170, 64)           60160     \n",
      "_________________________________________________________________\n",
      "GRU (GRU)                    (None, 64)                24960     \n",
      "_________________________________________________________________\n",
      "Dense2 (Dense)               (None, 64)                4160      \n",
      "_________________________________________________________________\n",
      "dropout_2 (Dropout)          (None, 64)                0         \n",
      "_________________________________________________________________\n",
      "Dense3 (Dense)               (None, 16)                1040      \n",
      "_________________________________________________________________\n",
      "Output (Dense)               (None, 6)                 102       \n",
      "=================================================================\n",
      "Total params: 8,590,422\n",
      "Trainable params: 8,590,422\n",
      "Non-trainable params: 0\n",
      "_________________________________________________________________\n",
      "Epoch 1/20\n",
      "270/270 [==============================] - 31s 106ms/step - loss: 0.9295 - accuracy: 0.6521 - val_loss: 0.1675 - val_accuracy: 0.9411\n",
      "Epoch 2/20\n",
      "270/270 [==============================] - 28s 103ms/step - loss: 0.0645 - accuracy: 0.9790 - val_loss: 0.1617 - val_accuracy: 0.9536\n",
      "Epoch 3/20\n",
      "270/270 [==============================] - 28s 103ms/step - loss: 0.0107 - accuracy: 0.9980 - val_loss: 0.1805 - val_accuracy: 0.9495\n",
      "Epoch 4/20\n",
      "270/270 [==============================] - 28s 104ms/step - loss: 0.0032 - accuracy: 0.9991 - val_loss: 0.2033 - val_accuracy: 0.9515\n",
      "Epoch 5/20\n",
      "270/270 [==============================] - 28s 104ms/step - loss: 0.0056 - accuracy: 0.9983 - val_loss: 0.2046 - val_accuracy: 0.9510\n",
      "Epoch 6/20\n",
      "270/270 [==============================] - 28s 104ms/step - loss: 0.0020 - accuracy: 0.9997 - val_loss: 0.1850 - val_accuracy: 0.9547\n",
      "Epoch 7/20\n",
      "270/270 [==============================] - 28s 104ms/step - loss: 0.0023 - accuracy: 0.9997 - val_loss: 0.2014 - val_accuracy: 0.9505\n",
      "Epoch 8/20\n",
      "270/270 [==============================] - 28s 104ms/step - loss: 0.0023 - accuracy: 0.9996 - val_loss: 0.1915 - val_accuracy: 0.9536\n",
      "Epoch 9/20\n",
      "270/270 [==============================] - 28s 104ms/step - loss: 0.0032 - accuracy: 0.9996 - val_loss: 0.1923 - val_accuracy: 0.9526\n",
      "Epoch 10/20\n",
      "270/270 [==============================] - 28s 105ms/step - loss: 0.0025 - accuracy: 0.9995 - val_loss: 0.2042 - val_accuracy: 0.9500\n",
      "Epoch 11/20\n",
      "270/270 [==============================] - 28s 105ms/step - loss: 0.0043 - accuracy: 0.9992 - val_loss: 0.1957 - val_accuracy: 0.9531\n",
      "Epoch 12/20\n",
      "270/270 [==============================] - 28s 104ms/step - loss: 0.0020 - accuracy: 0.9996 - val_loss: 0.3488 - val_accuracy: 0.9375\n",
      "Epoch 13/20\n",
      "270/270 [==============================] - 28s 103ms/step - loss: 0.0227 - accuracy: 0.9942 - val_loss: 0.2924 - val_accuracy: 0.9427\n",
      "Epoch 14/20\n",
      "270/270 [==============================] - 28s 105ms/step - loss: 0.0043 - accuracy: 0.9991 - val_loss: 0.2349 - val_accuracy: 0.9468\n",
      "Epoch 15/20\n",
      "270/270 [==============================] - 28s 105ms/step - loss: 0.0102 - accuracy: 0.9977 - val_loss: 0.3047 - val_accuracy: 0.9442\n",
      "Epoch 16/20\n",
      "270/270 [==============================] - 28s 105ms/step - loss: 0.0029 - accuracy: 0.9993 - val_loss: 0.2488 - val_accuracy: 0.9495\n",
      "Epoch 17/20\n",
      "270/270 [==============================] - 28s 105ms/step - loss: 0.0022 - accuracy: 0.9994 - val_loss: 0.2527 - val_accuracy: 0.9500\n",
      "Epoch 18/20\n",
      "270/270 [==============================] - 28s 105ms/step - loss: 9.7608e-04 - accuracy: 0.9998 - val_loss: 0.4553 - val_accuracy: 0.9390\n",
      "Epoch 19/20\n",
      "270/270 [==============================] - 28s 105ms/step - loss: 0.0044 - accuracy: 0.9991 - val_loss: 0.2663 - val_accuracy: 0.9484\n",
      "Epoch 20/20\n",
      "270/270 [==============================] - 28s 105ms/step - loss: 0.0017 - accuracy: 0.9997 - val_loss: 0.2896 - val_accuracy: 0.9468\n"
     ]
    }
   ],
   "source": [
    "# LSTM with GRU layer\n",
    "from keras.layers import GRU\n",
    "\n",
    "model_3 = Sequential()\n",
    "model_3.add(Embedding(MAX_NB_WORDS, EMBEDDING_DIM, trainable=True, input_length = X_train.shape[1]))\n",
    "model_3.add(Dropout(rate=0.15))\n",
    "model_3.add(LSTM(64, return_sequences=True, dropout=0.2, name=\"LSTM\"))\n",
    "model_3.add(GRU(64, return_sequences=False, dropout=0.2, name=\"GRU\"))\n",
    "model_3.add(Dense(64, name=\"Dense2\"))\n",
    "model_3.add(Dropout(rate=0.15))\n",
    "model_3.add(Dense(16, name=\"Dense3\"))\n",
    "model_3.add(Dense(6, activation='softmax', name=\"Output\"))\n",
    "model_3.compile(loss='categorical_crossentropy', optimizer='adam', metrics=['accuracy'])\n",
    "model_3.summary()\n",
    "\n",
    "epochs = 20\n",
    "batch_size = 64\n",
    "\n",
    "history_3 = model_3.fit(X_train, Y_train, epochs=epochs, batch_size=batch_size,validation_split=0.10)\n",
    "                        #callbacks=[EarlyStopping(monitor='val_loss', patience=3, min_delta=0.0001)])"
   ]
  },
  {
   "cell_type": "code",
   "execution_count": null,
   "metadata": {
    "colab": {
     "base_uri": "https://localhost:8080/"
    },
    "id": "IPoYBN1RgSfI",
    "outputId": "62655325-bbe3-4d06-a4af-8e56cd85d8e7"
   },
   "outputs": [
    {
     "name": "stdout",
     "output_type": "stream",
     "text": [
      "257/257 [==============================] - 2s 9ms/step - loss: 0.2891 - accuracy: 0.9459\n",
      "Test set\n",
      "  Loss: 0.289\n",
      "  Accuracy: 0.946\n"
     ]
    }
   ],
   "source": [
    "accr_model_3 = model_3.evaluate(X_test,Y_test)\n",
    "#save keras model\n",
    "print('Test set\\n  Loss: {:0.3f}\\n  Accuracy: {:0.3f}'.format(accr_model_3[0],accr_model_3[1]))"
   ]
  },
  {
   "cell_type": "code",
   "execution_count": null,
   "metadata": {
    "colab": {
     "base_uri": "https://localhost:8080/",
     "height": 295
    },
    "id": "hkniqqSowr8i",
    "outputId": "c47322c3-37b6-4975-9fc4-336c7a67b6a9"
   },
   "outputs": [
    {
     "data": {
      "image/png": "[encoded data removed]",
      "text/plain": [
       "<Figure size 432x288 with 1 Axes>"
      ]
     },
     "metadata": {
      "tags": []
     },
     "output_type": "display_data"
    }
   ],
   "source": [
    "import matplotlib.pyplot as plt\n",
    "plt.title('GRU+LSTM Model Loss ')\n",
    "plt.plot(history_3.history['loss'], label='train')\n",
    "plt.plot(history_3.history['val_loss'], label='Validation')\n",
    "plt.legend()\n",
    "plt.ylim(0,1)\n",
    "plt.ylabel('Loss')\n",
    "plt.xlabel('Epoch')\n",
    "plt.savefig('Loss.png', dpi=300, bbox_inches='tight')\n",
    "plt.show();"
   ]
  },
  {
   "cell_type": "code",
   "execution_count": null,
   "metadata": {
    "colab": {
     "base_uri": "https://localhost:8080/",
     "height": 434
    },
    "id": "LVwwnNa7wsFM",
    "outputId": "4516b960-92b6-4e08-a7dc-f346fa0b8a1e"
   },
   "outputs": [
    {
     "data": {
      "image/png": "[encoded data removed]",
      "text/plain": [
       "<Figure size 630x450 with 1 Axes>"
      ]
     },
     "metadata": {
      "tags": []
     },
     "output_type": "display_data"
    }
   ],
   "source": [
    "import matplotlib.pyplot as plt\n",
    "plt.figure(figsize=(7, 5), dpi=90)\n",
    "plt.title('GRU+LSTM Model Accuracy ')\n",
    "plt.plot(history_3.history['accuracy'], label='train')\n",
    "plt.plot(history_3.history['val_accuracy'], label='validation')\n",
    "plt.legend()\n",
    "plt.ylim(0,1.1)\n",
    "plt.ylabel('Accuracy')\n",
    "plt.xlabel('Epoch')\n",
    "plt.savefig(\"Accuracy.png\", dpi=300, bbox_inches='tight')\n",
    "plt.show();"
   ]
  },
  {
   "cell_type": "code",
   "execution_count": null,
   "metadata": {
    "colab": {
     "base_uri": "https://localhost:8080/"
    },
    "id": "u77_qreztPLC",
    "outputId": "49e79374-1761-4b08-8a68-15b5a0248a13"
   },
   "outputs": [
    {
     "name": "stdout",
     "output_type": "stream",
     "text": [
      "Shape of train data: (19184, 170)\n",
      "Shape of Test data: (8222, 170)\n",
      "Shape of CV data: (3837, 170)\n",
      "WARNING:tensorflow:Layer lstm_23 will not use cuDNN kernel since it doesn't meet the cuDNN kernel criteria. It will use generic GPU kernel as fallback when running on GPU\n",
      "Model: \"sequential_11\"\n",
      "_________________________________________________________________\n",
      "Layer (type)                 Output Shape              Param #   \n",
      "=================================================================\n",
      "embedding_11 (Embedding)     (None, 150, 100)          10000000  \n",
      "_________________________________________________________________\n",
      "spatial_dropout1d (SpatialDr (None, 150, 100)          0         \n",
      "_________________________________________________________________\n",
      "lstm_23 (LSTM)               (None, 100)               80400     \n",
      "_________________________________________________________________\n",
      "dense_38 (Dense)             (None, 6)                 606       \n",
      "=================================================================\n",
      "Total params: 10,081,006\n",
      "Trainable params: 10,081,006\n",
      "Non-trainable params: 0\n",
      "_________________________________________________________________\n",
      "None\n",
      "Epoch 1/20\n",
      "WARNING:tensorflow:Model was constructed with shape (None, 150) for input KerasTensor(type_spec=TensorSpec(shape=(None, 150), dtype=tf.float32, name='embedding_11_input'), name='embedding_11_input', description=\"created by layer 'embedding_11_input'\"), but it was called on an input with incompatible shape (None, 170).\n",
      "WARNING:tensorflow:Model was constructed with shape (None, 150) for input KerasTensor(type_spec=TensorSpec(shape=(None, 150), dtype=tf.float32, name='embedding_11_input'), name='embedding_11_input', description=\"created by layer 'embedding_11_input'\"), but it was called on an input with incompatible shape (None, 170).\n",
      "60/60 [==============================] - 45s 719ms/step - loss: 1.5734 - accuracy: 0.4257 - val_loss: 0.6195 - val_accuracy: 0.7787\n",
      "\n",
      "Epoch 00001: val_loss improved from inf to 0.61947, saving model to weights_best.hdf5\n",
      "Epoch 2/20\n",
      "60/60 [==============================] - 43s 716ms/step - loss: 0.4613 - accuracy: 0.8602 - val_loss: 0.2484 - val_accuracy: 0.9174\n",
      "\n",
      "Epoch 00002: val_loss improved from 0.61947 to 0.24839, saving model to weights_best.hdf5\n",
      "Epoch 3/20\n",
      "60/60 [==============================] - 42s 698ms/step - loss: 0.1369 - accuracy: 0.9587 - val_loss: 0.1958 - val_accuracy: 0.9356\n",
      "\n",
      "Epoch 00003: val_loss improved from 0.24839 to 0.19580, saving model to weights_best.hdf5\n",
      "Epoch 4/20\n",
      "60/60 [==============================] - 42s 707ms/step - loss: 0.0525 - accuracy: 0.9855 - val_loss: 0.1967 - val_accuracy: 0.9408\n",
      "\n",
      "Epoch 00004: val_loss did not improve from 0.19580\n",
      "Epoch 00004: early stopping\n"
     ]
    },
    {
     "data": {
      "text/plain": [
       "<tensorflow.python.keras.callbacks.History at 0x7f04f9f656a0>"
      ]
     },
     "execution_count": 73,
     "metadata": {
      "tags": []
     },
     "output_type": "execute_result"
    }
   ],
   "source": [
    "from keras.preprocessing import sequence\n",
    "from keras.callbacks import ModelCheckpoint\n",
    "top_words = 100000\n",
    "\n",
    "x_train,x_cv,y_train,y_cv = train_test_split(X_train,Y_train,test_size = 0.2)\n",
    "print(\"Shape of train data:\", X_train.shape)\n",
    "print(\"Shape of Test data:\", X_test.shape)\n",
    "print(\"Shape of CV data:\", x_cv.shape)\n",
    "\n",
    "# truncate and pad input sequences\n",
    "max_review_length = 150\n",
    "X_train = sequence.pad_sequences(X_train, maxlen=max_review_length)\n",
    "X_test = sequence.pad_sequences(X_test, maxlen=max_review_length)\n",
    "x_cv = sequence.pad_sequences(x_cv,maxlen=max_review_length)\n",
    "\n",
    "embedding_vecor_length = 100\n",
    "model4 = Sequential()\n",
    "model4.add(Embedding(top_words, embedding_vecor_length, input_length=max_review_length))\n",
    "model4.add(SpatialDropout1D(0.2))\n",
    "model4.add(LSTM(100, dropout=0.2, recurrent_dropout=0.2))\n",
    "model4.add(Dense(6, activation='softmax'))\n",
    "model4.compile(loss='categorical_crossentropy', optimizer='adam', metrics=['accuracy'])\n",
    "print(model4.summary())\n",
    "filepath=\"weights_best.hdf5\"\n",
    "early_stop = EarlyStopping(monitor='val_loss', min_delta=0.001, patience=3, mode='max', verbose=1)\n",
    "checkpoint = ModelCheckpoint(filepath, monitor='val_loss', verbose=1, save_best_only=True, mode='min',save_weights_only=True)\n",
    "callbacks_list = [early_stop,checkpoint]\n",
    "model4.fit(x_train, y_train, epochs=20, batch_size=256,verbose = 1,callbacks = callbacks_list,validation_data=(x_cv,y_cv))"
   ]
  },
  {
   "cell_type": "code",
   "execution_count": null,
   "metadata": {
    "colab": {
     "base_uri": "https://localhost:8080/"
    },
    "id": "1nnmAkyT4VF8",
    "outputId": "c2eb7371-b762-4a21-ab64-fc5e20a5b539"
   },
   "outputs": [
    {
     "name": "stdout",
     "output_type": "stream",
     "text": [
      "WARNING:tensorflow:Layer lstm_24 will not use cuDNN kernel since it doesn't meet the cuDNN kernel criteria. It will use generic GPU kernel as fallback when running on GPU\n",
      "33/33 [==============================] - 2s 39ms/step - loss: 0.1883 - accuracy: 0.9379\n",
      "Accuracy: 93.69%\n",
      "Loss: 0.19%\n"
     ]
    }
   ],
   "source": [
    "# Final evaluation of the model\n",
    "embedding_vecor_length = 100\n",
    "model4 = Sequential()\n",
    "model4.add(Embedding(top_words, embedding_vecor_length, input_length=max_review_length))\n",
    "model4.add(SpatialDropout1D(0.2))\n",
    "model4.add(LSTM(100, dropout=0.2, recurrent_dropout=0.2))\n",
    "model4.add(Dense(6, activation='softmax'))\n",
    "model4.load_weights(\"weights_best.hdf5\")\n",
    "model4.compile(loss='categorical_crossentropy', optimizer='adam', metrics=['accuracy'])\n",
    "scores = model4.evaluate(X_test,  Y_test, verbose=1,batch_size = 256)\n",
    "print(\"Accuracy: %.2f%%\" % (scores[1]*100))\n",
    "print(\"Loss: %.2f%%\" % (scores[0]))"
   ]
  },
  {
   "cell_type": "markdown",
   "metadata": {
    "id": "djeUQLdZgha9"
   },
   "source": [
    "# Saving  Best Model"
   ]
  },
  {
   "cell_type": "code",
   "execution_count": null,
   "metadata": {
    "colab": {
     "base_uri": "https://localhost:8080/"
    },
    "id": "aqgO70i4ljlb",
    "outputId": "3e5bab79-3f5c-4763-bff2-958d48af4016"
   },
   "outputs": [
    {
     "data": {
      "text/plain": [
       "4914"
      ]
     },
     "execution_count": 113,
     "metadata": {
      "tags": []
     },
     "output_type": "execute_result"
    },
    {
     "name": "stdout",
     "output_type": "stream",
     "text": [
      "Saved model to disk\n"
     ]
    }
   ],
   "source": [
    "model_json = model.to_json()\n",
    "with open(\"/content/model_01-01-21-updated.json\", \"w\") as json_file:\n",
    "    json_file.write(model_json)\n",
    "# serialize weights to HDF5\n",
    "model.save_weights(\"/content/model_01-01-21-updated.h5\")\n",
    "print(\"Saved model to disk\")"
   ]
  },
  {
   "cell_type": "code",
   "execution_count": null,
   "metadata": {
    "colab": {
     "base_uri": "https://localhost:8080/"
    },
    "id": "Pu_n8dqP5Xt6",
    "outputId": "d067d28a-6dbd-4899-ac4c-5e4ad41f0d54"
   },
   "outputs": [
    {
     "name": "stdout",
     "output_type": "stream",
     "text": [
      "Model: \"sequential_23\"\n",
      "_________________________________________________________________\n",
      "Layer (type)                 Output Shape              Param #   \n",
      "=================================================================\n",
      "embedding_23 (Embedding)     (None, 150, 32)           3200000   \n",
      "_________________________________________________________________\n",
      "conv1d_12 (Conv1D)           (None, 150, 32)           3104      \n",
      "_________________________________________________________________\n",
      "max_pooling1d_12 (MaxPooling (None, 75, 32)            0         \n",
      "_________________________________________________________________\n",
      "GRU (GRU)                    (None, 75, 64)            18816     \n",
      "_________________________________________________________________\n",
      "lstm_34 (LSTM)               (None, 100)               66000     \n",
      "_________________________________________________________________\n",
      "dense_49 (Dense)             (None, 6)                 606       \n",
      "=================================================================\n",
      "Total params: 3,288,526\n",
      "Trainable params: 3,288,526\n",
      "Non-trainable params: 0\n",
      "_________________________________________________________________\n",
      "None\n",
      "Epoch 1/200\n",
      "WARNING:tensorflow:Model was constructed with shape (None, 150) for input KerasTensor(type_spec=TensorSpec(shape=(None, 150), dtype=tf.float32, name='embedding_23_input'), name='embedding_23_input', description=\"created by layer 'embedding_23_input'\"), but it was called on an input with incompatible shape (None, 170).\n",
      "WARNING:tensorflow:Model was constructed with shape (None, 150) for input KerasTensor(type_spec=TensorSpec(shape=(None, 150), dtype=tf.float32, name='embedding_23_input'), name='embedding_23_input', description=\"created by layer 'embedding_23_input'\"), but it was called on an input with incompatible shape (None, 170).\n",
      "75/75 [==============================] - ETA: 0s - loss: 1.6040 - accuracy: 0.3377WARNING:tensorflow:Model was constructed with shape (None, 150) for input KerasTensor(type_spec=TensorSpec(shape=(None, 150), dtype=tf.float32, name='embedding_23_input'), name='embedding_23_input', description=\"created by layer 'embedding_23_input'\"), but it was called on an input with incompatible shape (None, 170).\n",
      "75/75 [==============================] - 8s 66ms/step - loss: 1.6005 - accuracy: 0.3394 - val_loss: 0.7856 - val_accuracy: 0.6727\n",
      "\n",
      "Epoch 00001: val_loss improved from inf to 0.78557, saving model to weights_best_cnn.hdf5\n",
      "Epoch 2/200\n",
      "75/75 [==============================] - 4s 51ms/step - loss: 0.6036 - accuracy: 0.7525 - val_loss: 0.3175 - val_accuracy: 0.8966\n",
      "\n",
      "Epoch 00002: val_loss improved from 0.78557 to 0.31748, saving model to weights_best_cnn.hdf5\n",
      "Epoch 3/200\n",
      "75/75 [==============================] - 4s 48ms/step - loss: 0.1602 - accuracy: 0.9576 - val_loss: 0.2151 - val_accuracy: 0.9291\n",
      "\n",
      "Epoch 00003: val_loss improved from 0.31748 to 0.21510, saving model to weights_best_cnn.hdf5\n",
      "Epoch 4/200\n",
      "75/75 [==============================] - 4s 49ms/step - loss: 0.0584 - accuracy: 0.9860 - val_loss: 0.2138 - val_accuracy: 0.9337\n",
      "\n",
      "Epoch 00004: val_loss improved from 0.21510 to 0.21382, saving model to weights_best_cnn.hdf5\n",
      "Epoch 5/200\n",
      "75/75 [==============================] - 4s 49ms/step - loss: 0.0268 - accuracy: 0.9934 - val_loss: 0.2047 - val_accuracy: 0.9371\n",
      "\n",
      "Epoch 00005: val_loss improved from 0.21382 to 0.20468, saving model to weights_best_cnn.hdf5\n",
      "Epoch 6/200\n",
      "75/75 [==============================] - 4s 48ms/step - loss: 0.0107 - accuracy: 0.9978 - val_loss: 0.2171 - val_accuracy: 0.9381\n",
      "\n",
      "Epoch 00006: val_loss did not improve from 0.20468\n",
      "Epoch 7/200\n",
      "75/75 [==============================] - 4s 48ms/step - loss: 0.0107 - accuracy: 0.9985 - val_loss: 0.2267 - val_accuracy: 0.9377\n",
      "\n",
      "Epoch 00007: val_loss did not improve from 0.20468\n",
      "Epoch 8/200\n",
      "75/75 [==============================] - 4s 49ms/step - loss: 0.0068 - accuracy: 0.9985 - val_loss: 0.2194 - val_accuracy: 0.9426\n",
      "\n",
      "Epoch 00008: val_loss did not improve from 0.20468\n",
      "Epoch 9/200\n",
      "75/75 [==============================] - 4s 49ms/step - loss: 0.0068 - accuracy: 0.9984 - val_loss: 0.2314 - val_accuracy: 0.9389\n",
      "\n",
      "Epoch 00009: val_loss did not improve from 0.20468\n",
      "Epoch 10/200\n",
      "75/75 [==============================] - 4s 48ms/step - loss: 0.0060 - accuracy: 0.9985 - val_loss: 0.2308 - val_accuracy: 0.9416\n",
      "\n",
      "Epoch 00010: val_loss did not improve from 0.20468\n",
      "Epoch 11/200\n",
      "75/75 [==============================] - 4s 48ms/step - loss: 0.0059 - accuracy: 0.9983 - val_loss: 0.2423 - val_accuracy: 0.9398\n",
      "\n",
      "Epoch 00011: val_loss did not improve from 0.20468\n",
      "Epoch 12/200\n",
      "75/75 [==============================] - 4s 48ms/step - loss: 0.0044 - accuracy: 0.9988 - val_loss: 0.2505 - val_accuracy: 0.9374\n",
      "\n",
      "Epoch 00012: val_loss did not improve from 0.20468\n",
      "Epoch 13/200\n",
      "75/75 [==============================] - 4s 48ms/step - loss: 0.0046 - accuracy: 0.9988 - val_loss: 0.2461 - val_accuracy: 0.9394\n",
      "\n",
      "Epoch 00013: val_loss did not improve from 0.20468\n",
      "Epoch 14/200\n",
      "75/75 [==============================] - 4s 47ms/step - loss: 0.0030 - accuracy: 0.9993 - val_loss: 0.2863 - val_accuracy: 0.9327\n",
      "\n",
      "Epoch 00014: val_loss did not improve from 0.20468\n",
      "Epoch 15/200\n",
      "75/75 [==============================] - 4s 48ms/step - loss: 0.0023 - accuracy: 0.9994 - val_loss: 0.2593 - val_accuracy: 0.9386\n",
      "\n",
      "Epoch 00015: val_loss did not improve from 0.20468\n",
      "Epoch 16/200\n",
      "75/75 [==============================] - 4s 48ms/step - loss: 0.0028 - accuracy: 0.9993 - val_loss: 0.2916 - val_accuracy: 0.9313\n",
      "\n",
      "Epoch 00016: val_loss did not improve from 0.20468\n",
      "Epoch 17/200\n",
      "75/75 [==============================] - 4s 49ms/step - loss: 0.0038 - accuracy: 0.9990 - val_loss: 0.2598 - val_accuracy: 0.9393\n",
      "\n",
      "Epoch 00017: val_loss did not improve from 0.20468\n",
      "Epoch 18/200\n",
      "75/75 [==============================] - 4s 49ms/step - loss: 0.0038 - accuracy: 0.9989 - val_loss: 0.2579 - val_accuracy: 0.9403\n",
      "\n",
      "Epoch 00018: val_loss did not improve from 0.20468\n",
      "Epoch 19/200\n",
      "75/75 [==============================] - 4s 49ms/step - loss: 0.0017 - accuracy: 0.9995 - val_loss: 0.2458 - val_accuracy: 0.9445\n",
      "\n",
      "Epoch 00019: val_loss did not improve from 0.20468\n",
      "Epoch 20/200\n",
      "75/75 [==============================] - 4s 48ms/step - loss: 0.0021 - accuracy: 0.9994 - val_loss: 0.2559 - val_accuracy: 0.9441\n",
      "\n",
      "Epoch 00020: val_loss did not improve from 0.20468\n",
      "Epoch 21/200\n",
      "75/75 [==============================] - 4s 49ms/step - loss: 0.0026 - accuracy: 0.9992 - val_loss: 0.2742 - val_accuracy: 0.9391\n",
      "\n",
      "Epoch 00021: val_loss did not improve from 0.20468\n",
      "Epoch 22/200\n",
      "75/75 [==============================] - 4s 48ms/step - loss: 0.0020 - accuracy: 0.9994 - val_loss: 0.3013 - val_accuracy: 0.9352\n",
      "\n",
      "Epoch 00022: val_loss did not improve from 0.20468\n",
      "Epoch 23/200\n",
      "75/75 [==============================] - 4s 48ms/step - loss: 0.0031 - accuracy: 0.9991 - val_loss: 0.2856 - val_accuracy: 0.9361\n",
      "\n",
      "Epoch 00023: val_loss did not improve from 0.20468\n",
      "Epoch 24/200\n",
      "75/75 [==============================] - 4s 49ms/step - loss: 0.0020 - accuracy: 0.9992 - val_loss: 0.2711 - val_accuracy: 0.9430\n",
      "\n",
      "Epoch 00024: val_loss did not improve from 0.20468\n",
      "Epoch 25/200\n",
      "75/75 [==============================] - 4s 48ms/step - loss: 0.0018 - accuracy: 0.9994 - val_loss: 0.2886 - val_accuracy: 0.9392\n",
      "\n",
      "Epoch 00025: val_loss did not improve from 0.20468\n",
      "Epoch 26/200\n",
      "75/75 [==============================] - 4s 48ms/step - loss: 0.0013 - accuracy: 0.9996 - val_loss: 0.2661 - val_accuracy: 0.9445\n",
      "\n",
      "Epoch 00026: val_loss did not improve from 0.20468\n",
      "Epoch 27/200\n",
      "75/75 [==============================] - 4s 49ms/step - loss: 0.0016 - accuracy: 0.9993 - val_loss: 0.2839 - val_accuracy: 0.9402\n",
      "\n",
      "Epoch 00027: val_loss did not improve from 0.20468\n",
      "Epoch 28/200\n",
      "75/75 [==============================] - 4s 48ms/step - loss: 0.0015 - accuracy: 0.9995 - val_loss: 0.2798 - val_accuracy: 0.9421\n",
      "\n",
      "Epoch 00028: val_loss did not improve from 0.20468\n",
      "Epoch 29/200\n",
      "75/75 [==============================] - 4s 48ms/step - loss: 0.0015 - accuracy: 0.9995 - val_loss: 0.2778 - val_accuracy: 0.9422\n",
      "\n",
      "Epoch 00029: val_loss did not improve from 0.20468\n",
      "Epoch 30/200\n",
      "75/75 [==============================] - 4s 48ms/step - loss: 0.0016 - accuracy: 0.9996 - val_loss: 0.2963 - val_accuracy: 0.9391\n",
      "\n",
      "Epoch 00030: val_loss did not improve from 0.20468\n",
      "Epoch 31/200\n",
      "75/75 [==============================] - 4s 49ms/step - loss: 0.0017 - accuracy: 0.9991 - val_loss: 0.2793 - val_accuracy: 0.9436\n",
      "\n",
      "Epoch 00031: val_loss did not improve from 0.20468\n",
      "Epoch 32/200\n",
      "75/75 [==============================] - 4s 48ms/step - loss: 0.0021 - accuracy: 0.9993 - val_loss: 0.3385 - val_accuracy: 0.9335\n",
      "\n",
      "Epoch 00032: val_loss did not improve from 0.20468\n",
      "Epoch 33/200\n",
      "75/75 [==============================] - 4s 49ms/step - loss: 0.0017 - accuracy: 0.9995 - val_loss: 0.2985 - val_accuracy: 0.9420\n",
      "\n",
      "Epoch 00033: val_loss did not improve from 0.20468\n",
      "Epoch 34/200\n",
      "75/75 [==============================] - 4s 48ms/step - loss: 0.0018 - accuracy: 0.9994 - val_loss: 0.3177 - val_accuracy: 0.9387\n",
      "\n",
      "Epoch 00034: val_loss did not improve from 0.20468\n",
      "Epoch 35/200\n",
      "75/75 [==============================] - 4s 48ms/step - loss: 0.0018 - accuracy: 0.9994 - val_loss: 0.3338 - val_accuracy: 0.9357\n",
      "\n",
      "Epoch 00035: val_loss did not improve from 0.20468\n",
      "Epoch 36/200\n",
      "75/75 [==============================] - 4s 48ms/step - loss: 0.0022 - accuracy: 0.9995 - val_loss: 0.2960 - val_accuracy: 0.9389\n",
      "\n",
      "Epoch 00036: val_loss did not improve from 0.20468\n",
      "Epoch 37/200\n",
      "75/75 [==============================] - 4s 49ms/step - loss: 0.0018 - accuracy: 0.9994 - val_loss: 0.3540 - val_accuracy: 0.9321\n",
      "\n",
      "Epoch 00037: val_loss did not improve from 0.20468\n",
      "Epoch 38/200\n",
      "75/75 [==============================] - 4s 49ms/step - loss: 0.0059 - accuracy: 0.9983 - val_loss: 0.2957 - val_accuracy: 0.9413\n",
      "\n",
      "Epoch 00038: val_loss did not improve from 0.20468\n",
      "Epoch 39/200\n",
      "75/75 [==============================] - 4s 49ms/step - loss: 0.0027 - accuracy: 0.9993 - val_loss: 0.2947 - val_accuracy: 0.9428\n",
      "\n",
      "Epoch 00039: val_loss did not improve from 0.20468\n",
      "Epoch 40/200\n",
      "75/75 [==============================] - 4s 49ms/step - loss: 0.0017 - accuracy: 0.9996 - val_loss: 0.3123 - val_accuracy: 0.9405\n",
      "\n",
      "Epoch 00040: val_loss did not improve from 0.20468\n",
      "Epoch 41/200\n",
      "75/75 [==============================] - 4s 49ms/step - loss: 0.0015 - accuracy: 0.9995 - val_loss: 0.3200 - val_accuracy: 0.9399\n",
      "\n",
      "Epoch 00041: val_loss did not improve from 0.20468\n",
      "Epoch 42/200\n",
      "75/75 [==============================] - 4s 48ms/step - loss: 0.0020 - accuracy: 0.9990 - val_loss: 0.3290 - val_accuracy: 0.9386\n",
      "\n",
      "Epoch 00042: val_loss did not improve from 0.20468\n",
      "Epoch 43/200\n",
      "75/75 [==============================] - 4s 48ms/step - loss: 0.0016 - accuracy: 0.9992 - val_loss: 0.3213 - val_accuracy: 0.9411\n",
      "\n",
      "Epoch 00043: val_loss did not improve from 0.20468\n",
      "Epoch 44/200\n",
      "75/75 [==============================] - 4s 48ms/step - loss: 0.0015 - accuracy: 0.9992 - val_loss: 0.3274 - val_accuracy: 0.9394\n",
      "\n",
      "Epoch 00044: val_loss did not improve from 0.20468\n",
      "Epoch 45/200\n",
      "75/75 [==============================] - 4s 48ms/step - loss: 0.0024 - accuracy: 0.9987 - val_loss: 0.3418 - val_accuracy: 0.9325\n",
      "\n",
      "Epoch 00045: val_loss did not improve from 0.20468\n",
      "Epoch 46/200\n",
      "75/75 [==============================] - 4s 48ms/step - loss: 0.0023 - accuracy: 0.9991 - val_loss: 0.3160 - val_accuracy: 0.9396\n",
      "\n",
      "Epoch 00046: val_loss did not improve from 0.20468\n",
      "Epoch 47/200\n",
      "75/75 [==============================] - 4s 49ms/step - loss: 0.0017 - accuracy: 0.9991 - val_loss: 0.3062 - val_accuracy: 0.9430\n",
      "\n",
      "Epoch 00047: val_loss did not improve from 0.20468\n",
      "Epoch 48/200\n",
      "75/75 [==============================] - 4s 48ms/step - loss: 0.0012 - accuracy: 0.9995 - val_loss: 0.3195 - val_accuracy: 0.9408\n",
      "\n",
      "Epoch 00048: val_loss did not improve from 0.20468\n",
      "Epoch 49/200\n",
      "75/75 [==============================] - 4s 48ms/step - loss: 0.0013 - accuracy: 0.9994 - val_loss: 0.3366 - val_accuracy: 0.9393\n",
      "\n",
      "Epoch 00049: val_loss did not improve from 0.20468\n",
      "Epoch 50/200\n",
      "75/75 [==============================] - 4s 49ms/step - loss: 0.0029 - accuracy: 0.9989 - val_loss: 0.3239 - val_accuracy: 0.9396\n",
      "\n",
      "Epoch 00050: val_loss did not improve from 0.20468\n",
      "Epoch 51/200\n",
      "75/75 [==============================] - 4s 49ms/step - loss: 0.0013 - accuracy: 0.9996 - val_loss: 0.3295 - val_accuracy: 0.9389\n",
      "\n",
      "Epoch 00051: val_loss did not improve from 0.20468\n",
      "Epoch 52/200\n",
      "75/75 [==============================] - 4s 49ms/step - loss: 0.0022 - accuracy: 0.9989 - val_loss: 0.3315 - val_accuracy: 0.9366\n",
      "\n",
      "Epoch 00052: val_loss did not improve from 0.20468\n",
      "Epoch 53/200\n",
      "75/75 [==============================] - 4s 49ms/step - loss: 0.0017 - accuracy: 0.9992 - val_loss: 0.3270 - val_accuracy: 0.9400\n",
      "\n",
      "Epoch 00053: val_loss did not improve from 0.20468\n",
      "Epoch 54/200\n",
      "75/75 [==============================] - 4s 55ms/step - loss: 0.0012 - accuracy: 0.9996 - val_loss: 0.3460 - val_accuracy: 0.9377\n",
      "\n",
      "Epoch 00054: val_loss did not improve from 0.20468\n",
      "Epoch 55/200\n",
      "75/75 [==============================] - 4s 49ms/step - loss: 0.0016 - accuracy: 0.9994 - val_loss: 0.3259 - val_accuracy: 0.9408\n",
      "\n",
      "Epoch 00055: val_loss did not improve from 0.20468\n",
      "Epoch 56/200\n",
      "75/75 [==============================] - 4s 49ms/step - loss: 0.0012 - accuracy: 0.9994 - val_loss: 0.3280 - val_accuracy: 0.9385\n",
      "\n",
      "Epoch 00056: val_loss did not improve from 0.20468\n",
      "Epoch 57/200\n",
      "75/75 [==============================] - 4s 49ms/step - loss: 0.0014 - accuracy: 0.9995 - val_loss: 0.3354 - val_accuracy: 0.9386\n",
      "\n",
      "Epoch 00057: val_loss did not improve from 0.20468\n",
      "Epoch 58/200\n",
      "75/75 [==============================] - 4s 49ms/step - loss: 0.0014 - accuracy: 0.9994 - val_loss: 0.3267 - val_accuracy: 0.9396\n",
      "\n",
      "Epoch 00058: val_loss did not improve from 0.20468\n",
      "Epoch 59/200\n",
      "75/75 [==============================] - 4s 48ms/step - loss: 0.0020 - accuracy: 0.9989 - val_loss: 0.3401 - val_accuracy: 0.9400\n",
      "\n",
      "Epoch 00059: val_loss did not improve from 0.20468\n",
      "Epoch 60/200\n",
      "75/75 [==============================] - 4s 49ms/step - loss: 0.0011 - accuracy: 0.9997 - val_loss: 0.3447 - val_accuracy: 0.9400\n",
      "\n",
      "Epoch 00060: val_loss did not improve from 0.20468\n",
      "Epoch 61/200\n",
      "75/75 [==============================] - 4s 48ms/step - loss: 0.0016 - accuracy: 0.9993 - val_loss: 0.3261 - val_accuracy: 0.9413\n",
      "\n",
      "Epoch 00061: val_loss did not improve from 0.20468\n",
      "Epoch 62/200\n",
      "75/75 [==============================] - 4s 49ms/step - loss: 0.0016 - accuracy: 0.9991 - val_loss: 0.3232 - val_accuracy: 0.9417\n",
      "\n",
      "Epoch 00062: val_loss did not improve from 0.20468\n",
      "Epoch 63/200\n",
      "75/75 [==============================] - 4s 49ms/step - loss: 0.0012 - accuracy: 0.9995 - val_loss: 0.3454 - val_accuracy: 0.9400\n",
      "\n",
      "Epoch 00063: val_loss did not improve from 0.20468\n",
      "Epoch 64/200\n",
      "75/75 [==============================] - 4s 49ms/step - loss: 0.0016 - accuracy: 0.9992 - val_loss: 0.3315 - val_accuracy: 0.9397\n",
      "\n",
      "Epoch 00064: val_loss did not improve from 0.20468\n",
      "Epoch 65/200\n",
      "75/75 [==============================] - 4s 49ms/step - loss: 0.0015 - accuracy: 0.9994 - val_loss: 0.3375 - val_accuracy: 0.9397\n",
      "\n",
      "Epoch 00065: val_loss did not improve from 0.20468\n",
      "Epoch 66/200\n",
      "75/75 [==============================] - 4s 48ms/step - loss: 0.0014 - accuracy: 0.9992 - val_loss: 0.3662 - val_accuracy: 0.9372\n",
      "\n",
      "Epoch 00066: val_loss did not improve from 0.20468\n",
      "Epoch 67/200\n",
      "75/75 [==============================] - 4s 49ms/step - loss: 0.0013 - accuracy: 0.9992 - val_loss: 0.3530 - val_accuracy: 0.9374\n",
      "\n",
      "Epoch 00067: val_loss did not improve from 0.20468\n",
      "Epoch 68/200\n",
      "75/75 [==============================] - 4s 49ms/step - loss: 0.0021 - accuracy: 0.9994 - val_loss: 0.3392 - val_accuracy: 0.9405\n",
      "\n",
      "Epoch 00068: val_loss did not improve from 0.20468\n",
      "Epoch 69/200\n",
      "75/75 [==============================] - 4s 48ms/step - loss: 0.0034 - accuracy: 0.9988 - val_loss: 0.3461 - val_accuracy: 0.9410\n",
      "\n",
      "Epoch 00069: val_loss did not improve from 0.20468\n",
      "Epoch 70/200\n",
      "75/75 [==============================] - 4s 49ms/step - loss: 0.0016 - accuracy: 0.9993 - val_loss: 0.3627 - val_accuracy: 0.9392\n",
      "\n",
      "Epoch 00070: val_loss did not improve from 0.20468\n",
      "Epoch 71/200\n",
      "75/75 [==============================] - 4s 50ms/step - loss: 0.0016 - accuracy: 0.9994 - val_loss: 0.3511 - val_accuracy: 0.9396\n",
      "\n",
      "Epoch 00071: val_loss did not improve from 0.20468\n",
      "Epoch 72/200\n",
      "75/75 [==============================] - 4s 49ms/step - loss: 0.0019 - accuracy: 0.9991 - val_loss: 0.3408 - val_accuracy: 0.9419\n",
      "\n",
      "Epoch 00072: val_loss did not improve from 0.20468\n",
      "Epoch 73/200\n",
      "75/75 [==============================] - 4s 49ms/step - loss: 0.0015 - accuracy: 0.9991 - val_loss: 0.3499 - val_accuracy: 0.9398\n",
      "\n",
      "Epoch 00073: val_loss did not improve from 0.20468\n",
      "Epoch 74/200\n",
      "75/75 [==============================] - 4s 49ms/step - loss: 0.0014 - accuracy: 0.9992 - val_loss: 0.3582 - val_accuracy: 0.9399\n",
      "\n",
      "Epoch 00074: val_loss did not improve from 0.20468\n",
      "Epoch 75/200\n",
      "75/75 [==============================] - 4s 49ms/step - loss: 0.0011 - accuracy: 0.9996 - val_loss: 0.3719 - val_accuracy: 0.9393\n",
      "\n",
      "Epoch 00075: val_loss did not improve from 0.20468\n",
      "Epoch 76/200\n",
      "75/75 [==============================] - 4s 49ms/step - loss: 0.0018 - accuracy: 0.9991 - val_loss: 0.3769 - val_accuracy: 0.9351\n",
      "\n",
      "Epoch 00076: val_loss did not improve from 0.20468\n",
      "Epoch 77/200\n",
      "75/75 [==============================] - 4s 48ms/step - loss: 0.0012 - accuracy: 0.9996 - val_loss: 0.3610 - val_accuracy: 0.9371\n",
      "\n",
      "Epoch 00077: val_loss did not improve from 0.20468\n",
      "Epoch 78/200\n",
      "75/75 [==============================] - 4s 48ms/step - loss: 0.0030 - accuracy: 0.9991 - val_loss: 0.3400 - val_accuracy: 0.9398\n",
      "\n",
      "Epoch 00078: val_loss did not improve from 0.20468\n",
      "Epoch 79/200\n",
      "75/75 [==============================] - 4s 48ms/step - loss: 0.0023 - accuracy: 0.9989 - val_loss: 0.3344 - val_accuracy: 0.9409\n",
      "\n",
      "Epoch 00079: val_loss did not improve from 0.20468\n",
      "Epoch 80/200\n",
      "75/75 [==============================] - 4s 48ms/step - loss: 0.0018 - accuracy: 0.9994 - val_loss: 0.3469 - val_accuracy: 0.9397\n",
      "\n",
      "Epoch 00080: val_loss did not improve from 0.20468\n",
      "Epoch 81/200\n",
      "75/75 [==============================] - 4s 49ms/step - loss: 0.0015 - accuracy: 0.9993 - val_loss: 0.3452 - val_accuracy: 0.9413\n",
      "\n",
      "Epoch 00081: val_loss did not improve from 0.20468\n",
      "Epoch 82/200\n",
      "75/75 [==============================] - 4s 49ms/step - loss: 0.0014 - accuracy: 0.9992 - val_loss: 0.3518 - val_accuracy: 0.9402\n",
      "\n",
      "Epoch 00082: val_loss did not improve from 0.20468\n",
      "Epoch 83/200\n",
      "75/75 [==============================] - 4s 49ms/step - loss: 0.0015 - accuracy: 0.9993 - val_loss: 0.3487 - val_accuracy: 0.9420\n",
      "\n",
      "Epoch 00083: val_loss did not improve from 0.20468\n",
      "Epoch 84/200\n",
      "75/75 [==============================] - 4s 49ms/step - loss: 0.0010 - accuracy: 0.9994 - val_loss: 0.3461 - val_accuracy: 0.9423\n",
      "\n",
      "Epoch 00084: val_loss did not improve from 0.20468\n",
      "Epoch 85/200\n",
      "75/75 [==============================] - 4s 48ms/step - loss: 0.0016 - accuracy: 0.9992 - val_loss: 0.3481 - val_accuracy: 0.9409\n",
      "\n",
      "Epoch 00085: val_loss did not improve from 0.20468\n",
      "Epoch 86/200\n",
      "75/75 [==============================] - 4s 49ms/step - loss: 0.0015 - accuracy: 0.9992 - val_loss: 0.3547 - val_accuracy: 0.9405\n",
      "\n",
      "Epoch 00086: val_loss did not improve from 0.20468\n",
      "Epoch 87/200\n",
      "75/75 [==============================] - 4s 49ms/step - loss: 0.0014 - accuracy: 0.9994 - val_loss: 0.3417 - val_accuracy: 0.9410\n",
      "\n",
      "Epoch 00087: val_loss did not improve from 0.20468\n",
      "Epoch 88/200\n",
      "75/75 [==============================] - 4s 49ms/step - loss: 0.0014 - accuracy: 0.9991 - val_loss: 0.3459 - val_accuracy: 0.9419\n",
      "\n",
      "Epoch 00088: val_loss did not improve from 0.20468\n",
      "Epoch 89/200\n",
      "75/75 [==============================] - 4s 49ms/step - loss: 0.0013 - accuracy: 0.9992 - val_loss: 0.3542 - val_accuracy: 0.9398\n",
      "\n",
      "Epoch 00089: val_loss did not improve from 0.20468\n",
      "Epoch 90/200\n",
      "75/75 [==============================] - 4s 49ms/step - loss: 0.0014 - accuracy: 0.9992 - val_loss: 0.3523 - val_accuracy: 0.9406\n",
      "\n",
      "Epoch 00090: val_loss did not improve from 0.20468\n",
      "Epoch 91/200\n",
      "75/75 [==============================] - 4s 49ms/step - loss: 0.0020 - accuracy: 0.9989 - val_loss: 0.3522 - val_accuracy: 0.9436\n",
      "\n",
      "Epoch 00091: val_loss did not improve from 0.20468\n",
      "Epoch 92/200\n",
      "75/75 [==============================] - 4s 50ms/step - loss: 0.0016 - accuracy: 0.9991 - val_loss: 0.3699 - val_accuracy: 0.9383\n",
      "\n",
      "Epoch 00092: val_loss did not improve from 0.20468\n",
      "Epoch 93/200\n",
      "75/75 [==============================] - 4s 49ms/step - loss: 0.0016 - accuracy: 0.9994 - val_loss: 0.3503 - val_accuracy: 0.9416\n",
      "\n",
      "Epoch 00093: val_loss did not improve from 0.20468\n",
      "Epoch 94/200\n",
      "75/75 [==============================] - 4s 49ms/step - loss: 0.0012 - accuracy: 0.9994 - val_loss: 0.3585 - val_accuracy: 0.9413\n",
      "\n",
      "Epoch 00094: val_loss did not improve from 0.20468\n",
      "Epoch 95/200\n",
      "75/75 [==============================] - 4s 50ms/step - loss: 0.0012 - accuracy: 0.9993 - val_loss: 0.3697 - val_accuracy: 0.9387\n",
      "\n",
      "Epoch 00095: val_loss did not improve from 0.20468\n",
      "Epoch 96/200\n",
      "75/75 [==============================] - 4s 49ms/step - loss: 0.0014 - accuracy: 0.9993 - val_loss: 0.3643 - val_accuracy: 0.9404\n",
      "\n",
      "Epoch 00096: val_loss did not improve from 0.20468\n",
      "Epoch 97/200\n",
      "75/75 [==============================] - 4s 49ms/step - loss: 0.0014 - accuracy: 0.9995 - val_loss: 0.3733 - val_accuracy: 0.9393\n",
      "\n",
      "Epoch 00097: val_loss did not improve from 0.20468\n",
      "Epoch 98/200\n",
      "75/75 [==============================] - 4s 49ms/step - loss: 0.0016 - accuracy: 0.9990 - val_loss: 0.3728 - val_accuracy: 0.9406\n",
      "\n",
      "Epoch 00098: val_loss did not improve from 0.20468\n",
      "Epoch 99/200\n",
      "75/75 [==============================] - 4s 49ms/step - loss: 9.3801e-04 - accuracy: 0.9996 - val_loss: 0.3687 - val_accuracy: 0.9410\n",
      "\n",
      "Epoch 00099: val_loss did not improve from 0.20468\n",
      "Epoch 100/200\n",
      "75/75 [==============================] - 4s 49ms/step - loss: 0.0013 - accuracy: 0.9994 - val_loss: 0.3692 - val_accuracy: 0.9405\n",
      "\n",
      "Epoch 00100: val_loss did not improve from 0.20468\n",
      "Epoch 101/200\n",
      "75/75 [==============================] - 4s 49ms/step - loss: 0.0012 - accuracy: 0.9993 - val_loss: 0.3714 - val_accuracy: 0.9398\n",
      "\n",
      "Epoch 00101: val_loss did not improve from 0.20468\n",
      "Epoch 102/200\n",
      "75/75 [==============================] - 4s 50ms/step - loss: 0.0014 - accuracy: 0.9995 - val_loss: 0.3808 - val_accuracy: 0.9406\n",
      "\n",
      "Epoch 00102: val_loss did not improve from 0.20468\n",
      "Epoch 103/200\n",
      "75/75 [==============================] - 4s 50ms/step - loss: 0.0018 - accuracy: 0.9997 - val_loss: 0.3872 - val_accuracy: 0.9312\n",
      "\n",
      "Epoch 00103: val_loss did not improve from 0.20468\n",
      "Epoch 104/200\n",
      "75/75 [==============================] - 4s 50ms/step - loss: 0.0013 - accuracy: 0.9994 - val_loss: 0.3471 - val_accuracy: 0.9417\n",
      "\n",
      "Epoch 00104: val_loss did not improve from 0.20468\n",
      "Epoch 105/200\n",
      "75/75 [==============================] - 4s 50ms/step - loss: 0.0015 - accuracy: 0.9994 - val_loss: 0.3540 - val_accuracy: 0.9397\n",
      "\n",
      "Epoch 00105: val_loss did not improve from 0.20468\n",
      "Epoch 00105: early stopping\n"
     ]
    }
   ],
   "source": [
    "import numpy as np\n",
    "from sklearn.model_selection import train_test_split\n",
    "from keras.datasets import imdb\n",
    "from keras.models import Sequential\n",
    "from keras.layers import Dense,Conv1D,MaxPooling1D\n",
    "from keras.layers import LSTM,Dropout\n",
    "from keras.layers.embeddings import Embedding\n",
    "from keras.preprocessing import sequence\n",
    "from keras.callbacks import ModelCheckpoint\n",
    "x_train,x_cv,y_train,y_cv = train_test_split(X,Y,test_size = 0.3)\n",
    "embedding_vecor_length = 32\n",
    "model5 = Sequential()\n",
    "model5.add(Embedding(top_words, embedding_vecor_length, input_length=max_review_length))\n",
    "model5.add(Conv1D(filters=32, kernel_size=3, padding='same', activation='relu'))\n",
    "model5.add(MaxPooling1D(pool_size=2))\n",
    "model5.add(GRU(64, return_sequences=True, dropout=0.2, name=\"GRU\"))\n",
    "model5.add(LSTM(100))\n",
    "model5.add(Dense(6, activation='softmax'))\n",
    "model5.compile(loss='categorical_crossentropy', optimizer='adam', metrics=['accuracy'])\n",
    "print(model5.summary())\n",
    "filepath=\"weights_best_cnn.hdf5\"\n",
    "early_stop = EarlyStopping(monitor='val_loss', min_delta=0.001, patience=100, mode='min', verbose=1)\n",
    "checkpoint = ModelCheckpoint(filepath, monitor='val_loss', patience=100 ,verbose=1, save_best_only=True, mode='min',save_weights_only=True)\n",
    "callbacks_list = [early_stop,checkpoint]\n",
    "history_5=model5.fit(x_train, y_train, epochs=200, batch_size=256,verbose = 1,callbacks = callbacks_list,validation_data=(x_cv,y_cv))"
   ]
  },
  {
   "cell_type": "code",
   "execution_count": null,
   "metadata": {
    "colab": {
     "base_uri": "https://localhost:8080/"
    },
    "id": "P_TMW6_Kf1jB",
    "outputId": "f1e1a0d4-86d7-4055-d51c-eee88fc2085c"
   },
   "outputs": [
    {
     "name": "stdout",
     "output_type": "stream",
     "text": [
      "Accuracy: 98.14%\n",
      "Loss: 0.10%\n"
     ]
    }
   ],
   "source": [
    "# Final evaluation of the model\n",
    "# create the model\n",
    "# embedding_vecor_length = 32\n",
    "# model5 = Sequential()\n",
    "# model5.add(Embedding(top_words, embedding_vecor_length, input_length=max_review_length))\n",
    "# model5.add(Conv1D(filters=32, kernel_size=3, padding='same', activation='relu'))\n",
    "# model5.add(MaxPooling1D(pool_size=2))\n",
    "# model5.add(LSTM(100))\n",
    "# model5.add(Dense(6, activation='softmax'))\n",
    "# model5.compile(loss='categorical_crossentropy', optimizer='adam', metrics=['accuracy'])\n",
    "# print(model5.summary())\n",
    "# model5.load_weights(\"/content/weights_best.hdf5\")\n",
    "scores = model5.evaluate(X_test, Y_test, verbose=0)\n",
    "print(\"Accuracy: %.2f%%\" % (scores[1]*100))\n",
    "print(\"Loss: %.2f%%\" % (scores[0]))"
   ]
  },
  {
   "cell_type": "code",
   "execution_count": null,
   "metadata": {
    "id": "iPPT95Ru0RMp"
   },
   "outputs": [],
   "source": [
    "new_complaint = ['Special Assistant to the Prime Minister on National Health Services, Regulations & Coordination; Infectious Diseases Physician']\n",
    "seq = tokenizer.texts_to_sequences(new_complaint)\n",
    "padded = pad_sequences(seq, maxlen=max_review_length)\n",
    "pred = model.predict(padded)\n",
    "labels = [\"Anti-Religion\",\"Anti-State\", \"Normal\", \"Offensive\", \"Racism\", \"sexism\"]\n",
    "#Offensive= '3'\n",
    "#Anti-State= '1'\n",
    "#Anti-Religion= '0'\n",
    "#Normal='2'\n",
    "#Racism= '4'\n",
    "#sexism='5'\n",
    "#print(pred, labels[np.argmax(pred)])\n",
    "print(labels[np.argmax(pred)])"
   ]
  },
  {
   "cell_type": "code",
   "execution_count": null,
   "metadata": {
    "colab": {
     "base_uri": "https://localhost:8080/"
    },
    "id": "JJcK9MdlzPJe",
    "outputId": "413da1a9-56bb-4a5d-a762-ad0054a75f98"
   },
   "outputs": [
    {
     "name": "stdout",
     "output_type": "stream",
     "text": [
      "+----------------+----------+\n",
      "|     Model      | Accuracy |\n",
      "+----------------+----------+\n",
      "|      LSTM      |  93.99   |\n",
      "| CNN using LSTM |  94.32   |\n",
      "+----------------+----------+\n"
     ]
    }
   ],
   "source": [
    "from prettytable import PrettyTable\n",
    "table = PrettyTable()\n",
    "table.field_names = ['Model', 'Accuracy']\n",
    "table.add_row(['LSTM', 93.99])\n",
    "table.add_row(['CNN using LSTM', 94.32])\n",
    "print(table)"
   ]
  },
  {
   "cell_type": "code",
   "execution_count": null,
   "metadata": {
    "colab": {
     "base_uri": "https://localhost:8080/"
    },
    "id": "LJ51OT_zuYAW",
    "outputId": "60c20292-d0a7-4066-d8b0-b5520cf78de6"
   },
   "outputs": [
    {
     "name": "stdout",
     "output_type": "stream",
     "text": [
      "257/257 [==============================] - 2s 6ms/step - loss: 0.1050 - accuracy: 0.9814\n",
      "Test set\n",
      "  Loss: 0.105\n",
      "  Accuracy: 0.981\n"
     ]
    }
   ],
   "source": [
    "accr = model5.evaluate(X_test,Y_test)\n",
    "#save keras model\n",
    "model.save(\"English_hate_detection.h5\")\n",
    "print('Test set\\n  Loss: {:0.3f}\\n  Accuracy: {:0.3f}'.format(accr[0],accr[1]))"
   ]
  },
  {
   "cell_type": "code",
   "execution_count": null,
   "metadata": {
    "colab": {
     "base_uri": "https://localhost:8080/"
    },
    "id": "3FCPUc9Sf1GA",
    "outputId": "e1e58505-b1fc-4f5a-c1ac-2a44c038f93e"
   },
   "outputs": [
    {
     "name": "stdout",
     "output_type": "stream",
     "text": [
      "2\n"
     ]
    }
   ],
   "source": [
    "new_complaint = ['']\n",
    "seq = tokenizer.texts_to_sequences(new_complaint)\n",
    "padded = pad_sequences(seq, maxlen=MAX_SEQUENCE_LENGTH)\n",
    "pred = model.predict(padded)\n",
    "labels = ['0', '1', '2', '3','4', '5']\n",
    "#print(pred, labels[np.argmax(pred)])\n",
    "print(labels[np.argmax(pred)])"
   ]
  },
  {
   "cell_type": "code",
   "execution_count": null,
   "metadata": {
    "colab": {
     "base_uri": "https://localhost:8080/",
     "height": 734
    },
    "id": "ZO99Fd_xIvp7",
    "outputId": "d916ad8c-e247-42c7-83b2-4f757c9c6be5"
   },
   "outputs": [
    {
     "data": {
      "text/plain": [
       "Text(0.5, 1.0, 'LSTM+GRU Model Accuracy')"
      ]
     },
     "execution_count": 136,
     "metadata": {
      "tags": []
     },
     "output_type": "execute_result"
    },
    {
     "data": {
      "text/plain": [
       "<Figure size 630x450 with 0 Axes>"
      ]
     },
     "execution_count": 136,
     "metadata": {
      "tags": []
     },
     "output_type": "execute_result"
    },
    {
     "data": {
      "text/plain": [
       "[<matplotlib.lines.Line2D at 0x7f03003e06d8>]"
      ]
     },
     "execution_count": 136,
     "metadata": {
      "tags": []
     },
     "output_type": "execute_result"
    },
    {
     "data": {
      "text/plain": [
       "[<matplotlib.lines.Line2D at 0x7f0300411b38>]"
      ]
     },
     "execution_count": 136,
     "metadata": {
      "tags": []
     },
     "output_type": "execute_result"
    },
    {
     "data": {
      "text/plain": [
       "(0.0, 20.0)"
      ]
     },
     "execution_count": 136,
     "metadata": {
      "tags": []
     },
     "output_type": "execute_result"
    },
    {
     "data": {
      "text/plain": [
       "(0.0, 1.0)"
      ]
     },
     "execution_count": 136,
     "metadata": {
      "tags": []
     },
     "output_type": "execute_result"
    },
    {
     "data": {
      "text/plain": [
       "<matplotlib.legend.Legend at 0x7f0300400c88>"
      ]
     },
     "execution_count": 136,
     "metadata": {
      "tags": []
     },
     "output_type": "execute_result"
    },
    {
     "data": {
      "text/plain": [
       "Text(0.5, 0, 'Epochs')"
      ]
     },
     "execution_count": 136,
     "metadata": {
      "tags": []
     },
     "output_type": "execute_result"
    },
    {
     "data": {
      "text/plain": [
       "Text(0, 0.5, 'Accuracy')"
      ]
     },
     "execution_count": 136,
     "metadata": {
      "tags": []
     },
     "output_type": "execute_result"
    },
    {
     "data": {
      "image/png": "[encoded data removed]",
      "text/plain": [
       "<Figure size 432x288 with 1 Axes>"
      ]
     },
     "metadata": {
      "tags": []
     },
     "output_type": "display_data"
    },
    {
     "data": {
      "image/png": "[encoded data removed]",
      "text/plain": [
       "<Figure size 630x450 with 1 Axes>"
      ]
     },
     "metadata": {
      "tags": []
     },
     "output_type": "display_data"
    }
   ],
   "source": [
    "plt.title('LSTM+GRU Model Accuracy')\n",
    "plt.figure(figsize=(7, 5), dpi=90)\n",
    "plt.plot(history_5.history['accuracy'], label='train',marker='o', markerfacecolor='white', markersize=10, color='green', linewidth=2)\n",
    "plt.plot(history_5.history['val_accuracy'], label='Validation',marker='*', markerfacecolor='white', markersize=10, color='purple', linewidth=2)\n",
    "\n",
    "axes = plt.gca()\n",
    "axes.set_xlim([0,20])\n",
    "axes.set_ylim([0,1])\n",
    "plt.legend()\n",
    "plt.xlabel(\"Epochs\")\n",
    "plt.ylabel(\"Accuracy\")\n",
    "plt.savefig(\"Accuracy_lstmgrucheck.png\", dpi=90)\n",
    "plt.show()"
   ]
  },
  {
   "cell_type": "code",
   "execution_count": null,
   "metadata": {
    "colab": {
     "base_uri": "https://localhost:8080/",
     "height": 346
    },
    "id": "zgT3fZrKIyjI",
    "outputId": "adb81d04-8557-4424-ee09-9000433c90b8"
   },
   "outputs": [
    {
     "data": {
      "text/plain": [
       "Text(0.5, 1.0, 'LSTM+GRU Model Loss')"
      ]
     },
     "execution_count": 137,
     "metadata": {
      "tags": []
     },
     "output_type": "execute_result"
    },
    {
     "data": {
      "text/plain": [
       "[<matplotlib.lines.Line2D at 0x7f0300498f28>]"
      ]
     },
     "execution_count": 137,
     "metadata": {
      "tags": []
     },
     "output_type": "execute_result"
    },
    {
     "data": {
      "text/plain": [
       "[<matplotlib.lines.Line2D at 0x7f030476cda0>]"
      ]
     },
     "execution_count": 137,
     "metadata": {
      "tags": []
     },
     "output_type": "execute_result"
    },
    {
     "data": {
      "text/plain": [
       "(0.0, 20.0)"
      ]
     },
     "execution_count": 137,
     "metadata": {
      "tags": []
     },
     "output_type": "execute_result"
    },
    {
     "data": {
      "text/plain": [
       "(0.0, 1.0)"
      ]
     },
     "execution_count": 137,
     "metadata": {
      "tags": []
     },
     "output_type": "execute_result"
    },
    {
     "data": {
      "text/plain": [
       "<matplotlib.legend.Legend at 0x7f030381ac18>"
      ]
     },
     "execution_count": 137,
     "metadata": {
      "tags": []
     },
     "output_type": "execute_result"
    },
    {
     "data": {
      "text/plain": [
       "Text(0.5, 0, 'Epochs')"
      ]
     },
     "execution_count": 137,
     "metadata": {
      "tags": []
     },
     "output_type": "execute_result"
    },
    {
     "data": {
      "text/plain": [
       "Text(0, 0.5, 'Loss')"
      ]
     },
     "execution_count": 137,
     "metadata": {
      "tags": []
     },
     "output_type": "execute_result"
    },
    {
     "data": {
      "image/png": "[encoded data removed]",
      "text/plain": [
       "<Figure size 432x288 with 1 Axes>"
      ]
     },
     "metadata": {
      "tags": []
     },
     "output_type": "display_data"
    }
   ],
   "source": [
    "plt.title('LSTM+GRU Model Loss')\n",
    "plt.plot(history_5.history['loss'], label='train',marker='o', markerfacecolor='white', markersize=10, color='skyblue', linewidth=2)\n",
    "plt.plot(history_5.history['val_loss'], label='Validation',marker='*', markerfacecolor='white', markersize=10, color='purple', linewidth=2)\n",
    "axes = plt.gca()\n",
    "axes.set_xlim([0,20])\n",
    "axes.set_ylim([0,1])\n",
    "plt.legend()\n",
    "plt.xlabel(\"Epochs\")\n",
    "plt.ylabel(\"Loss\")\n",
    "plt.savefig(\"Loss_lstmgrucheckpoints.png\")\n",
    "plt.show()"
   ]
  },
  {
   "cell_type": "code",
   "execution_count": null,
   "metadata": {
    "colab": {
     "base_uri": "https://localhost:8080/"
    },
    "id": "oIggPZaOSfWE",
    "outputId": "019e24ca-ea61-4820-d63c-ca4a0f0b1b73"
   },
   "outputs": [
    {
     "data": {
      "text/plain": [
       "3254"
      ]
     },
     "execution_count": 96,
     "metadata": {
      "tags": []
     },
     "output_type": "execute_result"
    },
    {
     "name": "stdout",
     "output_type": "stream",
     "text": [
      "Saved model to disk\n"
     ]
    }
   ],
   "source": [
    "# serialize model to JSON\n",
    "model_json = model.to_json()\n",
    "with open(\"/content/pretrained_model/nouman_model_26_01_21.json\", \"w\") as json_file:\n",
    "    json_file.write(model_json)\n",
    "# serialize weights to HDF5\n",
    "model.save_weights(\"/content/pretrained_model/nouman_model_26_01_21.h5\")\n",
    "print(\"Saved model to disk\")"
   ]
  },
  {
   "cell_type": "code",
   "execution_count": null,
   "metadata": {
    "id": "wTiZ-2yo9TLX"
   },
   "outputs": [],
   "source": [
    "import pickle\n",
    "\n",
    "#save:\n",
    "# f = open('/content/pretrained_model/history.pckl', 'wb')\n",
    "# pickle.dump(history.history, f)\n",
    "# f.close()\n",
    "\n",
    "# retrieve:    \n",
    "f = open('/content/history.pckl', 'rb')\n",
    "saved_history = pickle.load(f)\n",
    "f.close()\n"
   ]
  },
  {
   "cell_type": "code",
   "execution_count": null,
   "metadata": {
    "colab": {
     "base_uri": "https://localhost:8080/",
     "height": 295
    },
    "id": "9rvkzZ_lACSE",
    "outputId": "96f82441-bfc3-4601-94f9-17a7c7178a6a"
   },
   "outputs": [
    {
     "data": {
      "image/png": "[encoded data removed]",
      "text/plain": [
       "<Figure size 432x288 with 1 Axes>"
      ]
     },
     "metadata": {
      "tags": []
     },
     "output_type": "display_data"
    }
   ],
   "source": [
    "import matplotlib.pyplot as plt\n",
    "plt.title('Model Loss')\n",
    "plt.plot(saved_history['loss'], label='train')\n",
    "plt.plot(saved_history['val_loss'], label='Validation')\n",
    "plt.legend()\n",
    "plt.ylabel('Loss')\n",
    "plt.xlabel('Epoch')\n",
    "plt.savefig('Loss.png', dpi=300, bbox_inches= 'tight')\n",
    "plt.show();"
   ]
  },
  {
   "cell_type": "code",
   "execution_count": null,
   "metadata": {
    "colab": {
     "base_uri": "https://localhost:8080/",
     "height": 434
    },
    "id": "ULdNYR_F0_K1",
    "outputId": "86b95eb4-de34-41d2-88ca-ba5aa2a328e6"
   },
   "outputs": [
    {
     "data": {
      "image/png": "[encoded data removed]",
      "text/plain": [
       "<Figure size 630x450 with 1 Axes>"
      ]
     },
     "metadata": {
      "tags": []
     },
     "output_type": "display_data"
    }
   ],
   "source": [
    "\n",
    "import matplotlib.pyplot as plt\n",
    "plt.figure(figsize=(7, 5), dpi=90)\n",
    "plt.title('Model Accuracy')\n",
    "plt.plot(saved_history['accuracy'], label='train')\n",
    "plt.plot(saved_history['val_accuracy'], label='validation')\n",
    "plt.legend()\n",
    "plt.ylabel('Accuracy')\n",
    "plt.xlabel('Epoch')\n",
    "plt.savefig(\"Accuracy.png\", dpi=300, bbox_inches= 'tight')\n",
    "plt.show();\n",
    "plt.close()"
   ]
  },
  {
   "cell_type": "code",
   "execution_count": null,
   "metadata": {
    "id": "trlJ2Af-27xU"
   },
   "outputs": [],
   "source": [
    "#plot history of trained model using the pickle file\n",
    "import matplotlib.pyplot as plt\n",
    "w = 7\n",
    "h = 5\n",
    "d = 300\n",
    "plt.figure(figsize=(w, h), dpi=d)\n",
    "plt.title('Model Loss')\n",
    "loss = saved_history['loss']\n",
    "val_loss = saved_history['val_loss']\n",
    "plt.plot(loss, label='train')\n",
    "plt.plot(val_loss, label='test')\n",
    "plt.legend()\n",
    "plt.ylabel('Loss')\n",
    "plt.xlabel('Epoch')\n",
    "plt.savefig(\"Model_Loss.png\")\n",
    "plt.close()"
   ]
  },
  {
   "cell_type": "code",
   "execution_count": null,
   "metadata": {
    "colab": {
     "base_uri": "https://localhost:8080/",
     "height": 494
    },
    "id": "eybRBVDZ55uU",
    "outputId": "23b9499c-5ed4-4256-c324-9d2a3883b747"
   },
   "outputs": [
    {
     "ename": "OSError",
     "evalue": "ignored",
     "output_type": "error",
     "traceback": [
      "\u001b[0;31m---------------------------------------------------------------------------\u001b[0m",
      "\u001b[0;31mOSError\u001b[0m                                   Traceback (most recent call last)",
      "\u001b[0;32m<ipython-input-54-92ea97824800>\u001b[0m in \u001b[0;36m<module>\u001b[0;34m()\u001b[0m\n\u001b[1;32m      1\u001b[0m \u001b[0;31m#load saved model as keras\u001b[0m\u001b[0;34m\u001b[0m\u001b[0;34m\u001b[0m\u001b[0;34m\u001b[0m\u001b[0m\n\u001b[1;32m      2\u001b[0m \u001b[0;32mfrom\u001b[0m \u001b[0mkeras\u001b[0m\u001b[0;34m.\u001b[0m\u001b[0mmodels\u001b[0m \u001b[0;32mimport\u001b[0m \u001b[0mload_model\u001b[0m\u001b[0;34m\u001b[0m\u001b[0;34m\u001b[0m\u001b[0m\n\u001b[0;32m----> 3\u001b[0;31m \u001b[0mkeras_saved_model\u001b[0m \u001b[0;34m=\u001b[0m \u001b[0mload_model\u001b[0m\u001b[0;34m(\u001b[0m\u001b[0;34m\"/content/drive/My Drive/Colab Notebooks/Model_Weights_7_04-26-20/model.json\"\u001b[0m\u001b[0;34m)\u001b[0m\u001b[0;34m\u001b[0m\u001b[0;34m\u001b[0m\u001b[0m\n\u001b[0m\u001b[1;32m      4\u001b[0m \u001b[0mKeras_score\u001b[0m \u001b[0;34m=\u001b[0m \u001b[0mkeras_saved_model\u001b[0m\u001b[0;34m.\u001b[0m\u001b[0mevaluate\u001b[0m\u001b[0;34m(\u001b[0m\u001b[0mX_train\u001b[0m\u001b[0;34m,\u001b[0m \u001b[0mY_train\u001b[0m\u001b[0;34m,\u001b[0m \u001b[0mverbose\u001b[0m\u001b[0;34m=\u001b[0m\u001b[0;36m0\u001b[0m\u001b[0;34m)\u001b[0m\u001b[0;34m\u001b[0m\u001b[0;34m\u001b[0m\u001b[0m\n\u001b[1;32m      5\u001b[0m \u001b[0mprint\u001b[0m\u001b[0;34m(\u001b[0m\u001b[0;34m\"%s: %.2f%%\"\u001b[0m \u001b[0;34m%\u001b[0m \u001b[0;34m(\u001b[0m\u001b[0mkeras_saved_model\u001b[0m\u001b[0;34m.\u001b[0m\u001b[0mmetrics_names\u001b[0m\u001b[0;34m[\u001b[0m\u001b[0;36m1\u001b[0m\u001b[0;34m]\u001b[0m\u001b[0;34m,\u001b[0m \u001b[0mscore\u001b[0m\u001b[0;34m[\u001b[0m\u001b[0;36m1\u001b[0m\u001b[0;34m]\u001b[0m\u001b[0;34m*\u001b[0m\u001b[0;36m100\u001b[0m\u001b[0;34m)\u001b[0m\u001b[0;34m)\u001b[0m\u001b[0;34m\u001b[0m\u001b[0;34m\u001b[0m\u001b[0m\n",
      "\u001b[0;32m/usr/local/lib/python3.6/dist-packages/keras/engine/saving.py\u001b[0m in \u001b[0;36mload_wrapper\u001b[0;34m(*args, **kwargs)\u001b[0m\n\u001b[1;32m    490\u001b[0m                 \u001b[0mos\u001b[0m\u001b[0;34m.\u001b[0m\u001b[0mremove\u001b[0m\u001b[0;34m(\u001b[0m\u001b[0mtmp_filepath\u001b[0m\u001b[0;34m)\u001b[0m\u001b[0;34m\u001b[0m\u001b[0;34m\u001b[0m\u001b[0m\n\u001b[1;32m    491\u001b[0m             \u001b[0;32mreturn\u001b[0m \u001b[0mres\u001b[0m\u001b[0;34m\u001b[0m\u001b[0;34m\u001b[0m\u001b[0m\n\u001b[0;32m--> 492\u001b[0;31m         \u001b[0;32mreturn\u001b[0m \u001b[0mload_function\u001b[0m\u001b[0;34m(\u001b[0m\u001b[0;34m*\u001b[0m\u001b[0margs\u001b[0m\u001b[0;34m,\u001b[0m \u001b[0;34m**\u001b[0m\u001b[0mkwargs\u001b[0m\u001b[0;34m)\u001b[0m\u001b[0;34m\u001b[0m\u001b[0;34m\u001b[0m\u001b[0m\n\u001b[0m\u001b[1;32m    493\u001b[0m \u001b[0;34m\u001b[0m\u001b[0m\n\u001b[1;32m    494\u001b[0m     \u001b[0;32mreturn\u001b[0m \u001b[0mload_wrapper\u001b[0m\u001b[0;34m\u001b[0m\u001b[0;34m\u001b[0m\u001b[0m\n",
      "\u001b[0;32m/usr/local/lib/python3.6/dist-packages/keras/engine/saving.py\u001b[0m in \u001b[0;36mload_model\u001b[0;34m(filepath, custom_objects, compile)\u001b[0m\n\u001b[1;32m    581\u001b[0m \u001b[0;34m\u001b[0m\u001b[0m\n\u001b[1;32m    582\u001b[0m     \u001b[0;32mif\u001b[0m \u001b[0mH5Dict\u001b[0m\u001b[0;34m.\u001b[0m\u001b[0mis_supported_type\u001b[0m\u001b[0;34m(\u001b[0m\u001b[0mfilepath\u001b[0m\u001b[0;34m)\u001b[0m\u001b[0;34m:\u001b[0m\u001b[0;34m\u001b[0m\u001b[0;34m\u001b[0m\u001b[0m\n\u001b[0;32m--> 583\u001b[0;31m         \u001b[0;32mwith\u001b[0m \u001b[0mH5Dict\u001b[0m\u001b[0;34m(\u001b[0m\u001b[0mfilepath\u001b[0m\u001b[0;34m,\u001b[0m \u001b[0mmode\u001b[0m\u001b[0;34m=\u001b[0m\u001b[0;34m'r'\u001b[0m\u001b[0;34m)\u001b[0m \u001b[0;32mas\u001b[0m \u001b[0mh5dict\u001b[0m\u001b[0;34m:\u001b[0m\u001b[0;34m\u001b[0m\u001b[0;34m\u001b[0m\u001b[0m\n\u001b[0m\u001b[1;32m    584\u001b[0m             \u001b[0mmodel\u001b[0m \u001b[0;34m=\u001b[0m \u001b[0m_deserialize_model\u001b[0m\u001b[0;34m(\u001b[0m\u001b[0mh5dict\u001b[0m\u001b[0;34m,\u001b[0m \u001b[0mcustom_objects\u001b[0m\u001b[0;34m,\u001b[0m \u001b[0mcompile\u001b[0m\u001b[0;34m)\u001b[0m\u001b[0;34m\u001b[0m\u001b[0;34m\u001b[0m\u001b[0m\n\u001b[1;32m    585\u001b[0m     \u001b[0;32melif\u001b[0m \u001b[0mhasattr\u001b[0m\u001b[0;34m(\u001b[0m\u001b[0mfilepath\u001b[0m\u001b[0;34m,\u001b[0m \u001b[0;34m'write'\u001b[0m\u001b[0;34m)\u001b[0m \u001b[0;32mand\u001b[0m \u001b[0mcallable\u001b[0m\u001b[0;34m(\u001b[0m\u001b[0mfilepath\u001b[0m\u001b[0;34m.\u001b[0m\u001b[0mwrite\u001b[0m\u001b[0;34m)\u001b[0m\u001b[0;34m:\u001b[0m\u001b[0;34m\u001b[0m\u001b[0;34m\u001b[0m\u001b[0m\n",
      "\u001b[0;32m/usr/local/lib/python3.6/dist-packages/keras/utils/io_utils.py\u001b[0m in \u001b[0;36m__init__\u001b[0;34m(self, path, mode)\u001b[0m\n\u001b[1;32m    189\u001b[0m             \u001b[0mself\u001b[0m\u001b[0;34m.\u001b[0m\u001b[0m_is_file\u001b[0m \u001b[0;34m=\u001b[0m \u001b[0;32mFalse\u001b[0m\u001b[0;34m\u001b[0m\u001b[0;34m\u001b[0m\u001b[0m\n\u001b[1;32m    190\u001b[0m         \u001b[0;32melif\u001b[0m \u001b[0misinstance\u001b[0m\u001b[0;34m(\u001b[0m\u001b[0mpath\u001b[0m\u001b[0;34m,\u001b[0m \u001b[0msix\u001b[0m\u001b[0;34m.\u001b[0m\u001b[0mstring_types\u001b[0m\u001b[0;34m)\u001b[0m \u001b[0;32mor\u001b[0m \u001b[0m_is_path_instance\u001b[0m\u001b[0;34m(\u001b[0m\u001b[0mpath\u001b[0m\u001b[0;34m)\u001b[0m\u001b[0;34m:\u001b[0m\u001b[0;34m\u001b[0m\u001b[0;34m\u001b[0m\u001b[0m\n\u001b[0;32m--> 191\u001b[0;31m             \u001b[0mself\u001b[0m\u001b[0;34m.\u001b[0m\u001b[0mdata\u001b[0m \u001b[0;34m=\u001b[0m \u001b[0mh5py\u001b[0m\u001b[0;34m.\u001b[0m\u001b[0mFile\u001b[0m\u001b[0;34m(\u001b[0m\u001b[0mpath\u001b[0m\u001b[0;34m,\u001b[0m \u001b[0mmode\u001b[0m\u001b[0;34m=\u001b[0m\u001b[0mmode\u001b[0m\u001b[0;34m)\u001b[0m\u001b[0;34m\u001b[0m\u001b[0;34m\u001b[0m\u001b[0m\n\u001b[0m\u001b[1;32m    192\u001b[0m             \u001b[0mself\u001b[0m\u001b[0;34m.\u001b[0m\u001b[0m_is_file\u001b[0m \u001b[0;34m=\u001b[0m \u001b[0;32mTrue\u001b[0m\u001b[0;34m\u001b[0m\u001b[0;34m\u001b[0m\u001b[0m\n\u001b[1;32m    193\u001b[0m         \u001b[0;32melif\u001b[0m \u001b[0misinstance\u001b[0m\u001b[0;34m(\u001b[0m\u001b[0mpath\u001b[0m\u001b[0;34m,\u001b[0m \u001b[0mdict\u001b[0m\u001b[0;34m)\u001b[0m\u001b[0;34m:\u001b[0m\u001b[0;34m\u001b[0m\u001b[0;34m\u001b[0m\u001b[0m\n",
      "\u001b[0;32m/usr/local/lib/python3.6/dist-packages/h5py/_hl/files.py\u001b[0m in \u001b[0;36m__init__\u001b[0;34m(self, name, mode, driver, libver, userblock_size, swmr, rdcc_nslots, rdcc_nbytes, rdcc_w0, track_order, **kwds)\u001b[0m\n\u001b[1;32m    406\u001b[0m                 fid = make_fid(name, mode, userblock_size,\n\u001b[1;32m    407\u001b[0m                                \u001b[0mfapl\u001b[0m\u001b[0;34m,\u001b[0m \u001b[0mfcpl\u001b[0m\u001b[0;34m=\u001b[0m\u001b[0mmake_fcpl\u001b[0m\u001b[0;34m(\u001b[0m\u001b[0mtrack_order\u001b[0m\u001b[0;34m=\u001b[0m\u001b[0mtrack_order\u001b[0m\u001b[0;34m)\u001b[0m\u001b[0;34m,\u001b[0m\u001b[0;34m\u001b[0m\u001b[0;34m\u001b[0m\u001b[0m\n\u001b[0;32m--> 408\u001b[0;31m                                swmr=swmr)\n\u001b[0m\u001b[1;32m    409\u001b[0m \u001b[0;34m\u001b[0m\u001b[0m\n\u001b[1;32m    410\u001b[0m             \u001b[0;32mif\u001b[0m \u001b[0misinstance\u001b[0m\u001b[0;34m(\u001b[0m\u001b[0mlibver\u001b[0m\u001b[0;34m,\u001b[0m \u001b[0mtuple\u001b[0m\u001b[0;34m)\u001b[0m\u001b[0;34m:\u001b[0m\u001b[0;34m\u001b[0m\u001b[0;34m\u001b[0m\u001b[0m\n",
      "\u001b[0;32m/usr/local/lib/python3.6/dist-packages/h5py/_hl/files.py\u001b[0m in \u001b[0;36mmake_fid\u001b[0;34m(name, mode, userblock_size, fapl, fcpl, swmr)\u001b[0m\n\u001b[1;32m    171\u001b[0m         \u001b[0;32mif\u001b[0m \u001b[0mswmr\u001b[0m \u001b[0;32mand\u001b[0m \u001b[0mswmr_support\u001b[0m\u001b[0;34m:\u001b[0m\u001b[0;34m\u001b[0m\u001b[0;34m\u001b[0m\u001b[0m\n\u001b[1;32m    172\u001b[0m             \u001b[0mflags\u001b[0m \u001b[0;34m|=\u001b[0m \u001b[0mh5f\u001b[0m\u001b[0;34m.\u001b[0m\u001b[0mACC_SWMR_READ\u001b[0m\u001b[0;34m\u001b[0m\u001b[0;34m\u001b[0m\u001b[0m\n\u001b[0;32m--> 173\u001b[0;31m         \u001b[0mfid\u001b[0m \u001b[0;34m=\u001b[0m \u001b[0mh5f\u001b[0m\u001b[0;34m.\u001b[0m\u001b[0mopen\u001b[0m\u001b[0;34m(\u001b[0m\u001b[0mname\u001b[0m\u001b[0;34m,\u001b[0m \u001b[0mflags\u001b[0m\u001b[0;34m,\u001b[0m \u001b[0mfapl\u001b[0m\u001b[0;34m=\u001b[0m\u001b[0mfapl\u001b[0m\u001b[0;34m)\u001b[0m\u001b[0;34m\u001b[0m\u001b[0;34m\u001b[0m\u001b[0m\n\u001b[0m\u001b[1;32m    174\u001b[0m     \u001b[0;32melif\u001b[0m \u001b[0mmode\u001b[0m \u001b[0;34m==\u001b[0m \u001b[0;34m'r+'\u001b[0m\u001b[0;34m:\u001b[0m\u001b[0;34m\u001b[0m\u001b[0;34m\u001b[0m\u001b[0m\n\u001b[1;32m    175\u001b[0m         \u001b[0mfid\u001b[0m \u001b[0;34m=\u001b[0m \u001b[0mh5f\u001b[0m\u001b[0;34m.\u001b[0m\u001b[0mopen\u001b[0m\u001b[0;34m(\u001b[0m\u001b[0mname\u001b[0m\u001b[0;34m,\u001b[0m \u001b[0mh5f\u001b[0m\u001b[0;34m.\u001b[0m\u001b[0mACC_RDWR\u001b[0m\u001b[0;34m,\u001b[0m \u001b[0mfapl\u001b[0m\u001b[0;34m=\u001b[0m\u001b[0mfapl\u001b[0m\u001b[0;34m)\u001b[0m\u001b[0;34m\u001b[0m\u001b[0;34m\u001b[0m\u001b[0m\n",
      "\u001b[0;32mh5py/_objects.pyx\u001b[0m in \u001b[0;36mh5py._objects.with_phil.wrapper\u001b[0;34m()\u001b[0m\n",
      "\u001b[0;32mh5py/_objects.pyx\u001b[0m in \u001b[0;36mh5py._objects.with_phil.wrapper\u001b[0;34m()\u001b[0m\n",
      "\u001b[0;32mh5py/h5f.pyx\u001b[0m in \u001b[0;36mh5py.h5f.open\u001b[0;34m()\u001b[0m\n",
      "\u001b[0;31mOSError\u001b[0m: Unable to open file (file signature not found)"
     ]
    }
   ],
   "source": [
    "#load saved model as keras\n",
    "from keras.models import load_model\n",
    "keras_saved_model = load_model(\"/content/drive/My Drive/Colab Notebooks/Model_Weights_7_04-26-20/model.json\")\n",
    "Keras_score = keras_saved_model.evaluate(X_train, Y_train, verbose=0)\n",
    "print(\"%s: %.2f%%\" % (keras_saved_model.metrics_names[1], score[1]*100))"
   ]
  },
  {
   "cell_type": "code",
   "execution_count": null,
   "metadata": {
    "colab": {
     "base_uri": "https://localhost:8080/",
     "height": 445
    },
    "id": "vcyFiNBSxNZr",
    "outputId": "7e6b7996-2cac-40dc-f2b9-303a7b8ef60c"
   },
   "outputs": [
    {
     "name": "stdout",
     "output_type": "stream",
     "text": [
      "WARNING:tensorflow:Layer lstm_7 will not use cuDNN kernel since it doesn't meet the cuDNN kernel criteria. It will use generic GPU kernel as fallback when running on GPU\n",
      "WARNING:tensorflow:Layer lstm_8 will not use cuDNN kernel since it doesn't meet the cuDNN kernel criteria. It will use generic GPU kernel as fallback when running on GPU\n",
      "WARNING:tensorflow:Layer lstm_9 will not use cuDNN kernel since it doesn't meet the cuDNN kernel criteria. It will use generic GPU kernel as fallback when running on GPU\n",
      "Loaded model from disk\n"
     ]
    },
    {
     "ename": "KeyboardInterrupt",
     "evalue": "ignored",
     "output_type": "error",
     "traceback": [
      "\u001b[0;31m---------------------------------------------------------------------------\u001b[0m",
      "\u001b[0;31mKeyboardInterrupt\u001b[0m                         Traceback (most recent call last)",
      "\u001b[0;32m<ipython-input-114-75ad51e354da>\u001b[0m in \u001b[0;36m<module>\u001b[0;34m()\u001b[0m\n\u001b[1;32m     10\u001b[0m \u001b[0mprint\u001b[0m\u001b[0;34m(\u001b[0m\u001b[0;34m\"Loaded model from disk\"\u001b[0m\u001b[0;34m)\u001b[0m\u001b[0;34m\u001b[0m\u001b[0;34m\u001b[0m\u001b[0m\n\u001b[1;32m     11\u001b[0m \u001b[0mloaded_model\u001b[0m\u001b[0;34m.\u001b[0m\u001b[0mcompile\u001b[0m\u001b[0;34m(\u001b[0m\u001b[0mloss\u001b[0m\u001b[0;34m=\u001b[0m\u001b[0;34m'categorical_crossentropy'\u001b[0m\u001b[0;34m,\u001b[0m \u001b[0moptimizer\u001b[0m\u001b[0;34m=\u001b[0m\u001b[0;34m'adam'\u001b[0m\u001b[0;34m,\u001b[0m \u001b[0mmetrics\u001b[0m\u001b[0;34m=\u001b[0m\u001b[0;34m[\u001b[0m\u001b[0;34m'accuracy'\u001b[0m\u001b[0;34m]\u001b[0m\u001b[0;34m)\u001b[0m\u001b[0;34m\u001b[0m\u001b[0;34m\u001b[0m\u001b[0m\n\u001b[0;32m---> 12\u001b[0;31m \u001b[0mscore\u001b[0m\u001b[0;34m=\u001b[0m\u001b[0mloaded_model\u001b[0m\u001b[0;34m.\u001b[0m\u001b[0mevaluate\u001b[0m\u001b[0;34m(\u001b[0m\u001b[0mX_train\u001b[0m\u001b[0;34m,\u001b[0m \u001b[0mY_train\u001b[0m\u001b[0;34m,\u001b[0m \u001b[0mverbose\u001b[0m\u001b[0;34m=\u001b[0m\u001b[0;36m0\u001b[0m\u001b[0;34m)\u001b[0m\u001b[0;34m\u001b[0m\u001b[0;34m\u001b[0m\u001b[0m\n\u001b[0m",
      "\u001b[0;32m/usr/local/lib/python3.6/dist-packages/tensorflow/python/keras/engine/training.py\u001b[0m in \u001b[0;36mevaluate\u001b[0;34m(self, x, y, batch_size, verbose, sample_weight, steps, callbacks, max_queue_size, workers, use_multiprocessing, return_dict)\u001b[0m\n\u001b[1;32m   1387\u001b[0m             \u001b[0;32mwith\u001b[0m \u001b[0mtrace\u001b[0m\u001b[0;34m.\u001b[0m\u001b[0mTrace\u001b[0m\u001b[0;34m(\u001b[0m\u001b[0;34m'test'\u001b[0m\u001b[0;34m,\u001b[0m \u001b[0mstep_num\u001b[0m\u001b[0;34m=\u001b[0m\u001b[0mstep\u001b[0m\u001b[0;34m,\u001b[0m \u001b[0m_r\u001b[0m\u001b[0;34m=\u001b[0m\u001b[0;36m1\u001b[0m\u001b[0;34m)\u001b[0m\u001b[0;34m:\u001b[0m\u001b[0;34m\u001b[0m\u001b[0;34m\u001b[0m\u001b[0m\n\u001b[1;32m   1388\u001b[0m               \u001b[0mcallbacks\u001b[0m\u001b[0;34m.\u001b[0m\u001b[0mon_test_batch_begin\u001b[0m\u001b[0;34m(\u001b[0m\u001b[0mstep\u001b[0m\u001b[0;34m)\u001b[0m\u001b[0;34m\u001b[0m\u001b[0;34m\u001b[0m\u001b[0m\n\u001b[0;32m-> 1389\u001b[0;31m               \u001b[0mtmp_logs\u001b[0m \u001b[0;34m=\u001b[0m \u001b[0mself\u001b[0m\u001b[0;34m.\u001b[0m\u001b[0mtest_function\u001b[0m\u001b[0;34m(\u001b[0m\u001b[0miterator\u001b[0m\u001b[0;34m)\u001b[0m\u001b[0;34m\u001b[0m\u001b[0;34m\u001b[0m\u001b[0m\n\u001b[0m\u001b[1;32m   1390\u001b[0m               \u001b[0;32mif\u001b[0m \u001b[0mdata_handler\u001b[0m\u001b[0;34m.\u001b[0m\u001b[0mshould_sync\u001b[0m\u001b[0;34m:\u001b[0m\u001b[0;34m\u001b[0m\u001b[0;34m\u001b[0m\u001b[0m\n\u001b[1;32m   1391\u001b[0m                 \u001b[0mcontext\u001b[0m\u001b[0;34m.\u001b[0m\u001b[0masync_wait\u001b[0m\u001b[0;34m(\u001b[0m\u001b[0;34m)\u001b[0m\u001b[0;34m\u001b[0m\u001b[0;34m\u001b[0m\u001b[0m\n",
      "\u001b[0;32m/usr/local/lib/python3.6/dist-packages/tensorflow/python/eager/def_function.py\u001b[0m in \u001b[0;36m__call__\u001b[0;34m(self, *args, **kwds)\u001b[0m\n\u001b[1;32m    826\u001b[0m     \u001b[0mtracing_count\u001b[0m \u001b[0;34m=\u001b[0m \u001b[0mself\u001b[0m\u001b[0;34m.\u001b[0m\u001b[0mexperimental_get_tracing_count\u001b[0m\u001b[0;34m(\u001b[0m\u001b[0;34m)\u001b[0m\u001b[0;34m\u001b[0m\u001b[0;34m\u001b[0m\u001b[0m\n\u001b[1;32m    827\u001b[0m     \u001b[0;32mwith\u001b[0m \u001b[0mtrace\u001b[0m\u001b[0;34m.\u001b[0m\u001b[0mTrace\u001b[0m\u001b[0;34m(\u001b[0m\u001b[0mself\u001b[0m\u001b[0;34m.\u001b[0m\u001b[0m_name\u001b[0m\u001b[0;34m)\u001b[0m \u001b[0;32mas\u001b[0m \u001b[0mtm\u001b[0m\u001b[0;34m:\u001b[0m\u001b[0;34m\u001b[0m\u001b[0;34m\u001b[0m\u001b[0m\n\u001b[0;32m--> 828\u001b[0;31m       \u001b[0mresult\u001b[0m \u001b[0;34m=\u001b[0m \u001b[0mself\u001b[0m\u001b[0;34m.\u001b[0m\u001b[0m_call\u001b[0m\u001b[0;34m(\u001b[0m\u001b[0;34m*\u001b[0m\u001b[0margs\u001b[0m\u001b[0;34m,\u001b[0m \u001b[0;34m**\u001b[0m\u001b[0mkwds\u001b[0m\u001b[0;34m)\u001b[0m\u001b[0;34m\u001b[0m\u001b[0;34m\u001b[0m\u001b[0m\n\u001b[0m\u001b[1;32m    829\u001b[0m       \u001b[0mcompiler\u001b[0m \u001b[0;34m=\u001b[0m \u001b[0;34m\"xla\"\u001b[0m \u001b[0;32mif\u001b[0m \u001b[0mself\u001b[0m\u001b[0;34m.\u001b[0m\u001b[0m_experimental_compile\u001b[0m \u001b[0;32melse\u001b[0m \u001b[0;34m\"nonXla\"\u001b[0m\u001b[0;34m\u001b[0m\u001b[0;34m\u001b[0m\u001b[0m\n\u001b[1;32m    830\u001b[0m       \u001b[0mnew_tracing_count\u001b[0m \u001b[0;34m=\u001b[0m \u001b[0mself\u001b[0m\u001b[0;34m.\u001b[0m\u001b[0mexperimental_get_tracing_count\u001b[0m\u001b[0;34m(\u001b[0m\u001b[0;34m)\u001b[0m\u001b[0;34m\u001b[0m\u001b[0;34m\u001b[0m\u001b[0m\n",
      "\u001b[0;32m/usr/local/lib/python3.6/dist-packages/tensorflow/python/eager/def_function.py\u001b[0m in \u001b[0;36m_call\u001b[0;34m(self, *args, **kwds)\u001b[0m\n\u001b[1;32m    853\u001b[0m       \u001b[0;31m# In this case we have created variables on the first call, so we run the\u001b[0m\u001b[0;34m\u001b[0m\u001b[0;34m\u001b[0m\u001b[0;34m\u001b[0m\u001b[0m\n\u001b[1;32m    854\u001b[0m       \u001b[0;31m# defunned version which is guaranteed to never create variables.\u001b[0m\u001b[0;34m\u001b[0m\u001b[0;34m\u001b[0m\u001b[0;34m\u001b[0m\u001b[0m\n\u001b[0;32m--> 855\u001b[0;31m       \u001b[0;32mreturn\u001b[0m \u001b[0mself\u001b[0m\u001b[0;34m.\u001b[0m\u001b[0m_stateless_fn\u001b[0m\u001b[0;34m(\u001b[0m\u001b[0;34m*\u001b[0m\u001b[0margs\u001b[0m\u001b[0;34m,\u001b[0m \u001b[0;34m**\u001b[0m\u001b[0mkwds\u001b[0m\u001b[0;34m)\u001b[0m  \u001b[0;31m# pylint: disable=not-callable\u001b[0m\u001b[0;34m\u001b[0m\u001b[0;34m\u001b[0m\u001b[0m\n\u001b[0m\u001b[1;32m    856\u001b[0m     \u001b[0;32melif\u001b[0m \u001b[0mself\u001b[0m\u001b[0;34m.\u001b[0m\u001b[0m_stateful_fn\u001b[0m \u001b[0;32mis\u001b[0m \u001b[0;32mnot\u001b[0m \u001b[0;32mNone\u001b[0m\u001b[0;34m:\u001b[0m\u001b[0;34m\u001b[0m\u001b[0;34m\u001b[0m\u001b[0m\n\u001b[1;32m    857\u001b[0m       \u001b[0;31m# Release the lock early so that multiple threads can perform the call\u001b[0m\u001b[0;34m\u001b[0m\u001b[0;34m\u001b[0m\u001b[0;34m\u001b[0m\u001b[0m\n",
      "\u001b[0;32m/usr/local/lib/python3.6/dist-packages/tensorflow/python/eager/function.py\u001b[0m in \u001b[0;36m__call__\u001b[0;34m(self, *args, **kwargs)\u001b[0m\n\u001b[1;32m   2941\u001b[0m        filtered_flat_args) = self._maybe_define_function(args, kwargs)\n\u001b[1;32m   2942\u001b[0m     return graph_function._call_flat(\n\u001b[0;32m-> 2943\u001b[0;31m         filtered_flat_args, captured_inputs=graph_function.captured_inputs)  # pylint: disable=protected-access\n\u001b[0m\u001b[1;32m   2944\u001b[0m \u001b[0;34m\u001b[0m\u001b[0m\n\u001b[1;32m   2945\u001b[0m   \u001b[0;34m@\u001b[0m\u001b[0mproperty\u001b[0m\u001b[0;34m\u001b[0m\u001b[0;34m\u001b[0m\u001b[0m\n",
      "\u001b[0;32m/usr/local/lib/python3.6/dist-packages/tensorflow/python/eager/function.py\u001b[0m in \u001b[0;36m_call_flat\u001b[0;34m(self, args, captured_inputs, cancellation_manager)\u001b[0m\n\u001b[1;32m   1917\u001b[0m       \u001b[0;31m# No tape is watching; skip to running the function.\u001b[0m\u001b[0;34m\u001b[0m\u001b[0;34m\u001b[0m\u001b[0;34m\u001b[0m\u001b[0m\n\u001b[1;32m   1918\u001b[0m       return self._build_call_outputs(self._inference_function.call(\n\u001b[0;32m-> 1919\u001b[0;31m           ctx, args, cancellation_manager=cancellation_manager))\n\u001b[0m\u001b[1;32m   1920\u001b[0m     forward_backward = self._select_forward_and_backward_functions(\n\u001b[1;32m   1921\u001b[0m         \u001b[0margs\u001b[0m\u001b[0;34m,\u001b[0m\u001b[0;34m\u001b[0m\u001b[0;34m\u001b[0m\u001b[0m\n",
      "\u001b[0;32m/usr/local/lib/python3.6/dist-packages/tensorflow/python/eager/function.py\u001b[0m in \u001b[0;36mcall\u001b[0;34m(self, ctx, args, cancellation_manager)\u001b[0m\n\u001b[1;32m    558\u001b[0m               \u001b[0minputs\u001b[0m\u001b[0;34m=\u001b[0m\u001b[0margs\u001b[0m\u001b[0;34m,\u001b[0m\u001b[0;34m\u001b[0m\u001b[0;34m\u001b[0m\u001b[0m\n\u001b[1;32m    559\u001b[0m               \u001b[0mattrs\u001b[0m\u001b[0;34m=\u001b[0m\u001b[0mattrs\u001b[0m\u001b[0;34m,\u001b[0m\u001b[0;34m\u001b[0m\u001b[0;34m\u001b[0m\u001b[0m\n\u001b[0;32m--> 560\u001b[0;31m               ctx=ctx)\n\u001b[0m\u001b[1;32m    561\u001b[0m         \u001b[0;32melse\u001b[0m\u001b[0;34m:\u001b[0m\u001b[0;34m\u001b[0m\u001b[0;34m\u001b[0m\u001b[0m\n\u001b[1;32m    562\u001b[0m           outputs = execute.execute_with_cancellation(\n",
      "\u001b[0;32m/usr/local/lib/python3.6/dist-packages/tensorflow/python/eager/execute.py\u001b[0m in \u001b[0;36mquick_execute\u001b[0;34m(op_name, num_outputs, inputs, attrs, ctx, name)\u001b[0m\n\u001b[1;32m     58\u001b[0m     \u001b[0mctx\u001b[0m\u001b[0;34m.\u001b[0m\u001b[0mensure_initialized\u001b[0m\u001b[0;34m(\u001b[0m\u001b[0;34m)\u001b[0m\u001b[0;34m\u001b[0m\u001b[0;34m\u001b[0m\u001b[0m\n\u001b[1;32m     59\u001b[0m     tensors = pywrap_tfe.TFE_Py_Execute(ctx._handle, device_name, op_name,\n\u001b[0;32m---> 60\u001b[0;31m                                         inputs, attrs, num_outputs)\n\u001b[0m\u001b[1;32m     61\u001b[0m   \u001b[0;32mexcept\u001b[0m \u001b[0mcore\u001b[0m\u001b[0;34m.\u001b[0m\u001b[0m_NotOkStatusException\u001b[0m \u001b[0;32mas\u001b[0m \u001b[0me\u001b[0m\u001b[0;34m:\u001b[0m\u001b[0;34m\u001b[0m\u001b[0;34m\u001b[0m\u001b[0m\n\u001b[1;32m     62\u001b[0m     \u001b[0;32mif\u001b[0m \u001b[0mname\u001b[0m \u001b[0;32mis\u001b[0m \u001b[0;32mnot\u001b[0m \u001b[0;32mNone\u001b[0m\u001b[0;34m:\u001b[0m\u001b[0;34m\u001b[0m\u001b[0;34m\u001b[0m\u001b[0m\n",
      "\u001b[0;31mKeyboardInterrupt\u001b[0m: "
     ]
    }
   ],
   "source": [
    "# load json and create model\n",
    "from keras.models import model_from_json\n",
    "import os\n",
    "json_file = open('/content/model_01-01-21-updated.json', 'r')\n",
    "loaded_model_json = json_file.read()\n",
    "json_file.close()\n",
    "loaded_model = model_from_json(loaded_model_json)\n",
    "#load weights into new model\n",
    "loaded_model.load_weights(\"/content/model_01-01-21-updated.h5\")\n",
    "print(\"Loaded model from disk\")\n",
    "loaded_model.compile(loss='categorical_crossentropy', optimizer='adam', metrics=['accuracy'])\n",
    "score=loaded_model.evaluate(X_train, Y_train, verbose=0)"
   ]
  },
  {
   "cell_type": "code",
   "execution_count": null,
   "metadata": {
    "colab": {
     "base_uri": "https://localhost:8080/"
    },
    "id": "Kh2ReNGJzMwH",
    "outputId": "2c7f809c-6910-4c4f-ce68-10bb55b1e2eb"
   },
   "outputs": [
    {
     "name": "stdout",
     "output_type": "stream",
     "text": [
      "257/257 [==============================] - 39s 150ms/step - loss: 0.4189 - accuracy: 0.9261\n"
     ]
    },
    {
     "data": {
      "text/plain": [
       "[0.41894546151161194, 0.9260520339012146]"
      ]
     },
     "execution_count": 115,
     "metadata": {
      "tags": []
     },
     "output_type": "execute_result"
    }
   ],
   "source": [
    "accr_by_loaded=loaded_model.evaluate(X_test,Y_test)\n",
    "accr_by_loaded"
   ]
  },
  {
   "cell_type": "code",
   "execution_count": null,
   "metadata": {
    "colab": {
     "base_uri": "https://localhost:8080/"
    },
    "id": "-U4eOQaudmEh",
    "outputId": "ecc2d18c-30fa-4a8f-c02a-af98f631d680"
   },
   "outputs": [
    {
     "name": "stdout",
     "output_type": "stream",
     "text": [
      "WARNING:tensorflow:Model was constructed with shape (None, 170) for input KerasTensor(type_spec=TensorSpec(shape=(None, 170), dtype=tf.float32, name='embedding_6_input'), name='embedding_6_input', description=\"created by layer 'embedding_6_input'\"), but it was called on an input with incompatible shape (None, 150).\n"
     ]
    },
    {
     "name": "stderr",
     "output_type": "stream",
     "text": [
      "/usr/local/lib/python3.6/dist-packages/tensorflow/python/keras/engine/sequential.py:450: UserWarning:\n",
      "\n",
      "`model.predict_classes()` is deprecated and will be removed after 2021-01-01. Please use instead:* `np.argmax(model.predict(x), axis=-1)`,   if your model does multi-class classification   (e.g. if it uses a `softmax` last-layer activation).* `(model.predict(x) > 0.5).astype(\"int32\")`,   if your model does binary classification   (e.g. if it uses a `sigmoid` last-layer activation).\n",
      "\n"
     ]
    }
   ],
   "source": [
    "#predict using the saved model\n",
    "y_pred=model.predict_classes(X_test)#X_test in place of X_train"
   ]
  },
  {
   "cell_type": "code",
   "execution_count": null,
   "metadata": {
    "colab": {
     "base_uri": "https://localhost:8080/"
    },
    "id": "NjxRIMlllQDm",
    "outputId": "81c5ddad-5453-4306-89f3-792828438ace"
   },
   "outputs": [
    {
     "name": "stdout",
     "output_type": "stream",
     "text": [
      "[[1613   45    0    0   35    4]\n",
      " [  30 1576    2    0    1   11]\n",
      " [   5   12 1461   14    3   17]\n",
      " [   0    1    6 1261    0   26]\n",
      " [  59   16    0   19  755   39]\n",
      " [  11   23    6   58   28 1085]]\n",
      "Accuracy Score : 0.942714667963999\n",
      "Report : \n",
      "              precision    recall  f1-score   support\n",
      "\n",
      "           0       0.95      0.94      0.94      1718\n",
      "           1       0.97      0.94      0.96      1673\n",
      "           2       0.97      0.99      0.98      1475\n",
      "           3       0.97      0.93      0.95      1352\n",
      "           4       0.85      0.92      0.88       822\n",
      "           5       0.90      0.92      0.91      1182\n",
      "\n",
      "    accuracy                           0.94      8222\n",
      "   macro avg       0.94      0.94      0.94      8222\n",
      "weighted avg       0.94      0.94      0.94      8222\n",
      "\n",
      "      0     1     2     3    4     5\n",
      "0  1613    45     0     0   35     4\n",
      "1    30  1576     2     0    1    11\n",
      "2     5    12  1461    14    3    17\n",
      "3     0     1     6  1261    0    26\n",
      "4    59    16     0    19  755    39\n",
      "5    11    23     6    58   28  1085\n"
     ]
    }
   ],
   "source": [
    "#confusion Matrix to LSTM-Classifier\n",
    "#y_pred=model.predict_classes(X_test) # predict_classes used the round variable values instead of points\n",
    "from sklearn.metrics import confusion_matrix \n",
    "from sklearn.metrics import accuracy_score \n",
    "from sklearn.metrics import classification_report \n",
    "import numpy as np\n",
    "tests=np.argmax(Y_test, axis=1) # write the Y_test in place of Y_train convert the decimal points to rounded \n",
    "# we provide the confusion matrix a rounded value otherwise a classification matrix problem arieses\n",
    "cm=confusion_matrix(y_pred, tests)\n",
    "print(cm)\n",
    "\n",
    "pd_cm=pd.DataFrame(cm)\n",
    "\n",
    "print('Accuracy Score :',accuracy_score(tests, y_pred)) \n",
    "print('Report : ') \n",
    "print(classification_report(tests, y_pred))  \n",
    "print(pd_cm)\n",
    "\n"
   ]
  },
  {
   "cell_type": "code",
   "execution_count": null,
   "metadata": {
    "colab": {
     "base_uri": "https://localhost:8080/",
     "height": 567
    },
    "id": "6yxZz0Uf0z0l",
    "outputId": "ca8cc4f2-d7dd-4cc3-e3b3-abd48fb7cdef"
   },
   "outputs": [
    {
     "data": {
      "text/html": [
       "<div>\n",
       "<style scoped>\n",
       "    .dataframe tbody tr th:only-of-type {\n",
       "        vertical-align: middle;\n",
       "    }\n",
       "\n",
       "    .dataframe tbody tr th {\n",
       "        vertical-align: top;\n",
       "    }\n",
       "\n",
       "    .dataframe thead th {\n",
       "        text-align: right;\n",
       "    }\n",
       "</style>\n",
       "<table border=\"1\" class=\"dataframe\">\n",
       "  <thead>\n",
       "    <tr style=\"text-align: right;\">\n",
       "      <th></th>\n",
       "      <th>Precision</th>\n",
       "      <th>Recall</th>\n",
       "      <th>F1-Score</th>\n",
       "      <th>Support</th>\n",
       "    </tr>\n",
       "  </thead>\n",
       "  <tbody>\n",
       "    <tr>\n",
       "      <th>Anti-Religion</th>\n",
       "      <td>0.930351</td>\n",
       "      <td>0.956345</td>\n",
       "      <td>0.943169</td>\n",
       "      <td>1718.0</td>\n",
       "    </tr>\n",
       "    <tr>\n",
       "      <th>Anti-State</th>\n",
       "      <td>0.959330</td>\n",
       "      <td>0.958757</td>\n",
       "      <td>0.959043</td>\n",
       "      <td>1673.0</td>\n",
       "    </tr>\n",
       "    <tr>\n",
       "      <th>Neutral</th>\n",
       "      <td>0.926721</td>\n",
       "      <td>0.994576</td>\n",
       "      <td>0.959451</td>\n",
       "      <td>1475.0</td>\n",
       "    </tr>\n",
       "    <tr>\n",
       "      <th>Racism</th>\n",
       "      <td>0.970477</td>\n",
       "      <td>0.948225</td>\n",
       "      <td>0.959222</td>\n",
       "      <td>1352.0</td>\n",
       "    </tr>\n",
       "    <tr>\n",
       "      <th>Sexism</th>\n",
       "      <td>0.901266</td>\n",
       "      <td>0.866180</td>\n",
       "      <td>0.883375</td>\n",
       "      <td>822.0</td>\n",
       "    </tr>\n",
       "    <tr>\n",
       "      <th>Offensive</th>\n",
       "      <td>0.949541</td>\n",
       "      <td>0.875635</td>\n",
       "      <td>0.911092</td>\n",
       "      <td>1182.0</td>\n",
       "    </tr>\n",
       "  </tbody>\n",
       "</table>\n",
       "</div>"
      ],
      "text/plain": [
       "               Precision    Recall  F1-Score  Support\n",
       "Anti-Religion   0.930351  0.956345  0.943169   1718.0\n",
       "Anti-State      0.959330  0.958757  0.959043   1673.0\n",
       "Neutral         0.926721  0.994576  0.959451   1475.0\n",
       "Racism          0.970477  0.948225  0.959222   1352.0\n",
       "Sexism          0.901266  0.866180  0.883375    822.0\n",
       "Offensive       0.949541  0.875635  0.911092   1182.0"
      ]
     },
     "execution_count": 112,
     "metadata": {
      "tags": []
     },
     "output_type": "execute_result"
    },
    {
     "data": {
      "text/plain": [
       "<matplotlib.table.Table at 0x7f04f827f9b0>"
      ]
     },
     "execution_count": 112,
     "metadata": {
      "tags": []
     },
     "output_type": "execute_result"
    },
    {
     "data": {
      "image/png": "[encoded data removed]",
      "text/plain": [
       "<Figure size 432x288 with 1 Axes>"
      ]
     },
     "metadata": {
      "tags": []
     },
     "output_type": "display_data"
    }
   ],
   "source": [
    "#printing classification report \n",
    "report = classification_report(tests, y_pred, output_dict=True)\n",
    "df_report = pd.DataFrame(report).transpose()\n",
    "df_report.index=[\"Anti-Religion\",\"Anti-State\", \"Neutral\", \"Racism\", \"Sexism\", \"Offensive\",\"accuracy\",\"macro avg\",\"weighted avg\"]\n",
    "df_report.columns=[\"Precision\", \"Recall\", \"F1-Score\", \"Support\"]\n",
    "df_report[0:6]\n",
    "#saving the classification report as a png\n",
    "from pandas.plotting import table # EDIT: see deprecation warnings below\n",
    "ax = plt.subplot(frame_on=False) # no visible frame\n",
    "ax.xaxis.set_visible(False)  # hide the x axis\n",
    "ax.yaxis.set_visible(False)  # hide the y axis\n",
    "\n",
    "table(ax, df_report[0:6],loc='top')  # where df is your data frame\n",
    "\n",
    "plt.savefig('Classification_report.png', dpi=300,bbox_inches='tight')"
   ]
  },
  {
   "cell_type": "code",
   "execution_count": null,
   "metadata": {
    "colab": {
     "base_uri": "https://localhost:8080/",
     "height": 352
    },
    "id": "6QKg4trPDtCR",
    "outputId": "34dc6341-76f7-46de-91e3-2c5cba6abc74"
   },
   "outputs": [
    {
     "data": {
      "text/plain": [
       "<matplotlib.axes._subplots.AxesSubplot at 0x7f0303aae080>"
      ]
     },
     "execution_count": 122,
     "metadata": {
      "tags": []
     },
     "output_type": "execute_result"
    },
    {
     "data": {
      "text/plain": [
       "Text(0.5, 15.0, 'Predicted')"
      ]
     },
     "execution_count": 122,
     "metadata": {
      "tags": []
     },
     "output_type": "execute_result"
    },
    {
     "data": {
      "text/plain": [
       "Text(33.0, 0.5, 'Actual')"
      ]
     },
     "execution_count": 122,
     "metadata": {
      "tags": []
     },
     "output_type": "execute_result"
    },
    {
     "data": {
      "image/png": "[encoded data removed]",
      "text/plain": [
       "<Figure size 432x288 with 2 Axes>"
      ]
     },
     "metadata": {
      "tags": []
     },
     "output_type": "display_data"
    }
   ],
   "source": [
    "#confusion matrix by seaborn\n",
    "import pandas as pd\n",
    "import seaborn as sn\n",
    "import matplotlib.pyplot as plt\n",
    "\n",
    "data = {'y_Actual':    tests,\n",
    "        'y_Predicted': y_pred,\n",
    "        }\n",
    "\n",
    "# df = pd.DataFrame(data, columns=['y_Actual','y_Predicted', 'Lables'])\n",
    "# df.head()\n",
    "# confusion_matrix = pd.crosstab(df['y_Actual'], df['y_Predicted'],rownames=['Actual'],colnames=['Predicted'])\n",
    "# confusion_matrix\n",
    "# sn.heatmap(confusion_matrix, annot=True,fmt=\"d\", cmap=\"YlGnBu\")\n",
    "# plt.savefig('save_as_a_png.png', dpi=400)\n",
    "\n",
    "\n",
    "pd_cm.columns=[\"Anti-Religion\",\"Anti-State\", \"Neutral\", \"Racism\", \"Sexism\", \"Offensive\"]\n",
    "pd_cm.index=[\"Anti-Religion\",\"Anti-State\", \"Neutral\", \"Racism\", \"Sexism\", \"Offensive\"]\n",
    "sn.heatmap(pd_cm, annot=True,fmt=\"d\", cmap=\"YlGnBu\")\n",
    "plt.xlabel('Predicted')\n",
    "plt.ylabel(\"Actual\")\n",
    "plt.savefig(\"stacked_lstm(94).png\" ,dpi=300, bbox_inches='tight')\n",
    "plt.show()"
   ]
  },
  {
   "cell_type": "code",
   "execution_count": null,
   "metadata": {
    "id": "aYRe9WOEE78w"
   },
   "outputs": [],
   "source": [
    "my_categories=[\"Anti-Religion\",\"Anti-State\", \"Neutral\", \"Offensive\",  \"Racism\", \"Sexism\"]"
   ]
  },
  {
   "cell_type": "code",
   "execution_count": null,
   "metadata": {
    "colab": {
     "base_uri": "https://localhost:8080/",
     "height": 363
    },
    "id": "Df68b0Y8E5pZ",
    "outputId": "8fe99d57-1365-49cc-e20c-338e963551ea"
   },
   "outputs": [
    {
     "name": "stderr",
     "output_type": "stream",
     "text": [
      "/usr/local/lib/python3.6/dist-packages/tensorflow/python/keras/engine/sequential.py:425: UserWarning:\n",
      "\n",
      "`model.predict_proba()` is deprecated and will be removed after 2021-01-01. Please use `model.predict()` instead.\n",
      "\n"
     ]
    },
    {
     "data": {
      "image/png": "[encoded data removed]",
      "text/plain": [
       "<Figure size 432x288 with 1 Axes>"
      ]
     },
     "metadata": {
      "tags": []
     },
     "output_type": "display_data"
    }
   ],
   "source": [
    "meu.plot_model_roc_curve(model_2, X_test, Y_test, class_names=my_categories)\n",
    "plt.savefig('/content/Simple_LSTM_ROC.png', dpi=400, bbox_inches=\"tight\")\n",
    "plt.show()"
   ]
  },
  {
   "cell_type": "code",
   "execution_count": null,
   "metadata": {
    "colab": {
     "base_uri": "https://localhost:8080/",
     "height": 332
    },
    "id": "7d0rlmVXqpQB",
    "outputId": "4e17d00c-fa60-4c16-97f9-780b508efd73"
   },
   "outputs": [
    {
     "data": {
      "image/png": "[encoded data removed]",
      "text/plain": [
       "<Figure size 432x288 with 1 Axes>"
      ]
     },
     "metadata": {
      "tags": []
     },
     "output_type": "display_data"
    }
   ],
   "source": [
    "#saving confusion matrix as a table \n",
    "from pandas.plotting import table # EDIT: see deprecation warnings below\n",
    "\n",
    "ax = plt.subplot(111, frame_on=False) # no visible frame\n",
    "ax.xaxis.set_visible(False)  # hide the x axis\n",
    "ax.yaxis.set_visible(False)  # hide the y axis\n",
    "\n",
    "table(ax, pd_cm,loc='top')  # where df is your data frame\n",
    "plt.ylabel=\"Actual\"\n",
    "plt.xlabel=\"Predicted\"\n",
    "plt.savefig('mytable.png', dpi=300,bbox_inches='tight')\n",
    "\n",
    "\n",
    "\n"
   ]
  },
  {
   "cell_type": "code",
   "execution_count": null,
   "metadata": {
    "colab": {
     "base_uri": "https://localhost:8080/"
    },
    "id": "qf1dw3ajjoIx",
    "outputId": "da08cab9-296e-47b8-dd9c-f34d1b7633c3"
   },
   "outputs": [
    {
     "name": "stdout",
     "output_type": "stream",
     "text": [
      "[[1.3565327e-07 1.3130823e-07 2.5842852e-05 9.9989712e-01 1.6655040e-08\n",
      "  7.6758697e-05]] Racism\n",
      "Racism\n"
     ]
    }
   ],
   "source": [
    "#Test with a New tweet\n",
    "new_complaint = ['you bloody bitch ']\n",
    "seq = tokenizer.texts_to_sequences(new_complaint)\n",
    "padded = pad_sequences(seq, maxlen=MAX_SEQUENCE_LENGTH)\n",
    "pred = model.predict(padded)\n",
    "pred= loaded_model.predict(padded)\n",
    "labels = [\"Anti-Religion\",\"Anti-State\", \"Neutral\", \"Racism\", \"Sexism\", \"Offensive\" ]\n",
    "print(pred, labels[np.argmax(pred)])\n",
    "print(labels[np.argmax(pred)])"
   ]
  }
 ],
 "metadata": {
  "accelerator": "GPU",
  "colab": {
   "collapsed_sections": [],
   "name": "Multiclass_Hate_Classification.ipynb",
   "provenance": []
  },
  "kernelspec": {
   "display_name": "Python 3 (ipykernel)",
   "language": "python",
   "name": "python3"
  },
  "language_info": {
   "codemirror_mode": {
    "name": "ipython",
    "version": 3
   },
   "file_extension": ".py",
   "mimetype": "text/x-python",
   "name": "python",
   "nbconvert_exporter": "python",
   "pygments_lexer": "ipython3",
   "version": "3.12.3"
  }
 },
 "nbformat": 4,
 "nbformat_minor": 1
}
